{
 "cells": [
  {
   "cell_type": "markdown",
   "metadata": {},
   "source": [
    "# Pipeline As A Notebook"
   ]
  },
  {
   "cell_type": "markdown",
   "metadata": {},
   "source": [
    "## Database Connection"
   ]
  },
  {
   "cell_type": "code",
   "execution_count": null,
   "metadata": {},
   "outputs": [],
   "source": [
    "import duckdb\n",
    "\n",
    "# create a connection to a file called 'test_database.db'\n",
    "con = duckdb.connect(\"../data/database_jupyter.db\")\n",
    "year = 2020"
   ]
  },
  {
   "cell_type": "markdown",
   "metadata": {},
   "source": [
    "## Create Tables\n",
    "If they do not exist create the expected tables"
   ]
  },
  {
   "cell_type": "markdown",
   "metadata": {},
   "source": [
    "Would need to include code for table migration/translation when new SVI datasets are downloaded\n",
    "\n",
    "We will not precreate Zillows Bronze table, as those will be overwrites exclusively and then need to be pivoted. "
   ]
  },
  {
   "cell_type": "code",
   "execution_count": 10,
   "metadata": {},
   "outputs": [
    {
     "data": {
      "text/plain": [
       "┌─────────┐\n",
       "│  name   │\n",
       "│ varchar │\n",
       "├─────────┤\n",
       "│ 0 rows  │\n",
       "└─────────┘"
      ]
     },
     "execution_count": 10,
     "metadata": {},
     "output_type": "execute_result"
    }
   ],
   "source": [
    "con.sql(\"SHOW TABLES\")"
   ]
  },
  {
   "cell_type": "code",
   "execution_count": 16,
   "metadata": {},
   "outputs": [
    {
     "data": {
      "text/plain": [
       "┌───────────────────────┐\n",
       "│         name          │\n",
       "│        varchar        │\n",
       "├───────────────────────┤\n",
       "│ crosswalk_zillow_cbsa │\n",
       "│ crosswalk_zip_tract   │\n",
       "│ svi                   │\n",
       "└───────────────────────┘"
      ]
     },
     "execution_count": 16,
     "metadata": {},
     "output_type": "execute_result"
    }
   ],
   "source": [
    "# create_table_hud_cbsa_zip = \"CREATE OR REPLACE TABLE crosswalk_cbsa_zip (CBSA BIGINT, ZIP BIGINT, RES_RATIO DOUBLE, BUS_RATIO DOUBLE, OTH_RATIO DOUBLE, TOT_RATIO DOUBLE, start_date DATE, end_date DATE, load_quarter VARCHAR)\"\n",
    "create_table_zillow_zillow_cbsa = \"CREATE OR REPLACE TABLE crosswalk_zillow_cbsa (CountyName varchar, StateName varchar, StateFIPS INT64, CountyFIPS INT64, MetroName_Zillow varchar, CBSAName varchar, CountyRegionID_Zillow INT64, MetroRegionID_Zillow DOUBLE, FIPS INT64, CBSACode DOUBLE)\"\n",
    "# con.sql(create_table_hud_cbsa_zip)\n",
    "con.sql(create_table_zillow_zillow_cbsa)\n",
    "\n",
    "create_table_hud_zip_tract = \"CREATE OR REPLACE TABLE crosswalk_zip_tract (ZIP BIGINT, TRACT BIGINT, RES_RATIO DOUBLE, BUS_RATIO DOUBLE, OTH_RATIO DOUBLE, TOT_RATIO DOUBLE, start_date DATE, end_date DATE, load_quarter VARCHAR)\"\n",
    "create_table_svi = \"CREATE OR REPLACE TABLE svi (STATE VARCHAR, ST_ABBR VARCHAR, STCNTY BIGINT, COUNTY VARCHAR, FIPS BIGINT, LOCATION VARCHAR, RPL_THEME1 DOUBLE, RPL_THEME2 DOUBLE, RPL_THEME3 DOUBLE, RPL_THEME4 DOUBLE, RPL_THEMES DOUBLE, year BIGINT)\"\n",
    "con.sql(create_table_hud_zip_tract)\n",
    "con.sql(create_table_svi)\n",
    "con.sql(\"SHOW TABLES\")"
   ]
  },
  {
   "cell_type": "markdown",
   "metadata": {},
   "source": [
    "## Bronze"
   ]
  },
  {
   "cell_type": "markdown",
   "metadata": {},
   "source": [
    "### Cross Walk Tables"
   ]
  },
  {
   "cell_type": "code",
   "execution_count": 31,
   "metadata": {},
   "outputs": [],
   "source": [
    "import glob\n",
    "import pandas as pd\n",
    "import re\n",
    "from datetime import datetime, timedelta\n",
    "from dateutil.relativedelta import relativedelta\n",
    "\n",
    "## Reads from disk in the expected format <type>_<end_month><year>.xlsx\n",
    "files_to_load = glob.glob(f\"../chosen_data/crosswalk/zip_tract/*{year}.xlsx\")\n",
    "pattern = r\"(\\w+)_(\\w+)_(\\d{2})(\\d{4})\\.xlsx\"\n",
    "\n",
    "dfs = []\n",
    "for file in files_to_load:\n",
    "    match = re.search(pattern, file)\n",
    "    cola = match.group(1)\n",
    "    colb = match.group(2)\n",
    "    month = match.group(3)\n",
    "    date = datetime.strptime(f\"{year}-{month}-01\", \"%Y-%m-%d\")\n",
    "    start_date = date - relativedelta(months=2)\n",
    "\n",
    "    if month == \"12\":\n",
    "        end_date = date.replace(month=12, day=31)\n",
    "    else:\n",
    "        end_date = date.replace(month=date.month + 1, day=1) - timedelta(days=1)\n",
    "\n",
    "    load_quarter = f\"{month}{year}\"\n",
    "\n",
    "    # Load the XLSX, apply the start and end dates. Union, and Return\n",
    "    df = pd.read_excel(file)[\n",
    "        [cola.upper(), colb.upper(), \"RES_RATIO\", \"BUS_RATIO\", \"OTH_RATIO\", \"TOT_RATIO\"]\n",
    "    ]\n",
    "    df[\"start_date\"] = start_date.strftime(\"%Y-%m-%d\")\n",
    "    df[\"end_date\"] = end_date.strftime(\"%Y-%m-%d\")\n",
    "    df[\"load_quarter\"] = load_quarter\n",
    "    dfs += [df]\n",
    "zip_tract_df = pd.concat(dfs, axis=0, ignore_index=True)"
   ]
  },
  {
   "cell_type": "markdown",
   "metadata": {},
   "source": [
    "Delete and Insert into tables since these would be overwrite of entire years if loaded"
   ]
  },
  {
   "cell_type": "code",
   "execution_count": 32,
   "metadata": {},
   "outputs": [],
   "source": [
    "con.sql(\n",
    "    \"DELETE FROM crosswalk_zip_tract WHERE load_quarter IN (SELECT DISTINCT load_quarter FROM zip_tract_df)\"\n",
    ")"
   ]
  },
  {
   "cell_type": "code",
   "execution_count": 33,
   "metadata": {},
   "outputs": [],
   "source": [
    "con.sql(\n",
    "    \"\"\"\n",
    "INSERT INTO crosswalk_zip_tract FROM\n",
    "    (SELECT * FROM zip_tract_df);\n",
    "           \"\"\"\n",
    ")"
   ]
  },
  {
   "cell_type": "code",
   "execution_count": 34,
   "metadata": {},
   "outputs": [
    {
     "data": {
      "text/plain": [
       "┌──────────────┐\n",
       "│ load_quarter │\n",
       "│   varchar    │\n",
       "├──────────────┤\n",
       "│ 062020       │\n",
       "│ 122020       │\n",
       "│ 032020       │\n",
       "│ 092020       │\n",
       "└──────────────┘"
      ]
     },
     "execution_count": 34,
     "metadata": {},
     "output_type": "execute_result"
    }
   ],
   "source": [
    "con.sql(\"SELECT DISTINCT load_quarter FROM crosswalk_zip_tract\")"
   ]
  },
  {
   "cell_type": "markdown",
   "metadata": {},
   "source": [
    "### Zillow Cross Walk"
   ]
  },
  {
   "cell_type": "code",
   "execution_count": 35,
   "metadata": {},
   "outputs": [],
   "source": [
    "import pandas as pd\n",
    "\n",
    "# Todo: Can we find zillow crosswalk that supports multi year data?\n",
    "df_zillow_county_crosswalk = pd.read_csv(\n",
    "    \"../chosen_data/zillow/CountyCrossWalk_Zillow.csv\"\n",
    ")"
   ]
  },
  {
   "cell_type": "code",
   "execution_count": 36,
   "metadata": {},
   "outputs": [],
   "source": [
    "con.sql(\"DELETE FROM crosswalk_zillow_cbsa\")\n",
    "\n",
    "con.sql(\n",
    "    \"\"\"\n",
    "INSERT INTO crosswalk_zillow_cbsa FROM\n",
    "    (SELECT * FROM df_zillow_county_crosswalk);\n",
    "           \"\"\"\n",
    ")"
   ]
  },
  {
   "cell_type": "markdown",
   "metadata": {},
   "source": [
    "### SVI"
   ]
  },
  {
   "cell_type": "code",
   "execution_count": 37,
   "metadata": {},
   "outputs": [],
   "source": [
    "import glob\n",
    "import pandas as pd\n",
    "\n",
    "# Find all crosswalk files in the directory\n",
    "files_to_load = glob.glob(f\"../chosen_data/svi/SVI_{year}_US.csv\")\n",
    "\n",
    "if not files_to_load:\n",
    "    raise ValueError(f\"No file found for year {year} in ../chosen_data/svi/!\")\n",
    "if len(files_to_load) > 1:\n",
    "    raise ValueError(\n",
    "        f\"Multiple files found for {year} in ../chosen_data/svi/!\\n{files_to_load}\"\n",
    "    )\n",
    "\n",
    "file = files_to_load[0]\n",
    "df_svi = pd.read_csv(file)[\n",
    "    [\n",
    "        \"STATE\",\n",
    "        \"ST_ABBR\",\n",
    "        \"STCNTY\",\n",
    "        \"COUNTY\",\n",
    "        \"FIPS\",\n",
    "        \"LOCATION\",\n",
    "        \"RPL_THEME1\",\n",
    "        \"RPL_THEME2\",\n",
    "        \"RPL_THEME3\",\n",
    "        \"RPL_THEME4\",\n",
    "        \"RPL_THEMES\",\n",
    "    ]\n",
    "]\n",
    "df_svi[\"year\"] = year"
   ]
  },
  {
   "cell_type": "code",
   "execution_count": 38,
   "metadata": {},
   "outputs": [],
   "source": [
    "con.sql(\"DELETE FROM svi WHERE year IN (SELECT DISTINCT year FROM df_svi)\")\n",
    "\n",
    "con.sql(\n",
    "    \"\"\"\n",
    "INSERT INTO svi FROM\n",
    "    (SELECT * FROM df_svi);\n",
    "           \"\"\"\n",
    ")"
   ]
  },
  {
   "cell_type": "markdown",
   "metadata": {},
   "source": [
    "### Zillow Datasets"
   ]
  },
  {
   "cell_type": "code",
   "execution_count": 39,
   "metadata": {},
   "outputs": [],
   "source": [
    "import pandas as pd\n",
    "\n",
    "df_zillow_zhvi_sfr_zip = pd.read_csv(\n",
    "    \"../chosen_data/zillow/Zip_zhvi_uc_sfr_tier_0.33_0.67_sm_sa_month.csv\"\n",
    ")"
   ]
  },
  {
   "cell_type": "code",
   "execution_count": 40,
   "metadata": {},
   "outputs": [],
   "source": [
    "con.sql(\n",
    "    \"\"\"\n",
    "CREATE OR REPLACE TABLE zillow_zhvi_sfr_zip_bronze AS\n",
    "    SELECT * FROM df_zillow_zhvi_sfr_zip;\n",
    "           \"\"\"\n",
    ")"
   ]
  },
  {
   "cell_type": "code",
   "execution_count": 42,
   "metadata": {},
   "outputs": [
    {
     "data": {
      "text/plain": [
       "┌────────────────────────────┐\n",
       "│            name            │\n",
       "│          varchar           │\n",
       "├────────────────────────────┤\n",
       "│ crosswalk_zillow_cbsa      │\n",
       "│ crosswalk_zip_tract        │\n",
       "│ svi                        │\n",
       "│ tracts_per_zip_silver      │\n",
       "│ zillow_zhvi_sfr_zip_bronze │\n",
       "└────────────────────────────┘"
      ]
     },
     "execution_count": 42,
     "metadata": {},
     "output_type": "execute_result"
    }
   ],
   "source": [
    "con.sql(\"SHOW TABLES\")"
   ]
  },
  {
   "cell_type": "code",
   "execution_count": null,
   "metadata": {},
   "outputs": [
    {
     "data": {
      "text/plain": [
       "┌───────┬─────────────┬────────────────────────┬───────────────────────┬──────────────────────┬───────────────────────┬────────────┬────────────┬──────────────┐\n",
       "│  ZIP  │    TRACT    │       RES_RATIO        │       BUS_RATIO       │      OTH_RATIO       │       TOT_RATIO       │ start_date │  end_date  │ load_quarter │\n",
       "│ int64 │    int64    │         double         │        double         │        double        │        double         │    date    │    date    │   varchar    │\n",
       "├───────┼─────────────┼────────────────────────┼───────────────────────┼──────────────────────┼───────────────────────┼────────────┼────────────┼──────────────┤\n",
       "│   501 │ 36103158607 │                    0.0 │                   1.0 │                  0.0 │                   1.0 │ 2020-01-01 │ 2020-03-31 │ 032020       │\n",
       "│   601 │ 72001956800 │    0.01481610597873453 │   0.01256281407035176 │   0.0440251572327044 │  0.015411503018748014 │ 2020-01-01 │ 2020-03-31 │ 032020       │\n",
       "│   601 │ 72113071700 │    0.16105978734530244 │   0.20603015075376885 │   0.1320754716981132 │   0.16317127422942485 │ 2020-01-01 │ 2020-03-31 │ 032020       │\n",
       "│   601 │ 72001956600 │    0.17291267212829003 │    0.3542713567839196 │   0.3584905660377358 │    0.1890689545598983 │ 2020-01-01 │ 2020-03-31 │ 032020       │\n",
       "│   601 │ 72001956700 │      0.651211434547673 │    0.4271356783919598 │  0.46540880503144655 │    0.6323482681919288 │ 2020-01-01 │ 2020-03-31 │ 032020       │\n",
       "│   602 │ 72005400300 │                    0.0 │ 0.0012062726176115801 │                  0.0 │ 8.071025020177563e-05 │ 2020-01-01 │ 2020-03-31 │ 032020       │\n",
       "│   602 │ 72003430300 │    0.23818309611667546 │    0.4680337756332931 │  0.45251396648044695 │    0.2566585956416465 │ 2020-01-01 │ 2020-03-31 │ 032020       │\n",
       "│   602 │ 72003430200 │     0.7098928132138465 │    0.5235223160434258 │    0.547486033519553 │    0.6950766747376916 │ 2020-01-01 │ 2020-03-31 │ 032020       │\n",
       "│   602 │ 72003430602 │   0.051924090669478125 │  0.007237635705669481 │                  0.0 │  0.048184019370460046 │ 2020-01-01 │ 2020-03-31 │ 032020       │\n",
       "│   603 │ 72005401100 │    0.01636037651277454 │  0.041589648798521256 │ 0.017761989342806393 │  0.017801261991484123 │ 2020-01-01 │ 2020-03-31 │ 032020       │\n",
       "│    ·  │      ·      │             ·          │            ·          │           ·          │            ·          │     ·      │     ·      │   ·          │\n",
       "│    ·  │      ·      │             ·          │            ·          │           ·          │            ·          │     ·      │     ·      │   ·          │\n",
       "│    ·  │      ·      │             ·          │            ·          │           ·          │            ·          │     ·      │     ·      │   ·          │\n",
       "│  7304 │ 34017004000 │    0.08726463894061659 │   0.08884859474161379 │  0.12189616252821671 │   0.09132637595808253 │ 2020-01-01 │ 2020-03-31 │ 032020       │\n",
       "│  7304 │ 34017004600 │    0.03920960066211463 │   0.07162284678150499 │  0.07298720842738901 │   0.04464556359069848 │ 2020-01-01 │ 2020-03-31 │ 032020       │\n",
       "│  7304 │ 34017004700 │    0.07324643078833024 │   0.06708975521305531 │  0.08690744920993228 │   0.07452474775906119 │ 2020-01-01 │ 2020-03-31 │ 032020       │\n",
       "│  7304 │ 34017003000 │   0.013449203393337472 │  0.019945602901178604 │  0.02294958615500376 │  0.014852985753258564 │ 2020-01-01 │ 2020-03-31 │ 032020       │\n",
       "│  7304 │ 34017004102 │    0.09274777570866956 │   0.15684496826835903 │  0.08013544018058691 │    0.0943575975403802 │ 2020-01-01 │ 2020-03-31 │ 032020       │\n",
       "│  7304 │ 34017002700 │ 0.00010345541071798055 │                   0.0 │                  0.0 │ 8.660633092279046e-05 │ 2020-01-01 │ 2020-03-31 │ 032020       │\n",
       "│  7304 │ 34017004400 │    0.05446927374301676 │   0.03626473254759746 │  0.07298720842738901 │   0.05573117394881566 │ 2020-01-01 │ 2020-03-31 │ 032020       │\n",
       "│  7304 │ 34017006800 │   0.017639147527415685 │  0.013599274705349048 │ 0.024830699774266364 │  0.018273935824708785 │ 2020-01-01 │ 2020-03-31 │ 032020       │\n",
       "│  7304 │ 34017004300 │    0.04960686943927167 │   0.06255666364460562 │  0.05417607223476298 │   0.05075130992075521 │ 2020-01-01 │ 2020-03-31 │ 032020       │\n",
       "│  7304 │ 34017004800 │    0.05612456031450445 │   0.10970081595648232 │   0.0654627539503386 │   0.05975836833672542 │ 2020-01-01 │ 2020-03-31 │ 032020       │\n",
       "├───────┴─────────────┴────────────────────────┴───────────────────────┴──────────────────────┴───────────────────────┴────────────┴────────────┴──────────────┤\n",
       "│ ? rows (>9999 rows, 20 shown)                                                                                                                      9 columns │\n",
       "└──────────────────────────────────────────────────────────────────────────────────────────────────────────────────────────────────────────────────────────────┘"
      ]
     },
     "execution_count": 45,
     "metadata": {},
     "output_type": "execute_result"
    }
   ],
   "source": [
    "con.sql(\"SELECT * FROM crosswalk_zip_tract\")"
   ]
  },
  {
   "cell_type": "markdown",
   "metadata": {},
   "source": [
    "## Silver Tables\n",
    "\n",
    "* crosswalk zillowid to tract\n",
    "* Zillow pivoted\n",
    "* Zillow with SVI\n"
   ]
  },
  {
   "cell_type": "code",
   "execution_count": 46,
   "metadata": {},
   "outputs": [],
   "source": [
    "con.sql(\n",
    "    \"\"\"\n",
    "CREATE OR REPLACE TABLE tracts_per_zip_silver AS\n",
    "(SELECT \n",
    "    ZIP as zip, \n",
    "    start_date, \n",
    "    end_date, \n",
    "    len(list(TRACT)) as len_tracts, \n",
    "    list(TRACT) as tracts \n",
    "FROM (\n",
    "    SELECT \n",
    "        ZIP, \n",
    "        TRACT, \n",
    "        start_date, \n",
    "        end_date \n",
    "    FROM crosswalk_zip_tract         \n",
    "    GROUP BY \n",
    "        ZIP, \n",
    "        TRACT, \n",
    "        start_date, \n",
    "        end_date\n",
    "    ) \n",
    "GROUP BY\n",
    "    ZIP, \n",
    "    start_date, \n",
    "    end_date \n",
    "ORDER BY zip, start_date DESC)\n",
    "\"\"\"\n",
    ")"
   ]
  },
  {
   "cell_type": "code",
   "execution_count": 47,
   "metadata": {},
   "outputs": [
    {
     "data": {
      "text/plain": [
       "┌───────┬─────────────┬────────────────────────┬───────────────────────┬──────────────────────┬───────────────────────┬────────────┬────────────┬──────────────┐\n",
       "│  ZIP  │    TRACT    │       RES_RATIO        │       BUS_RATIO       │      OTH_RATIO       │       TOT_RATIO       │ start_date │  end_date  │ load_quarter │\n",
       "│ int64 │    int64    │         double         │        double         │        double        │        double         │    date    │    date    │   varchar    │\n",
       "├───────┼─────────────┼────────────────────────┼───────────────────────┼──────────────────────┼───────────────────────┼────────────┼────────────┼──────────────┤\n",
       "│   501 │ 36103158607 │                    0.0 │                   1.0 │                  0.0 │                   1.0 │ 2020-01-01 │ 2020-03-31 │ 032020       │\n",
       "│   601 │ 72001956800 │    0.01481610597873453 │   0.01256281407035176 │   0.0440251572327044 │  0.015411503018748014 │ 2020-01-01 │ 2020-03-31 │ 032020       │\n",
       "│   601 │ 72113071700 │    0.16105978734530244 │   0.20603015075376885 │   0.1320754716981132 │   0.16317127422942485 │ 2020-01-01 │ 2020-03-31 │ 032020       │\n",
       "│   601 │ 72001956600 │    0.17291267212829003 │    0.3542713567839196 │   0.3584905660377358 │    0.1890689545598983 │ 2020-01-01 │ 2020-03-31 │ 032020       │\n",
       "│   601 │ 72001956700 │      0.651211434547673 │    0.4271356783919598 │  0.46540880503144655 │    0.6323482681919288 │ 2020-01-01 │ 2020-03-31 │ 032020       │\n",
       "│   602 │ 72005400300 │                    0.0 │ 0.0012062726176115801 │                  0.0 │ 8.071025020177563e-05 │ 2020-01-01 │ 2020-03-31 │ 032020       │\n",
       "│   602 │ 72003430300 │    0.23818309611667546 │    0.4680337756332931 │  0.45251396648044695 │    0.2566585956416465 │ 2020-01-01 │ 2020-03-31 │ 032020       │\n",
       "│   602 │ 72003430200 │     0.7098928132138465 │    0.5235223160434258 │    0.547486033519553 │    0.6950766747376916 │ 2020-01-01 │ 2020-03-31 │ 032020       │\n",
       "│   602 │ 72003430602 │   0.051924090669478125 │  0.007237635705669481 │                  0.0 │  0.048184019370460046 │ 2020-01-01 │ 2020-03-31 │ 032020       │\n",
       "│   603 │ 72005401100 │    0.01636037651277454 │  0.041589648798521256 │ 0.017761989342806393 │  0.017801261991484123 │ 2020-01-01 │ 2020-03-31 │ 032020       │\n",
       "│    ·  │      ·      │             ·          │            ·          │           ·          │            ·          │     ·      │     ·      │   ·          │\n",
       "│    ·  │      ·      │             ·          │            ·          │           ·          │            ·          │     ·      │     ·      │   ·          │\n",
       "│    ·  │      ·      │             ·          │            ·          │           ·          │            ·          │     ·      │     ·      │   ·          │\n",
       "│  7304 │ 34017004000 │    0.08726463894061659 │   0.08884859474161379 │  0.12189616252821671 │   0.09132637595808253 │ 2020-01-01 │ 2020-03-31 │ 032020       │\n",
       "│  7304 │ 34017004600 │    0.03920960066211463 │   0.07162284678150499 │  0.07298720842738901 │   0.04464556359069848 │ 2020-01-01 │ 2020-03-31 │ 032020       │\n",
       "│  7304 │ 34017004700 │    0.07324643078833024 │   0.06708975521305531 │  0.08690744920993228 │   0.07452474775906119 │ 2020-01-01 │ 2020-03-31 │ 032020       │\n",
       "│  7304 │ 34017003000 │   0.013449203393337472 │  0.019945602901178604 │  0.02294958615500376 │  0.014852985753258564 │ 2020-01-01 │ 2020-03-31 │ 032020       │\n",
       "│  7304 │ 34017004102 │    0.09274777570866956 │   0.15684496826835903 │  0.08013544018058691 │    0.0943575975403802 │ 2020-01-01 │ 2020-03-31 │ 032020       │\n",
       "│  7304 │ 34017002700 │ 0.00010345541071798055 │                   0.0 │                  0.0 │ 8.660633092279046e-05 │ 2020-01-01 │ 2020-03-31 │ 032020       │\n",
       "│  7304 │ 34017004400 │    0.05446927374301676 │   0.03626473254759746 │  0.07298720842738901 │   0.05573117394881566 │ 2020-01-01 │ 2020-03-31 │ 032020       │\n",
       "│  7304 │ 34017006800 │   0.017639147527415685 │  0.013599274705349048 │ 0.024830699774266364 │  0.018273935824708785 │ 2020-01-01 │ 2020-03-31 │ 032020       │\n",
       "│  7304 │ 34017004300 │    0.04960686943927167 │   0.06255666364460562 │  0.05417607223476298 │   0.05075130992075521 │ 2020-01-01 │ 2020-03-31 │ 032020       │\n",
       "│  7304 │ 34017004800 │    0.05612456031450445 │   0.10970081595648232 │   0.0654627539503386 │   0.05975836833672542 │ 2020-01-01 │ 2020-03-31 │ 032020       │\n",
       "├───────┴─────────────┴────────────────────────┴───────────────────────┴──────────────────────┴───────────────────────┴────────────┴────────────┴──────────────┤\n",
       "│ ? rows (>9999 rows, 20 shown)                                                                                                                      9 columns │\n",
       "└──────────────────────────────────────────────────────────────────────────────────────────────────────────────────────────────────────────────────────────────┘"
      ]
     },
     "execution_count": 47,
     "metadata": {},
     "output_type": "execute_result"
    }
   ],
   "source": [
    "con.sql(\"SELECT  * FROM crosswalk_zip_tract\")"
   ]
  },
  {
   "cell_type": "code",
   "execution_count": 48,
   "metadata": {},
   "outputs": [
    {
     "data": {
      "application/vnd.jupyter.widget-view+json": {
       "model_id": "25393e04d74c470ba00973eaebb81d95",
       "version_major": 2,
       "version_minor": 0
      },
      "text/plain": [
       "FloatProgress(value=0.0, layout=Layout(width='auto'), style=ProgressStyle(bar_color='black'))"
      ]
     },
     "metadata": {},
     "output_type": "display_data"
    }
   ],
   "source": [
    "con.sql(\n",
    "    \"\"\"\n",
    "CREATE OR REPLACE TABLE zillow_zhvi_sfr_zip_silver AS\n",
    "(UNPIVOT zillow_zhvi_sfr_zip_bronze\n",
    "ON COLUMNS(* EXCLUDE (RegionID, SizeRank, RegionName, RegionType, StateName, State, City, Metro, CountyName))\n",
    "INTO\n",
    "NAME date\n",
    "VALUE zhvi)\"\"\"\n",
    ")"
   ]
  },
  {
   "cell_type": "code",
   "execution_count": 49,
   "metadata": {},
   "outputs": [
    {
     "data": {
      "text/plain": [
       "┌────────────────────────────┐\n",
       "│            name            │\n",
       "│          varchar           │\n",
       "├────────────────────────────┤\n",
       "│ crosswalk_zillow_cbsa      │\n",
       "│ crosswalk_zip_tract        │\n",
       "│ svi                        │\n",
       "│ tracts_per_zip_silver      │\n",
       "│ zillow_zhvi_sfr_zip_bronze │\n",
       "│ zillow_zhvi_sfr_zip_silver │\n",
       "└────────────────────────────┘"
      ]
     },
     "execution_count": 49,
     "metadata": {},
     "output_type": "execute_result"
    }
   ],
   "source": [
    "con.sql(\"SHOW TABLES\")"
   ]
  },
  {
   "cell_type": "code",
   "execution_count": 50,
   "metadata": {},
   "outputs": [
    {
     "data": {
      "text/plain": [
       "┌──────────┬──────────┬────────────┬────────────┬───────────┬─────────┬────────────┬──────────────────────────────────────┬────────────────────┬────────────┬────────────────────┐\n",
       "│ RegionID │ SizeRank │ RegionName │ RegionType │ StateName │  State  │    City    │                Metro                 │     CountyName     │    date    │        zhvi        │\n",
       "│  int64   │  int64   │   int64    │  varchar   │  varchar  │ varchar │  varchar   │               varchar                │      varchar       │  varchar   │       double       │\n",
       "├──────────┼──────────┼────────────┼────────────┼───────────┼─────────┼────────────┼──────────────────────────────────────┼────────────────────┼────────────┼────────────────────┤\n",
       "│    91982 │        1 │      77494 │ zip        │ TX        │ TX      │ Katy       │ Houston-The Woodlands-Sugar Land, TX │ Fort Bend County   │ 2000-01-31 │ 209467.46053724916 │\n",
       "│    91982 │        1 │      77494 │ zip        │ TX        │ TX      │ Katy       │ Houston-The Woodlands-Sugar Land, TX │ Fort Bend County   │ 2000-02-29 │   209647.716854113 │\n",
       "│    91982 │        1 │      77494 │ zip        │ TX        │ TX      │ Katy       │ Houston-The Woodlands-Sugar Land, TX │ Fort Bend County   │ 2000-03-31 │ 210132.81810953037 │\n",
       "│    91982 │        1 │      77494 │ zip        │ TX        │ TX      │ Katy       │ Houston-The Woodlands-Sugar Land, TX │ Fort Bend County   │ 2000-04-30 │ 211113.45874875723 │\n",
       "│    91982 │        1 │      77494 │ zip        │ TX        │ TX      │ Katy       │ Houston-The Woodlands-Sugar Land, TX │ Fort Bend County   │ 2000-05-31 │  211148.7990334812 │\n",
       "│    91982 │        1 │      77494 │ zip        │ TX        │ TX      │ Katy       │ Houston-The Woodlands-Sugar Land, TX │ Fort Bend County   │ 2000-06-30 │ 210996.26232079143 │\n",
       "│    91982 │        1 │      77494 │ zip        │ TX        │ TX      │ Katy       │ Houston-The Woodlands-Sugar Land, TX │ Fort Bend County   │ 2000-07-31 │  210239.6335905349 │\n",
       "│    91982 │        1 │      77494 │ zip        │ TX        │ TX      │ Katy       │ Houston-The Woodlands-Sugar Land, TX │ Fort Bend County   │ 2000-08-31 │  210271.5171677628 │\n",
       "│    91982 │        1 │      77494 │ zip        │ TX        │ TX      │ Katy       │ Houston-The Woodlands-Sugar Land, TX │ Fort Bend County   │ 2000-09-30 │ 210040.83741563503 │\n",
       "│    91982 │        1 │      77494 │ zip        │ TX        │ TX      │ Katy       │ Houston-The Woodlands-Sugar Land, TX │ Fort Bend County   │ 2000-10-31 │ 210412.52265885475 │\n",
       "│      ·   │        · │        ·   │  ·         │ ·         │ ·       │  ·         │                 ·                    │        ·           │     ·      │          ·         │\n",
       "│      ·   │        · │        ·   │  ·         │ ·         │ ·       │  ·         │                 ·                    │        ·           │     ·      │          ·         │\n",
       "│      ·   │        · │        ·   │  ·         │ ·         │ ·       │  ·         │                 ·                    │        ·           │     ·      │          ·         │\n",
       "│    96125 │       35 │      90280 │ zip        │ CA        │ CA      │ South Gate │ Los Angeles-Long Beach-Anaheim, CA   │ Los Angeles County │ 2000-02-29 │ 147955.64956953368 │\n",
       "│    96125 │       35 │      90280 │ zip        │ CA        │ CA      │ South Gate │ Los Angeles-Long Beach-Anaheim, CA   │ Los Angeles County │ 2000-03-31 │ 148409.85017075026 │\n",
       "│    96125 │       35 │      90280 │ zip        │ CA        │ CA      │ South Gate │ Los Angeles-Long Beach-Anaheim, CA   │ Los Angeles County │ 2000-04-30 │  149412.2219646254 │\n",
       "│    96125 │       35 │      90280 │ zip        │ CA        │ CA      │ South Gate │ Los Angeles-Long Beach-Anaheim, CA   │ Los Angeles County │ 2000-05-31 │ 150716.34433637702 │\n",
       "│    96125 │       35 │      90280 │ zip        │ CA        │ CA      │ South Gate │ Los Angeles-Long Beach-Anaheim, CA   │ Los Angeles County │ 2000-06-30 │  151807.1734674313 │\n",
       "│    96125 │       35 │      90280 │ zip        │ CA        │ CA      │ South Gate │ Los Angeles-Long Beach-Anaheim, CA   │ Los Angeles County │ 2000-07-31 │ 152707.82295970604 │\n",
       "│    96125 │       35 │      90280 │ zip        │ CA        │ CA      │ South Gate │ Los Angeles-Long Beach-Anaheim, CA   │ Los Angeles County │ 2000-08-31 │ 153709.88206162633 │\n",
       "│    96125 │       35 │      90280 │ zip        │ CA        │ CA      │ South Gate │ Los Angeles-Long Beach-Anaheim, CA   │ Los Angeles County │ 2000-09-30 │ 154718.13076181358 │\n",
       "│    96125 │       35 │      90280 │ zip        │ CA        │ CA      │ South Gate │ Los Angeles-Long Beach-Anaheim, CA   │ Los Angeles County │ 2000-10-31 │  155509.4082853206 │\n",
       "│    96125 │       35 │      90280 │ zip        │ CA        │ CA      │ South Gate │ Los Angeles-Long Beach-Anaheim, CA   │ Los Angeles County │ 2000-11-30 │ 156220.46113143917 │\n",
       "├──────────┴──────────┴────────────┴────────────┴───────────┴─────────┴────────────┴──────────────────────────────────────┴────────────────────┴────────────┴────────────────────┤\n",
       "│ ? rows (>9999 rows, 20 shown)                                                                                                                                       11 columns │\n",
       "└────────────────────────────────────────────────────────────────────────────────────────────────────────────────────────────────────────────────────────────────────────────────┘"
      ]
     },
     "execution_count": 50,
     "metadata": {},
     "output_type": "execute_result"
    }
   ],
   "source": [
    "con.sql(\"SELECT * FROM zillow_zhvi_sfr_zip_silver\")"
   ]
  },
  {
   "cell_type": "code",
   "execution_count": 51,
   "metadata": {},
   "outputs": [
    {
     "data": {
      "text/plain": [
       "┌──────────┬──────────┬────────────┬────────────┬───────────┬─────────┬────────────┬───────────────────────────────┬────────────────┬────────────┬────────────────────┐\n",
       "│ RegionID │ SizeRank │ RegionName │ RegionType │ StateName │  State  │    City    │             Metro             │   CountyName   │    date    │        zhvi        │\n",
       "│  int64   │  int64   │   int64    │  varchar   │  varchar  │ varchar │  varchar   │            varchar            │    varchar     │  varchar   │       double       │\n",
       "├──────────┼──────────┼────────────┼────────────┼───────────┼─────────┼────────────┼───────────────────────────────┼────────────────┼────────────┼────────────────────┤\n",
       "│    67030 │     3358 │      21771 │ zip        │ MD        │ MD      │ Mount Airy │ Baltimore-Columbia-Towson, MD │ Carroll County │ 2000-01-31 │  205133.8666031565 │\n",
       "│    67030 │     3358 │      21771 │ zip        │ MD        │ MD      │ Mount Airy │ Baltimore-Columbia-Towson, MD │ Carroll County │ 2000-02-29 │ 205289.00795684592 │\n",
       "│    67030 │     3358 │      21771 │ zip        │ MD        │ MD      │ Mount Airy │ Baltimore-Columbia-Towson, MD │ Carroll County │ 2000-03-31 │ 205442.69965383175 │\n",
       "│    67030 │     3358 │      21771 │ zip        │ MD        │ MD      │ Mount Airy │ Baltimore-Columbia-Towson, MD │ Carroll County │ 2000-04-30 │  206008.0285003688 │\n",
       "│    67030 │     3358 │      21771 │ zip        │ MD        │ MD      │ Mount Airy │ Baltimore-Columbia-Towson, MD │ Carroll County │ 2000-05-31 │  206929.3551570852 │\n",
       "│    67030 │     3358 │      21771 │ zip        │ MD        │ MD      │ Mount Airy │ Baltimore-Columbia-Towson, MD │ Carroll County │ 2000-06-30 │  207802.9742397893 │\n",
       "│    67030 │     3358 │      21771 │ zip        │ MD        │ MD      │ Mount Airy │ Baltimore-Columbia-Towson, MD │ Carroll County │ 2000-07-31 │ 208561.35383192287 │\n",
       "│    67030 │     3358 │      21771 │ zip        │ MD        │ MD      │ Mount Airy │ Baltimore-Columbia-Towson, MD │ Carroll County │ 2000-08-31 │ 209196.47829526648 │\n",
       "│    67030 │     3358 │      21771 │ zip        │ MD        │ MD      │ Mount Airy │ Baltimore-Columbia-Towson, MD │ Carroll County │ 2000-09-30 │  210090.0987529226 │\n",
       "│    67030 │     3358 │      21771 │ zip        │ MD        │ MD      │ Mount Airy │ Baltimore-Columbia-Towson, MD │ Carroll County │ 2000-10-31 │ 211252.82328854816 │\n",
       "│      ·   │       ·  │        ·   │  ·         │ ·         │ ·       │     ·      │               ·               │       ·        │     ·      │          ·         │\n",
       "│      ·   │       ·  │        ·   │  ·         │ ·         │ ·       │     ·      │               ·               │       ·        │     ·      │          ·         │\n",
       "│      ·   │       ·  │        ·   │  ·         │ ·         │ ·       │     ·      │               ·               │       ·        │     ·      │          ·         │\n",
       "│    67030 │     3358 │      21771 │ zip        │ MD        │ MD      │ Mount Airy │ Baltimore-Columbia-Towson, MD │ Carroll County │ 2024-01-31 │  579908.8631522935 │\n",
       "│    67030 │     3358 │      21771 │ zip        │ MD        │ MD      │ Mount Airy │ Baltimore-Columbia-Towson, MD │ Carroll County │ 2024-02-29 │  581797.7176383471 │\n",
       "│    67030 │     3358 │      21771 │ zip        │ MD        │ MD      │ Mount Airy │ Baltimore-Columbia-Towson, MD │ Carroll County │ 2024-03-31 │  585937.6589631408 │\n",
       "│    67030 │     3358 │      21771 │ zip        │ MD        │ MD      │ Mount Airy │ Baltimore-Columbia-Towson, MD │ Carroll County │ 2024-04-30 │  591724.7581992499 │\n",
       "│    67030 │     3358 │      21771 │ zip        │ MD        │ MD      │ Mount Airy │ Baltimore-Columbia-Towson, MD │ Carroll County │ 2024-05-31 │  596607.8752605347 │\n",
       "│    67030 │     3358 │      21771 │ zip        │ MD        │ MD      │ Mount Airy │ Baltimore-Columbia-Towson, MD │ Carroll County │ 2024-06-30 │  599394.4279274131 │\n",
       "│    67030 │     3358 │      21771 │ zip        │ MD        │ MD      │ Mount Airy │ Baltimore-Columbia-Towson, MD │ Carroll County │ 2024-07-31 │  599988.1764145639 │\n",
       "│    67030 │     3358 │      21771 │ zip        │ MD        │ MD      │ Mount Airy │ Baltimore-Columbia-Towson, MD │ Carroll County │ 2024-08-31 │  599924.3924943245 │\n",
       "│    67030 │     3358 │      21771 │ zip        │ MD        │ MD      │ Mount Airy │ Baltimore-Columbia-Towson, MD │ Carroll County │ 2024-09-30 │  601648.5323982745 │\n",
       "│    67030 │     3358 │      21771 │ zip        │ MD        │ MD      │ Mount Airy │ Baltimore-Columbia-Towson, MD │ Carroll County │ 2024-10-31 │  605486.8461027738 │\n",
       "├──────────┴──────────┴────────────┴────────────┴───────────┴─────────┴────────────┴───────────────────────────────┴────────────────┴────────────┴────────────────────┤\n",
       "│ 298 rows (20 shown)                                                                                                                                      11 columns │\n",
       "└─────────────────────────────────────────────────────────────────────────────────────────────────────────────────────────────────────────────────────────────────────┘"
      ]
     },
     "execution_count": 51,
     "metadata": {},
     "output_type": "execute_result"
    }
   ],
   "source": [
    "con.sql(\n",
    "    \"\"\"\n",
    "SELECT * FROM zillow_zhvi_sfr_zip_silver WHERE RegionName = 21771\n",
    "\"\"\"\n",
    ")"
   ]
  },
  {
   "cell_type": "code",
   "execution_count": 52,
   "metadata": {},
   "outputs": [],
   "source": [
    "con.sql(\n",
    "    \"\"\"\n",
    "CREATE OR REPLACE TABLE zillow_zhvi_sfr_zip_with_tracts_silver AS (\n",
    "    SELECT \n",
    "        RegionName, \n",
    "        zip, \n",
    "        date, \n",
    "        zhvi, \n",
    "        list_sort(tracts) as tracts\n",
    "    FROM (\n",
    "        SELECT \n",
    "            * \n",
    "        FROM zillow_zhvi_sfr_zip_silver z \n",
    "        LEFT JOIN tracts_per_zip_silver cw \n",
    "        ON \n",
    "            z.RegionName = cw.zip AND \n",
    "            z.date::DATE >= cw.start_date AND \n",
    "            z.date::DATE <= cw.end_date\n",
    "    ) \n",
    "WHERE tracts is not null)\n",
    "\"\"\"\n",
    ")"
   ]
  },
  {
   "cell_type": "code",
   "execution_count": 53,
   "metadata": {},
   "outputs": [
    {
     "data": {
      "text/plain": [
       "┌────────────┬───────┬────────────┬────────────────────┬───────────────────────────────────────────────────────────────────────────────────────────────────────────────────────────────────────────────────────────────────────────┐\n",
       "│ RegionName │  zip  │    date    │        zhvi        │                                                                                  tracts                                                                                   │\n",
       "│   int64    │ int64 │  varchar   │       double       │                                                                                  int64[]                                                                                  │\n",
       "├────────────┼───────┼────────────┼────────────────────┼───────────────────────────────────────────────────────────────────────────────────────────────────────────────────────────────────────────────────────────────────────────┤\n",
       "│      21771 │ 21771 │ 2020-01-31 │ 444625.84303602297 │ [24013509002, 24013513001, 24013513002, 24013514201, 24021751702, 24021751801, 24021751802, 24021751903, 24021752001, 24027604001, 24031700103, 24031700204, 24031700208] │\n",
       "│      21771 │ 21771 │ 2020-02-29 │ 446421.49162416457 │ [24013509002, 24013513001, 24013513002, 24013514201, 24021751702, 24021751801, 24021751802, 24021751903, 24021752001, 24027604001, 24031700103, 24031700204, 24031700208] │\n",
       "│      21771 │ 21771 │ 2020-03-31 │   448499.098811144 │ [24013509002, 24013513001, 24013513002, 24013514201, 24021751702, 24021751801, 24021751802, 24021751903, 24021752001, 24027604001, 24031700103, 24031700204, 24031700208] │\n",
       "│      21771 │ 21771 │ 2020-04-30 │  450296.7696117215 │ [24013509002, 24013513001, 24013513002, 24013514201, 24021751702, 24021751801, 24021751802, 24021751903, 24021752001, 24027604001, 24031700103, 24031700204, 24031700208] │\n",
       "│      21771 │ 21771 │ 2020-05-31 │  450856.1847379391 │ [24013509002, 24013513001, 24013513002, 24013514201, 24021751702, 24021751801, 24021751802, 24021751903, 24021752001, 24027604001, 24031700103, 24031700204, 24031700208] │\n",
       "│      21771 │ 21771 │ 2020-06-30 │ 450853.49565527606 │ [24013509002, 24013513001, 24013513002, 24013514201, 24021751702, 24021751801, 24021751802, 24021751903, 24021752001, 24027604001, 24031700103, 24031700204, 24031700208] │\n",
       "│      21771 │ 21771 │ 2020-07-31 │  451677.0290310618 │ [24013509002, 24013513001, 24013513002, 24013514201, 24021751702, 24021751801, 24021751802, 24021751903, 24021752001, 24027604001, 24031700103, 24031700204, 24031700208] │\n",
       "│      21771 │ 21771 │ 2020-08-31 │ 454633.45766254544 │ [24013509002, 24013513001, 24013513002, 24013514201, 24021751702, 24021751801, 24021751802, 24021751903, 24021752001, 24027604001, 24031700103, 24031700204, 24031700208] │\n",
       "│      21771 │ 21771 │ 2020-09-30 │  459719.6445616973 │ [24013509002, 24013513001, 24013513002, 24013514201, 24021751702, 24021751801, 24021751802, 24021751903, 24021752001, 24027604001, 24031700103, 24031700204, 24031700208] │\n",
       "│      21771 │ 21771 │ 2020-10-31 │  465677.2393086055 │ [24013509002, 24013513001, 24013513002, 24013514201, 24021751702, 24021751801, 24021751802, 24021751903, 24021752001, 24027604001, 24031700103, 24031700204, 24031700208] │\n",
       "│      21771 │ 21771 │ 2020-11-30 │ 471818.44784037344 │ [24013509002, 24013513001, 24013513002, 24013514201, 24021751702, 24021751801, 24021751802, 24021751903, 24021752001, 24027604001, 24031700103, 24031700204, 24031700208] │\n",
       "│      21771 │ 21771 │ 2020-12-31 │  477635.2983866781 │ [24013509002, 24013513001, 24013513002, 24013514201, 24021751702, 24021751801, 24021751802, 24021751903, 24021752001, 24027604001, 24031700103, 24031700204, 24031700208] │\n",
       "├────────────┴───────┴────────────┴────────────────────┴───────────────────────────────────────────────────────────────────────────────────────────────────────────────────────────────────────────────────────────────────────────┤\n",
       "│ 12 rows                                                                                                                                                                                                                5 columns │\n",
       "└──────────────────────────────────────────────────────────────────────────────────────────────────────────────────────────────────────────────────────────────────────────────────────────────────────────────────────────────────┘"
      ]
     },
     "execution_count": 53,
     "metadata": {},
     "output_type": "execute_result"
    }
   ],
   "source": [
    "con.sql(\"SELECT * FROM zillow_zhvi_sfr_zip_with_tracts_silver WHERE RegionName = 21771\")"
   ]
  },
  {
   "cell_type": "code",
   "execution_count": 54,
   "metadata": {},
   "outputs": [
    {
     "data": {
      "text/plain": [
       "┌────────────┬───────┬────────────┬───────────────────────────────────────────────────────────────────────────────────────────────────────────────────────────────────────────────────────────────────────────┬────────────────────┬──────────────────────────────────────────────────────────────────────────────────────────────────────────┬────────────────────────────────────────────────────────────────────────────────────────────────────────┬─────────────────────────────────────────────────────────────────────────────────────────────────────────┬─────────────────────────────────────────────────────────────────────────────────────────────────────────┬──────────────────────────────────────────────────────────────────────────────────────────────────────────┐\n",
       "│ RegionName │  zip  │    date    │                                                                                  tracts                                                                                   │        zhvi        │                                             list(RPL_THEME1)                                             │                                            list(RPL_THEME2)                                            │                                            list(RPL_THEME3)                                             │                                            list(RPL_THEME4)                                             │                                             list(RPL_THEMES)                                             │\n",
       "│   int64    │ int64 │  varchar   │                                                                                  int64[]                                                                                  │       double       │                                                 double[]                                                 │                                                double[]                                                │                                                double[]                                                 │                                                double[]                                                 │                                                 double[]                                                 │\n",
       "├────────────┼───────┼────────────┼───────────────────────────────────────────────────────────────────────────────────────────────────────────────────────────────────────────────────────────────────────────┼────────────────────┼──────────────────────────────────────────────────────────────────────────────────────────────────────────┼────────────────────────────────────────────────────────────────────────────────────────────────────────┼─────────────────────────────────────────────────────────────────────────────────────────────────────────┼─────────────────────────────────────────────────────────────────────────────────────────────────────────┼──────────────────────────────────────────────────────────────────────────────────────────────────────────┤\n",
       "│      21771 │ 21771 │ 2020-08-31 │ [24013509002, 24013513001, 24013513002, 24013514201, 24021751702, 24021751801, 24021751802, 24021751903, 24021752001, 24027604001, 24031700103, 24031700204, 24031700208] │ 454633.45766254544 │ [0.2226, 0.0907, 0.0756, 0.2064, 0.2311, 0.0664, 0.1732, 0.0036, 0.2893, 0.0613, 0.0978, 0.1527, 0.1277] │ [0.058, 0.4943, 0.4358, 0.1579, 0.2976, 0.185, 0.1015, 0.1933, 0.5495, 0.1749, 0.2627, 0.8006, 0.7651] │ [0.2515, 0.2673, 0.2939, 0.1645, 0.0235, 0.2724, 0.0235, 0.1418, 0.3564, 0.3007, 0.5312, 0.3298, 0.395] │ [0.2014, 0.2325, 0.5954, 0.4592, 0.4304, 0.2521, 0.2475, 0.0163, 0.0813, 0.0323, 0.254, 0.0804, 0.0388] │ [0.0987, 0.1617, 0.2595, 0.2045, 0.2286, 0.0987, 0.0954, 0.0045, 0.2002, 0.0273, 0.1584, 0.1886, 0.1378] │\n",
       "│      21771 │ 21771 │ 2020-12-31 │ [24013509002, 24013513001, 24013513002, 24013514201, 24021751702, 24021751801, 24021751802, 24021751903, 24021752001, 24027604001, 24031700103, 24031700204, 24031700208] │  477635.2983866781 │ [0.2226, 0.0907, 0.0756, 0.2064, 0.2311, 0.0664, 0.1732, 0.0036, 0.2893, 0.0613, 0.0978, 0.1527, 0.1277] │ [0.058, 0.4943, 0.4358, 0.1579, 0.2976, 0.185, 0.1015, 0.1933, 0.5495, 0.1749, 0.2627, 0.8006, 0.7651] │ [0.2515, 0.2673, 0.2939, 0.1645, 0.0235, 0.2724, 0.0235, 0.1418, 0.3564, 0.3007, 0.5312, 0.3298, 0.395] │ [0.2014, 0.2325, 0.5954, 0.4592, 0.4304, 0.2521, 0.2475, 0.0163, 0.0813, 0.0323, 0.254, 0.0804, 0.0388] │ [0.0987, 0.1617, 0.2595, 0.2045, 0.2286, 0.0987, 0.0954, 0.0045, 0.2002, 0.0273, 0.1584, 0.1886, 0.1378] │\n",
       "│      21771 │ 21771 │ 2020-02-29 │ [24013509002, 24013513001, 24013513002, 24013514201, 24021751702, 24021751801, 24021751802, 24021751903, 24021752001, 24027604001, 24031700103, 24031700204, 24031700208] │ 446421.49162416457 │ [0.2226, 0.0907, 0.0756, 0.2064, 0.2311, 0.0664, 0.1732, 0.0036, 0.2893, 0.0613, 0.0978, 0.1527, 0.1277] │ [0.058, 0.4943, 0.4358, 0.1579, 0.2976, 0.185, 0.1015, 0.1933, 0.5495, 0.1749, 0.2627, 0.8006, 0.7651] │ [0.2515, 0.2673, 0.2939, 0.1645, 0.0235, 0.2724, 0.0235, 0.1418, 0.3564, 0.3007, 0.5312, 0.3298, 0.395] │ [0.2014, 0.2325, 0.5954, 0.4592, 0.4304, 0.2521, 0.2475, 0.0163, 0.0813, 0.0323, 0.254, 0.0804, 0.0388] │ [0.0987, 0.1617, 0.2595, 0.2045, 0.2286, 0.0987, 0.0954, 0.0045, 0.2002, 0.0273, 0.1584, 0.1886, 0.1378] │\n",
       "│      21771 │ 21771 │ 2020-07-31 │ [24013509002, 24013513001, 24013513002, 24013514201, 24021751702, 24021751801, 24021751802, 24021751903, 24021752001, 24027604001, 24031700103, 24031700204, 24031700208] │  451677.0290310618 │ [0.2226, 0.0907, 0.0756, 0.2064, 0.2311, 0.0664, 0.1732, 0.0036, 0.2893, 0.0613, 0.0978, 0.1527, 0.1277] │ [0.058, 0.4943, 0.4358, 0.1579, 0.2976, 0.185, 0.1015, 0.1933, 0.5495, 0.1749, 0.2627, 0.8006, 0.7651] │ [0.2515, 0.2673, 0.2939, 0.1645, 0.0235, 0.2724, 0.0235, 0.1418, 0.3564, 0.3007, 0.5312, 0.3298, 0.395] │ [0.2014, 0.2325, 0.5954, 0.4592, 0.4304, 0.2521, 0.2475, 0.0163, 0.0813, 0.0323, 0.254, 0.0804, 0.0388] │ [0.0987, 0.1617, 0.2595, 0.2045, 0.2286, 0.0987, 0.0954, 0.0045, 0.2002, 0.0273, 0.1584, 0.1886, 0.1378] │\n",
       "│      21771 │ 21771 │ 2020-04-30 │ [24013509002, 24013513001, 24013513002, 24013514201, 24021751702, 24021751801, 24021751802, 24021751903, 24021752001, 24027604001, 24031700103, 24031700204, 24031700208] │  450296.7696117215 │ [0.2226, 0.0907, 0.0756, 0.2064, 0.2311, 0.0664, 0.1732, 0.0036, 0.2893, 0.0613, 0.0978, 0.1527, 0.1277] │ [0.058, 0.4943, 0.4358, 0.1579, 0.2976, 0.185, 0.1015, 0.1933, 0.5495, 0.1749, 0.2627, 0.8006, 0.7651] │ [0.2515, 0.2673, 0.2939, 0.1645, 0.0235, 0.2724, 0.0235, 0.1418, 0.3564, 0.3007, 0.5312, 0.3298, 0.395] │ [0.2014, 0.2325, 0.5954, 0.4592, 0.4304, 0.2521, 0.2475, 0.0163, 0.0813, 0.0323, 0.254, 0.0804, 0.0388] │ [0.0987, 0.1617, 0.2595, 0.2045, 0.2286, 0.0987, 0.0954, 0.0045, 0.2002, 0.0273, 0.1584, 0.1886, 0.1378] │\n",
       "│      21771 │ 21771 │ 2020-06-30 │ [24013509002, 24013513001, 24013513002, 24013514201, 24021751702, 24021751801, 24021751802, 24021751903, 24021752001, 24027604001, 24031700103, 24031700204, 24031700208] │ 450853.49565527606 │ [0.2226, 0.0907, 0.0756, 0.2064, 0.2311, 0.0664, 0.1732, 0.0036, 0.2893, 0.0613, 0.0978, 0.1527, 0.1277] │ [0.058, 0.4943, 0.4358, 0.1579, 0.2976, 0.185, 0.1015, 0.1933, 0.5495, 0.1749, 0.2627, 0.8006, 0.7651] │ [0.2515, 0.2673, 0.2939, 0.1645, 0.0235, 0.2724, 0.0235, 0.1418, 0.3564, 0.3007, 0.5312, 0.3298, 0.395] │ [0.2014, 0.2325, 0.5954, 0.4592, 0.4304, 0.2521, 0.2475, 0.0163, 0.0813, 0.0323, 0.254, 0.0804, 0.0388] │ [0.0987, 0.1617, 0.2595, 0.2045, 0.2286, 0.0987, 0.0954, 0.0045, 0.2002, 0.0273, 0.1584, 0.1886, 0.1378] │\n",
       "│      21771 │ 21771 │ 2020-09-30 │ [24013509002, 24013513001, 24013513002, 24013514201, 24021751702, 24021751801, 24021751802, 24021751903, 24021752001, 24027604001, 24031700103, 24031700204, 24031700208] │  459719.6445616973 │ [0.2226, 0.0907, 0.0756, 0.2064, 0.2311, 0.0664, 0.1732, 0.0036, 0.2893, 0.0613, 0.0978, 0.1527, 0.1277] │ [0.058, 0.4943, 0.4358, 0.1579, 0.2976, 0.185, 0.1015, 0.1933, 0.5495, 0.1749, 0.2627, 0.8006, 0.7651] │ [0.2515, 0.2673, 0.2939, 0.1645, 0.0235, 0.2724, 0.0235, 0.1418, 0.3564, 0.3007, 0.5312, 0.3298, 0.395] │ [0.2014, 0.2325, 0.5954, 0.4592, 0.4304, 0.2521, 0.2475, 0.0163, 0.0813, 0.0323, 0.254, 0.0804, 0.0388] │ [0.0987, 0.1617, 0.2595, 0.2045, 0.2286, 0.0987, 0.0954, 0.0045, 0.2002, 0.0273, 0.1584, 0.1886, 0.1378] │\n",
       "│      21771 │ 21771 │ 2020-10-31 │ [24013509002, 24013513001, 24013513002, 24013514201, 24021751702, 24021751801, 24021751802, 24021751903, 24021752001, 24027604001, 24031700103, 24031700204, 24031700208] │  465677.2393086055 │ [0.2226, 0.0907, 0.0756, 0.2064, 0.2311, 0.0664, 0.1732, 0.0036, 0.2893, 0.0613, 0.0978, 0.1527, 0.1277] │ [0.058, 0.4943, 0.4358, 0.1579, 0.2976, 0.185, 0.1015, 0.1933, 0.5495, 0.1749, 0.2627, 0.8006, 0.7651] │ [0.2515, 0.2673, 0.2939, 0.1645, 0.0235, 0.2724, 0.0235, 0.1418, 0.3564, 0.3007, 0.5312, 0.3298, 0.395] │ [0.2014, 0.2325, 0.5954, 0.4592, 0.4304, 0.2521, 0.2475, 0.0163, 0.0813, 0.0323, 0.254, 0.0804, 0.0388] │ [0.0987, 0.1617, 0.2595, 0.2045, 0.2286, 0.0987, 0.0954, 0.0045, 0.2002, 0.0273, 0.1584, 0.1886, 0.1378] │\n",
       "│      21771 │ 21771 │ 2020-01-31 │ [24013509002, 24013513001, 24013513002, 24013514201, 24021751702, 24021751801, 24021751802, 24021751903, 24021752001, 24027604001, 24031700103, 24031700204, 24031700208] │ 444625.84303602297 │ [0.2226, 0.0907, 0.0756, 0.2064, 0.2311, 0.0664, 0.1732, 0.0036, 0.2893, 0.0613, 0.0978, 0.1527, 0.1277] │ [0.058, 0.4943, 0.4358, 0.1579, 0.2976, 0.185, 0.1015, 0.1933, 0.5495, 0.1749, 0.2627, 0.8006, 0.7651] │ [0.2515, 0.2673, 0.2939, 0.1645, 0.0235, 0.2724, 0.0235, 0.1418, 0.3564, 0.3007, 0.5312, 0.3298, 0.395] │ [0.2014, 0.2325, 0.5954, 0.4592, 0.4304, 0.2521, 0.2475, 0.0163, 0.0813, 0.0323, 0.254, 0.0804, 0.0388] │ [0.0987, 0.1617, 0.2595, 0.2045, 0.2286, 0.0987, 0.0954, 0.0045, 0.2002, 0.0273, 0.1584, 0.1886, 0.1378] │\n",
       "│      21771 │ 21771 │ 2020-03-31 │ [24013509002, 24013513001, 24013513002, 24013514201, 24021751702, 24021751801, 24021751802, 24021751903, 24021752001, 24027604001, 24031700103, 24031700204, 24031700208] │   448499.098811144 │ [0.2226, 0.0907, 0.0756, 0.2064, 0.2311, 0.0664, 0.1732, 0.0036, 0.2893, 0.0613, 0.0978, 0.1527, 0.1277] │ [0.058, 0.4943, 0.4358, 0.1579, 0.2976, 0.185, 0.1015, 0.1933, 0.5495, 0.1749, 0.2627, 0.8006, 0.7651] │ [0.2515, 0.2673, 0.2939, 0.1645, 0.0235, 0.2724, 0.0235, 0.1418, 0.3564, 0.3007, 0.5312, 0.3298, 0.395] │ [0.2014, 0.2325, 0.5954, 0.4592, 0.4304, 0.2521, 0.2475, 0.0163, 0.0813, 0.0323, 0.254, 0.0804, 0.0388] │ [0.0987, 0.1617, 0.2595, 0.2045, 0.2286, 0.0987, 0.0954, 0.0045, 0.2002, 0.0273, 0.1584, 0.1886, 0.1378] │\n",
       "│      21771 │ 21771 │ 2020-05-31 │ [24013509002, 24013513001, 24013513002, 24013514201, 24021751702, 24021751801, 24021751802, 24021751903, 24021752001, 24027604001, 24031700103, 24031700204, 24031700208] │  450856.1847379391 │ [0.2226, 0.0907, 0.0756, 0.2064, 0.2311, 0.0664, 0.1732, 0.0036, 0.2893, 0.0613, 0.0978, 0.1527, 0.1277] │ [0.058, 0.4943, 0.4358, 0.1579, 0.2976, 0.185, 0.1015, 0.1933, 0.5495, 0.1749, 0.2627, 0.8006, 0.7651] │ [0.2515, 0.2673, 0.2939, 0.1645, 0.0235, 0.2724, 0.0235, 0.1418, 0.3564, 0.3007, 0.5312, 0.3298, 0.395] │ [0.2014, 0.2325, 0.5954, 0.4592, 0.4304, 0.2521, 0.2475, 0.0163, 0.0813, 0.0323, 0.254, 0.0804, 0.0388] │ [0.0987, 0.1617, 0.2595, 0.2045, 0.2286, 0.0987, 0.0954, 0.0045, 0.2002, 0.0273, 0.1584, 0.1886, 0.1378] │\n",
       "│      21771 │ 21771 │ 2020-11-30 │ [24013509002, 24013513001, 24013513002, 24013514201, 24021751702, 24021751801, 24021751802, 24021751903, 24021752001, 24027604001, 24031700103, 24031700204, 24031700208] │ 471818.44784037344 │ [0.2226, 0.0907, 0.0756, 0.2064, 0.2311, 0.0664, 0.1732, 0.0036, 0.2893, 0.0613, 0.0978, 0.1527, 0.1277] │ [0.058, 0.4943, 0.4358, 0.1579, 0.2976, 0.185, 0.1015, 0.1933, 0.5495, 0.1749, 0.2627, 0.8006, 0.7651] │ [0.2515, 0.2673, 0.2939, 0.1645, 0.0235, 0.2724, 0.0235, 0.1418, 0.3564, 0.3007, 0.5312, 0.3298, 0.395] │ [0.2014, 0.2325, 0.5954, 0.4592, 0.4304, 0.2521, 0.2475, 0.0163, 0.0813, 0.0323, 0.254, 0.0804, 0.0388] │ [0.0987, 0.1617, 0.2595, 0.2045, 0.2286, 0.0987, 0.0954, 0.0045, 0.2002, 0.0273, 0.1584, 0.1886, 0.1378] │\n",
       "├────────────┴───────┴────────────┴───────────────────────────────────────────────────────────────────────────────────────────────────────────────────────────────────────────────────────────────────────────┴────────────────────┴──────────────────────────────────────────────────────────────────────────────────────────────────────────┴────────────────────────────────────────────────────────────────────────────────────────────────────────┴─────────────────────────────────────────────────────────────────────────────────────────────────────────┴─────────────────────────────────────────────────────────────────────────────────────────────────────────┴──────────────────────────────────────────────────────────────────────────────────────────────────────────┤\n",
       "│ 12 rows                                                                                                                                                                                                                                                                                                                                                                                                                                                                                                                                                                                                                                                                                                                                                                  10 columns │\n",
       "└─────────────────────────────────────────────────────────────────────────────────────────────────────────────────────────────────────────────────────────────────────────────────────────────────────────────────────────────────────────────────────────────────────────────────────────────────────────────────────────────────────────────────────────────────────────────────────────────────────────────────────────────────────────────────────────────────────────────────────────────────────────────────────────────────────────────────────────────────────────────────────────────────────────────────────────────────────────────────────────────────────────────────────────────────────────────────────────────────────────────────────────────────────────────────────┘"
      ]
     },
     "execution_count": 54,
     "metadata": {},
     "output_type": "execute_result"
    }
   ],
   "source": [
    "con.sql(\n",
    "    \"\"\"\n",
    "SELECT * FROM (\n",
    "    SELECT \n",
    "        RegionName,\n",
    "        zip,\n",
    "        date,\n",
    "        tracts,\n",
    "        zhvi,\n",
    "        list(RPL_THEME1),\n",
    "        list(RPL_THEME2),\n",
    "        list(RPL_THEME3),\n",
    "        list(RPL_THEME4),\n",
    "        list(RPL_THEMES)\n",
    "    FROM (SELECT * FROM zillow_zhvi_sfr_zip_with_tracts_silver z LEFT JOIN svi s ON s.year = year(z.date::DATE) AND s.FIPS IN z.tracts)\n",
    "    GROUP BY (\n",
    "        RegionName,\n",
    "        zip,\n",
    "        date,\n",
    "        tracts,\n",
    "        zhvi\n",
    "    )\n",
    ") \n",
    "WHERE zip = 21771\n",
    "\"\"\"\n",
    ")"
   ]
  },
  {
   "cell_type": "code",
   "execution_count": 55,
   "metadata": {},
   "outputs": [
    {
     "data": {
      "application/vnd.jupyter.widget-view+json": {
       "model_id": "120db215033c4d658950d0ec5f0119fc",
       "version_major": 2,
       "version_minor": 0
      },
      "text/plain": [
       "FloatProgress(value=0.0, layout=Layout(width='auto'), style=ProgressStyle(bar_color='black'))"
      ]
     },
     "metadata": {},
     "output_type": "display_data"
    }
   ],
   "source": [
    "con.sql(\n",
    "    \"\"\"\n",
    "CREATE OR REPLACE TABLE zillow_zhvi_sfr_zip_with_svi_silver AS (\n",
    "    SELECT \n",
    "        RegionName,\n",
    "        zip,\n",
    "        date,\n",
    "        zhvi,\n",
    "        mean(RPL_THEME1) AS mean_rpl_theme1,\n",
    "        median(RPL_THEME1) AS median_rpl_theme1,\n",
    "        mean(RPL_THEME2) AS mean_rpl_theme2,\n",
    "        median(RPL_THEME2) AS median_rpl_theme2,\n",
    "        mean(RPL_THEME3) AS mean_rpl_theme3,\n",
    "        median(RPL_THEME4) AS median_rpl_theme3,\n",
    "        mean(RPL_THEME4) AS mean_rpl_theme4,\n",
    "        median(RPL_THEME4) AS median_rpl_theme4,\n",
    "        mean(RPL_THEMES) AS mean_rpl_themes,\n",
    "        median(RPL_THEMES) AS median_rpl_themes,\n",
    "    FROM (SELECT * FROM zillow_zhvi_sfr_zip_with_tracts_silver z LEFT JOIN svi s ON s.year = year(z.date::DATE) AND s.FIPS IN z.tracts) GROUP BY         \n",
    "        RegionName,\n",
    "        zip,\n",
    "        date,\n",
    "        zhvi\n",
    ")\n",
    "\"\"\"\n",
    ")"
   ]
  },
  {
   "cell_type": "code",
   "execution_count": 56,
   "metadata": {},
   "outputs": [
    {
     "name": "stdout",
     "output_type": "stream",
     "text": [
      "┌────────────┬───────┬────────────┬────────────────────┬──────────────────────┬───────────────────┬─────────────────────┬───────────────────┬─────────────────────┬─────────────────────┬─────────────────────┬─────────────────────┬──────────────────────┬─────────────────────┐\n",
      "│ RegionName │  zip  │    date    │        zhvi        │   mean_rpl_theme1    │ median_rpl_theme1 │   mean_rpl_theme2   │ median_rpl_theme2 │   mean_rpl_theme3   │  median_rpl_theme3  │   mean_rpl_theme4   │  median_rpl_theme4  │   mean_rpl_themes    │  median_rpl_themes  │\n",
      "│   int64    │ int64 │  varchar   │       double       │        double        │      double       │       double        │      double       │       double        │       double        │       double        │       double        │        double        │       double        │\n",
      "├────────────┼───────┼────────────┼────────────────────┼──────────────────────┼───────────────────┼─────────────────────┼───────────────────┼─────────────────────┼─────────────────────┼─────────────────────┼─────────────────────┼──────────────────────┼─────────────────────┤\n",
      "│       1001 │  1001 │ 2020-01-31 │ 241850.05017537635 │               0.2487 │            0.2485 │  0.5203166666666666 │           0.58385 │ 0.21806666666666666 │  0.5294000000000001 │              0.4713 │  0.5294000000000001 │   0.3374333333333333 │              0.3722 │\n",
      "│       1001 │  1001 │ 2020-02-29 │ 242785.81596241705 │               0.2487 │            0.2485 │  0.5203166666666666 │           0.58385 │ 0.21806666666666666 │  0.5294000000000001 │              0.4713 │  0.5294000000000001 │   0.3374333333333333 │              0.3722 │\n",
      "│       1001 │  1001 │ 2020-03-31 │  243565.8259871273 │               0.2487 │            0.2485 │  0.5203166666666666 │           0.58385 │ 0.21806666666666666 │  0.5294000000000001 │              0.4713 │  0.5294000000000001 │   0.3374333333333333 │              0.3722 │\n",
      "│       1001 │  1001 │ 2020-04-30 │   243930.069189096 │               0.2487 │            0.2485 │  0.5203166666666666 │           0.58385 │ 0.21806666666666666 │  0.5294000000000001 │              0.4713 │  0.5294000000000001 │   0.3374333333333333 │              0.3722 │\n",
      "│       1001 │  1001 │ 2020-05-31 │ 244331.60501159413 │               0.2487 │            0.2485 │  0.5203166666666666 │           0.58385 │ 0.21806666666666666 │  0.5294000000000001 │              0.4713 │  0.5294000000000001 │   0.3374333333333333 │              0.3722 │\n",
      "│       1001 │  1001 │ 2020-06-30 │   245049.628184334 │               0.2487 │            0.2485 │  0.5203166666666666 │           0.58385 │ 0.21806666666666666 │  0.5294000000000001 │              0.4713 │  0.5294000000000001 │   0.3374333333333333 │              0.3722 │\n",
      "│       1001 │  1001 │ 2020-07-31 │ 246362.75019103088 │               0.2487 │            0.2485 │  0.5203166666666666 │           0.58385 │ 0.21806666666666666 │  0.5294000000000001 │              0.4713 │  0.5294000000000001 │   0.3374333333333333 │              0.3722 │\n",
      "│       1001 │  1001 │ 2020-08-31 │  248188.7075665401 │               0.2487 │            0.2485 │  0.5203166666666666 │           0.58385 │ 0.21806666666666666 │  0.5294000000000001 │              0.4713 │  0.5294000000000001 │   0.3374333333333333 │              0.3722 │\n",
      "│       1001 │  1001 │ 2020-09-30 │ 251081.90872737137 │               0.2487 │            0.2485 │  0.5203166666666666 │           0.58385 │ 0.21806666666666666 │  0.5294000000000001 │              0.4713 │  0.5294000000000001 │   0.3374333333333333 │              0.3722 │\n",
      "│       1001 │  1001 │ 2020-10-31 │  254541.6918594477 │               0.2487 │            0.2485 │  0.5203166666666666 │           0.58385 │ 0.21806666666666666 │  0.5294000000000001 │              0.4713 │  0.5294000000000001 │   0.3374333333333333 │              0.3722 │\n",
      "│       1001 │  1001 │ 2020-11-30 │ 258566.53869571807 │               0.2487 │            0.2485 │  0.5203166666666666 │           0.58385 │ 0.21806666666666666 │  0.5294000000000001 │              0.4713 │  0.5294000000000001 │   0.3374333333333333 │              0.3722 │\n",
      "│       1001 │  1001 │ 2020-12-31 │ 262251.98765678325 │               0.2487 │            0.2485 │  0.5203166666666666 │           0.58385 │ 0.21806666666666666 │  0.5294000000000001 │              0.4713 │  0.5294000000000001 │   0.3374333333333333 │              0.3722 │\n",
      "│       1002 │  1002 │ 2020-01-31 │  368135.9679282472 │             -110.616 │            0.4135 │              0.2154 │            0.1749 │  0.4601333333333334 │              0.3445 │ -110.57223333333333 │              0.3445 │   -110.6879111111111 │              0.2831 │\n",
      "│       1002 │  1002 │ 2020-02-29 │  369326.7331290592 │             -110.616 │            0.4135 │              0.2154 │            0.1749 │  0.4601333333333334 │              0.3445 │ -110.57223333333333 │              0.3445 │   -110.6879111111111 │              0.2831 │\n",
      "│       1002 │  1002 │ 2020-03-31 │  371058.6780468086 │             -110.616 │            0.4135 │              0.2154 │            0.1749 │  0.4601333333333334 │              0.3445 │ -110.57223333333333 │              0.3445 │   -110.6879111111111 │              0.2831 │\n",
      "│       1002 │  1002 │ 2020-04-30 │  372875.3903295407 │             -110.616 │            0.4135 │              0.2154 │            0.1749 │  0.4601333333333334 │              0.3445 │ -110.57223333333333 │              0.3445 │   -110.6879111111111 │              0.2831 │\n",
      "│       1002 │  1002 │ 2020-05-31 │  374683.7655854277 │             -110.616 │            0.4135 │              0.2154 │            0.1749 │  0.4601333333333334 │              0.3445 │ -110.57223333333333 │              0.3445 │   -110.6879111111111 │              0.2831 │\n",
      "│       1002 │  1002 │ 2020-06-30 │  375678.6504453764 │             -110.616 │            0.4135 │              0.2154 │            0.1749 │  0.4601333333333334 │              0.3445 │ -110.57223333333333 │              0.3445 │   -110.6879111111111 │              0.2831 │\n",
      "│       1002 │  1002 │ 2020-07-31 │  376571.2139999925 │             -110.616 │            0.4135 │              0.2154 │            0.1749 │  0.4601333333333334 │              0.3445 │ -110.57223333333333 │              0.3445 │   -110.6879111111111 │              0.2831 │\n",
      "│       1002 │  1002 │ 2020-08-31 │  378575.5896368805 │             -110.616 │            0.4135 │              0.2154 │            0.1749 │  0.4601333333333334 │              0.3445 │ -110.57223333333333 │              0.3445 │   -110.6879111111111 │              0.2831 │\n",
      "│       1002 │  1002 │ 2020-09-30 │  382243.8736941884 │             -110.616 │            0.4135 │              0.2154 │            0.1749 │  0.4601333333333334 │              0.3445 │ -110.57223333333333 │              0.3445 │   -110.6879111111111 │              0.2831 │\n",
      "│       1002 │  1002 │ 2020-10-31 │  387275.9051320024 │             -110.616 │            0.4135 │              0.2154 │            0.1749 │  0.4601333333333334 │              0.3445 │ -110.57223333333333 │              0.3445 │   -110.6879111111111 │              0.2831 │\n",
      "│       1002 │  1002 │ 2020-11-30 │  393087.5638985271 │             -110.616 │            0.4135 │              0.2154 │            0.1749 │  0.4601333333333334 │              0.3445 │ -110.57223333333333 │              0.3445 │   -110.6879111111111 │              0.2831 │\n",
      "│       1002 │  1002 │ 2020-12-31 │  398635.1533460307 │             -110.616 │            0.4135 │              0.2154 │            0.1749 │  0.4601333333333334 │              0.3445 │ -110.57223333333333 │              0.3445 │   -110.6879111111111 │              0.2831 │\n",
      "│       1005 │  1005 │ 2020-01-31 │ 247535.32303883127 │               0.1326 │            0.1326 │             0.07885 │           0.07885 │             0.07475 │             0.25645 │             0.25645 │             0.25645 │  0.07669999999999999 │ 0.07669999999999999 │\n",
      "│       1005 │  1005 │ 2020-02-29 │  248730.8718702652 │               0.1326 │            0.1326 │             0.07885 │           0.07885 │             0.07475 │             0.25645 │             0.25645 │             0.25645 │  0.07669999999999999 │ 0.07669999999999999 │\n",
      "│       1005 │  1005 │ 2020-03-31 │ 250176.82477696324 │               0.1326 │            0.1326 │             0.07885 │           0.07885 │             0.07475 │             0.25645 │             0.25645 │             0.25645 │  0.07669999999999999 │ 0.07669999999999999 │\n",
      "│       1005 │  1005 │ 2020-04-30 │  251780.2622243748 │               0.1326 │            0.1326 │             0.07885 │           0.07885 │             0.07475 │             0.25645 │             0.25645 │             0.25645 │  0.07669999999999999 │ 0.07669999999999999 │\n",
      "│       1005 │  1005 │ 2020-05-31 │  253173.3584109981 │               0.1326 │            0.1326 │             0.07885 │           0.07885 │             0.07475 │             0.25645 │             0.25645 │             0.25645 │  0.07669999999999999 │ 0.07669999999999999 │\n",
      "│       1005 │  1005 │ 2020-06-30 │ 253839.16557478183 │               0.1326 │            0.1326 │             0.07885 │           0.07885 │             0.07475 │             0.25645 │             0.25645 │             0.25645 │  0.07669999999999999 │ 0.07669999999999999 │\n",
      "│       1005 │  1005 │ 2020-07-31 │  254615.0469623887 │               0.1326 │            0.1326 │             0.07885 │           0.07885 │             0.07475 │             0.25645 │             0.25645 │             0.25645 │  0.07669999999999999 │ 0.07669999999999999 │\n",
      "│       1005 │  1005 │ 2020-08-31 │ 256241.09763249967 │               0.1326 │            0.1326 │             0.07885 │           0.07885 │             0.07475 │             0.25645 │             0.25645 │             0.25645 │  0.07669999999999999 │ 0.07669999999999999 │\n",
      "│       1005 │  1005 │ 2020-09-30 │ 259441.27943151517 │               0.1326 │            0.1326 │             0.07885 │           0.07885 │             0.07475 │             0.25645 │             0.25645 │             0.25645 │  0.07669999999999999 │ 0.07669999999999999 │\n",
      "│       1005 │  1005 │ 2020-10-31 │  263439.9567491557 │               0.1326 │            0.1326 │             0.07885 │           0.07885 │             0.07475 │             0.25645 │             0.25645 │             0.25645 │  0.07669999999999999 │ 0.07669999999999999 │\n",
      "│       1005 │  1005 │ 2020-11-30 │ 268556.90248687105 │               0.1326 │            0.1326 │             0.07885 │           0.07885 │             0.07475 │             0.25645 │             0.25645 │             0.25645 │  0.07669999999999999 │ 0.07669999999999999 │\n",
      "│       1005 │  1005 │ 2020-12-31 │  273992.9625272807 │               0.1326 │            0.1326 │             0.07885 │           0.07885 │             0.07475 │             0.25645 │             0.25645 │             0.25645 │  0.07669999999999999 │ 0.07669999999999999 │\n",
      "│       1007 │  1007 │ 2020-01-31 │ 303760.15886866214 │                 NULL │              NULL │                NULL │              NULL │                NULL │                NULL │                NULL │                NULL │                 NULL │                NULL │\n",
      "│       1007 │  1007 │ 2020-02-29 │  305312.1324629996 │                 NULL │              NULL │                NULL │              NULL │                NULL │                NULL │                NULL │                NULL │                 NULL │                NULL │\n",
      "│       1007 │  1007 │ 2020-03-31 │  307118.1161914517 │                 NULL │              NULL │                NULL │              NULL │                NULL │                NULL │                NULL │                NULL │                 NULL │                NULL │\n",
      "│       1007 │  1007 │ 2020-04-30 │  309226.6122489209 │                 NULL │              NULL │                NULL │              NULL │                NULL │                NULL │                NULL │                NULL │                 NULL │                NULL │\n",
      "│       1007 │  1007 │ 2020-05-31 │  310710.9794162247 │                 NULL │              NULL │                NULL │              NULL │                NULL │                NULL │                NULL │                NULL │                 NULL │                NULL │\n",
      "│       1007 │  1007 │ 2020-06-30 │  311395.4465809732 │                 NULL │              NULL │                NULL │              NULL │                NULL │                NULL │                NULL │                NULL │                 NULL │                NULL │\n",
      "│       1007 │  1007 │ 2020-07-31 │ 311797.88338444167 │                 NULL │              NULL │                NULL │              NULL │                NULL │                NULL │                NULL │                NULL │                 NULL │                NULL │\n",
      "│       1007 │  1007 │ 2020-08-31 │ 313010.14834809554 │                 NULL │              NULL │                NULL │              NULL │                NULL │                NULL │                NULL │                NULL │                 NULL │                NULL │\n",
      "│       1007 │  1007 │ 2020-09-30 │ 315715.02551161684 │                 NULL │              NULL │                NULL │              NULL │                NULL │                NULL │                NULL │                NULL │                 NULL │                NULL │\n",
      "│       1007 │  1007 │ 2020-10-31 │  319712.2396879064 │                 NULL │              NULL │                NULL │              NULL │                NULL │                NULL │                NULL │                NULL │                 NULL │                NULL │\n",
      "│       1007 │  1007 │ 2020-11-30 │  324676.0389530759 │                 NULL │              NULL │                NULL │              NULL │                NULL │                NULL │                NULL │                NULL │                 NULL │                NULL │\n",
      "│       1007 │  1007 │ 2020-12-31 │  329519.3472631226 │                 NULL │              NULL │                NULL │              NULL │                NULL │                NULL │                NULL │                NULL │                 NULL │                NULL │\n",
      "│       1008 │  1008 │ 2020-01-31 │  236958.9544597311 │               0.3185 │            0.3185 │              0.1871 │            0.1871 │              0.0635 │              0.4603 │              0.4603 │              0.4603 │               0.2547 │              0.2547 │\n",
      "│       1008 │  1008 │ 2020-02-29 │ 237677.97417873552 │               0.3185 │            0.3185 │              0.1871 │            0.1871 │              0.0635 │              0.4603 │              0.4603 │              0.4603 │               0.2547 │              0.2547 │\n",
      "│         ·  │    ·  │     ·      │          ·         │                  ·   │               ·   │                 ·   │               ·   │                 ·   │                 ·   │                 ·   │                 ·   │                  ·   │                 ·   │\n",
      "│         ·  │    ·  │     ·      │          ·         │                  ·   │               ·   │                 ·   │               ·   │                 ·   │                 ·   │                 ·   │                 ·   │                  ·   │                 ·   │\n",
      "│         ·  │    ·  │     ·      │          ·         │                  ·   │               ·   │                 ·   │               ·   │                 ·   │                 ·   │                 ·   │                 ·   │                  ·   │                 ·   │\n",
      "│       4105 │  4105 │ 2020-07-31 │  510035.1032547588 │   0.3581666666666667 │            0.4572 │ 0.23436666666666664 │            0.2361 │ 0.32093333333333335 │              0.4906 │  0.6256666666666667 │              0.4906 │   0.4049333333333333 │              0.3936 │\n",
      "│       4105 │  4105 │ 2020-08-31 │  514747.1830041625 │   0.3581666666666667 │            0.4572 │ 0.23436666666666664 │            0.2361 │ 0.32093333333333335 │              0.4906 │  0.6256666666666667 │              0.4906 │   0.4049333333333333 │              0.3936 │\n",
      "│       4105 │  4105 │ 2020-09-30 │  521819.8812798124 │   0.3581666666666667 │            0.4572 │ 0.23436666666666664 │            0.2361 │ 0.32093333333333335 │              0.4906 │  0.6256666666666667 │              0.4906 │   0.4049333333333333 │              0.3936 │\n",
      "│       4105 │  4105 │ 2020-10-31 │  531814.0431855861 │   0.3581666666666667 │            0.4572 │ 0.23436666666666664 │            0.2361 │ 0.32093333333333335 │              0.4906 │  0.6256666666666667 │              0.4906 │   0.4049333333333333 │              0.3936 │\n",
      "│       4105 │  4105 │ 2020-11-30 │  543785.5044693849 │   0.3581666666666667 │            0.4572 │ 0.23436666666666664 │            0.2361 │ 0.32093333333333335 │              0.4906 │  0.6256666666666667 │              0.4906 │   0.4049333333333333 │              0.3936 │\n",
      "│       4105 │  4105 │ 2020-12-31 │  556717.5576062725 │   0.3581666666666667 │            0.4572 │ 0.23436666666666664 │            0.2361 │ 0.32093333333333335 │              0.4906 │  0.6256666666666667 │              0.4906 │   0.4049333333333333 │              0.3936 │\n",
      "│       4106 │  4106 │ 2020-01-31 │  310891.2549357713 │  0.23122857142857142 │            0.2516 │ 0.26284285714285716 │             0.215 │  0.1102142857142857 │              0.3121 │  0.3084285714285714 │              0.3121 │  0.21154285714285717 │              0.2548 │\n",
      "│       4106 │  4106 │ 2020-02-29 │ 313153.78046341473 │  0.23122857142857142 │            0.2516 │ 0.26284285714285716 │             0.215 │  0.1102142857142857 │              0.3121 │  0.3084285714285714 │              0.3121 │  0.21154285714285717 │              0.2548 │\n",
      "│       4106 │  4106 │ 2020-03-31 │  316226.1248147543 │  0.23122857142857142 │            0.2516 │ 0.26284285714285716 │             0.215 │  0.1102142857142857 │              0.3121 │  0.3084285714285714 │              0.3121 │  0.21154285714285717 │              0.2548 │\n",
      "│       4106 │  4106 │ 2020-04-30 │ 319108.68181871047 │  0.23122857142857142 │            0.2516 │ 0.26284285714285716 │             0.215 │  0.1102142857142857 │              0.3121 │  0.3084285714285714 │              0.3121 │  0.21154285714285717 │              0.2548 │\n",
      "│       4106 │  4106 │ 2020-05-31 │ 321322.36464597395 │  0.23122857142857142 │            0.2516 │ 0.26284285714285716 │             0.215 │  0.1102142857142857 │              0.3121 │  0.3084285714285714 │              0.3121 │  0.21154285714285717 │              0.2548 │\n",
      "│       4106 │  4106 │ 2020-06-30 │  322998.2066037162 │  0.23122857142857142 │            0.2516 │ 0.26284285714285716 │             0.215 │  0.1102142857142857 │              0.3121 │  0.3084285714285714 │              0.3121 │  0.21154285714285717 │              0.2548 │\n",
      "│       4106 │  4106 │ 2020-07-31 │  325024.9486162376 │  0.23122857142857142 │            0.2516 │ 0.26284285714285716 │             0.215 │  0.1102142857142857 │              0.3121 │  0.3084285714285714 │              0.3121 │  0.21154285714285717 │              0.2548 │\n",
      "│       4106 │  4106 │ 2020-08-31 │  328216.0497684724 │  0.23122857142857142 │            0.2516 │ 0.26284285714285716 │             0.215 │  0.1102142857142857 │              0.3121 │  0.3084285714285714 │              0.3121 │  0.21154285714285717 │              0.2548 │\n",
      "│       4106 │  4106 │ 2020-09-30 │  333355.0821641819 │  0.23122857142857142 │            0.2516 │ 0.26284285714285716 │             0.215 │  0.1102142857142857 │              0.3121 │  0.3084285714285714 │              0.3121 │  0.21154285714285717 │              0.2548 │\n",
      "│       4106 │  4106 │ 2020-10-31 │  339934.1130003236 │  0.23122857142857142 │            0.2516 │ 0.26284285714285716 │             0.215 │  0.1102142857142857 │              0.3121 │  0.3084285714285714 │              0.3121 │  0.21154285714285717 │              0.2548 │\n",
      "│       4106 │  4106 │ 2020-11-30 │  347964.0317895931 │  0.23122857142857142 │            0.2516 │ 0.26284285714285716 │             0.215 │  0.1102142857142857 │              0.3121 │  0.3084285714285714 │              0.3121 │  0.21154285714285717 │              0.2548 │\n",
      "│       4106 │  4106 │ 2020-12-31 │  355975.4889998869 │  0.23122857142857142 │            0.2516 │ 0.26284285714285716 │             0.215 │  0.1102142857142857 │              0.3121 │  0.3084285714285714 │              0.3121 │  0.21154285714285717 │              0.2548 │\n",
      "│       4107 │  4107 │ 2020-01-31 │  579085.0096343246 │ 0.030033333333333332 │            0.0281 │ 0.18216666666666667 │            0.1814 │ 0.05226666666666666 │              0.0792 │ 0.06483333333333334 │              0.0792 │ 0.021199999999999997 │              0.0233 │\n",
      "│       4107 │  4107 │ 2020-02-29 │  582596.6889107627 │ 0.030033333333333332 │            0.0281 │ 0.18216666666666667 │            0.1814 │ 0.05226666666666666 │              0.0792 │ 0.06483333333333334 │              0.0792 │ 0.021199999999999997 │              0.0233 │\n",
      "│       4107 │  4107 │ 2020-03-31 │  587689.1648653498 │ 0.030033333333333332 │            0.0281 │ 0.18216666666666667 │            0.1814 │ 0.05226666666666666 │              0.0792 │ 0.06483333333333334 │              0.0792 │ 0.021199999999999997 │              0.0233 │\n",
      "│       4107 │  4107 │ 2020-04-30 │  593137.8258600848 │ 0.030033333333333332 │            0.0281 │ 0.18216666666666667 │            0.1814 │ 0.05226666666666666 │              0.0792 │ 0.06483333333333334 │              0.0792 │ 0.021199999999999997 │              0.0233 │\n",
      "│       4107 │  4107 │ 2020-05-31 │  596626.4870938504 │ 0.030033333333333332 │            0.0281 │ 0.18216666666666667 │            0.1814 │ 0.05226666666666666 │              0.0792 │ 0.06483333333333334 │              0.0792 │ 0.021199999999999997 │              0.0233 │\n",
      "│       4107 │  4107 │ 2020-06-30 │  599154.7555770284 │ 0.030033333333333332 │            0.0281 │ 0.18216666666666667 │            0.1814 │ 0.05226666666666666 │              0.0792 │ 0.06483333333333334 │              0.0792 │ 0.021199999999999997 │              0.0233 │\n",
      "│       4107 │  4107 │ 2020-07-31 │  602808.8345351405 │ 0.030033333333333332 │            0.0281 │ 0.18216666666666667 │            0.1814 │ 0.05226666666666666 │              0.0792 │ 0.06483333333333334 │              0.0792 │ 0.021199999999999997 │              0.0233 │\n",
      "│       4107 │  4107 │ 2020-08-31 │  610360.5843601482 │ 0.030033333333333332 │            0.0281 │ 0.18216666666666667 │            0.1814 │ 0.05226666666666666 │              0.0792 │ 0.06483333333333334 │              0.0792 │ 0.021199999999999997 │              0.0233 │\n",
      "│       4107 │  4107 │ 2020-09-30 │  622343.2592461572 │ 0.030033333333333332 │            0.0281 │ 0.18216666666666667 │            0.1814 │ 0.05226666666666666 │              0.0792 │ 0.06483333333333334 │              0.0792 │ 0.021199999999999997 │              0.0233 │\n",
      "│       4107 │  4107 │ 2020-10-31 │  636444.7491897951 │ 0.030033333333333332 │            0.0281 │ 0.18216666666666667 │            0.1814 │ 0.05226666666666666 │              0.0792 │ 0.06483333333333334 │              0.0792 │ 0.021199999999999997 │              0.0233 │\n",
      "│       4107 │  4107 │ 2020-11-30 │  652242.0955008905 │ 0.030033333333333332 │            0.0281 │ 0.18216666666666667 │            0.1814 │ 0.05226666666666666 │              0.0792 │ 0.06483333333333334 │              0.0792 │ 0.021199999999999997 │              0.0233 │\n",
      "│       4107 │  4107 │ 2020-12-31 │  667274.6970312194 │ 0.030033333333333332 │            0.0281 │ 0.18216666666666667 │            0.1814 │ 0.05226666666666666 │              0.0792 │ 0.06483333333333334 │              0.0792 │ 0.021199999999999997 │              0.0233 │\n",
      "│       4108 │  4108 │ 2020-01-31 │  399002.0913396833 │               0.4318 │            0.4318 │              0.2015 │            0.2015 │             0.08715 │ 0.42364999999999997 │ 0.42364999999999997 │ 0.42364999999999997 │              0.29945 │             0.29945 │\n",
      "│       4108 │  4108 │ 2020-02-29 │  399804.6225342988 │               0.4318 │            0.4318 │              0.2015 │            0.2015 │             0.08715 │ 0.42364999999999997 │ 0.42364999999999997 │ 0.42364999999999997 │              0.29945 │             0.29945 │\n",
      "│       4108 │  4108 │ 2020-03-31 │  402110.4316989262 │               0.4318 │            0.4318 │              0.2015 │            0.2015 │             0.08715 │ 0.42364999999999997 │ 0.42364999999999997 │ 0.42364999999999997 │              0.29945 │             0.29945 │\n",
      "│       4108 │  4108 │ 2020-04-30 │ 404424.65791851474 │               0.4318 │            0.4318 │              0.2015 │            0.2015 │             0.08715 │ 0.42364999999999997 │ 0.42364999999999997 │ 0.42364999999999997 │              0.29945 │             0.29945 │\n",
      "│       4108 │  4108 │ 2020-05-31 │  406453.7631371261 │               0.4318 │            0.4318 │              0.2015 │            0.2015 │             0.08715 │ 0.42364999999999997 │ 0.42364999999999997 │ 0.42364999999999997 │              0.29945 │             0.29945 │\n",
      "│       4108 │  4108 │ 2020-06-30 │  407381.5418758325 │               0.4318 │            0.4318 │              0.2015 │            0.2015 │             0.08715 │ 0.42364999999999997 │ 0.42364999999999997 │ 0.42364999999999997 │              0.29945 │             0.29945 │\n",
      "│       4108 │  4108 │ 2020-07-31 │  408775.1936995328 │               0.4318 │            0.4318 │              0.2015 │            0.2015 │             0.08715 │ 0.42364999999999997 │ 0.42364999999999997 │ 0.42364999999999997 │              0.29945 │             0.29945 │\n",
      "│       4108 │  4108 │ 2020-08-31 │    412183.54026465 │               0.4318 │            0.4318 │              0.2015 │            0.2015 │             0.08715 │ 0.42364999999999997 │ 0.42364999999999997 │ 0.42364999999999997 │              0.29945 │             0.29945 │\n",
      "│       4108 │  4108 │ 2020-09-30 │ 418507.11487653386 │               0.4318 │            0.4318 │              0.2015 │            0.2015 │             0.08715 │ 0.42364999999999997 │ 0.42364999999999997 │ 0.42364999999999997 │              0.29945 │             0.29945 │\n",
      "│       4108 │  4108 │ 2020-10-31 │  425580.5682377936 │               0.4318 │            0.4318 │              0.2015 │            0.2015 │             0.08715 │ 0.42364999999999997 │ 0.42364999999999997 │ 0.42364999999999997 │              0.29945 │             0.29945 │\n",
      "│       4108 │  4108 │ 2020-11-30 │  433859.0438724975 │               0.4318 │            0.4318 │              0.2015 │            0.2015 │             0.08715 │ 0.42364999999999997 │ 0.42364999999999997 │ 0.42364999999999997 │              0.29945 │             0.29945 │\n",
      "│       4108 │  4108 │ 2020-12-31 │  442140.9785494248 │               0.4318 │            0.4318 │              0.2015 │            0.2015 │             0.08715 │ 0.42364999999999997 │ 0.42364999999999997 │ 0.42364999999999997 │              0.29945 │             0.29945 │\n",
      "│       4109 │  4109 │ 2020-01-31 │  514150.3794575745 │              0.30135 │           0.30135 │             0.33355 │           0.33355 │              0.1275 │ 0.34414999999999996 │ 0.34414999999999996 │ 0.34414999999999996 │                0.256 │               0.256 │\n",
      "│       4109 │  4109 │ 2020-02-29 │  515625.1517461287 │              0.30135 │           0.30135 │             0.33355 │           0.33355 │              0.1275 │ 0.34414999999999996 │ 0.34414999999999996 │ 0.34414999999999996 │                0.256 │               0.256 │\n",
      "│       4109 │  4109 │ 2020-03-31 │ 517635.74350568745 │              0.30135 │           0.30135 │             0.33355 │           0.33355 │              0.1275 │ 0.34414999999999996 │ 0.34414999999999996 │ 0.34414999999999996 │                0.256 │               0.256 │\n",
      "│       4109 │  4109 │ 2020-04-30 │  520442.2274954792 │              0.30135 │           0.30135 │             0.33355 │           0.33355 │              0.1275 │ 0.34414999999999996 │ 0.34414999999999996 │ 0.34414999999999996 │                0.256 │               0.256 │\n",
      "│       4109 │  4109 │ 2020-05-31 │  522504.0826944129 │              0.30135 │           0.30135 │             0.33355 │           0.33355 │              0.1275 │ 0.34414999999999996 │ 0.34414999999999996 │ 0.34414999999999996 │                0.256 │               0.256 │\n",
      "│       4109 │  4109 │ 2020-06-30 │ 524153.01875198894 │              0.30135 │           0.30135 │             0.33355 │           0.33355 │              0.1275 │ 0.34414999999999996 │ 0.34414999999999996 │ 0.34414999999999996 │                0.256 │               0.256 │\n",
      "│       4109 │  4109 │ 2020-07-31 │   526113.269194473 │              0.30135 │           0.30135 │             0.33355 │           0.33355 │              0.1275 │ 0.34414999999999996 │ 0.34414999999999996 │ 0.34414999999999996 │                0.256 │               0.256 │\n",
      "│       4109 │  4109 │ 2020-08-31 │  532162.4511711682 │              0.30135 │           0.30135 │             0.33355 │           0.33355 │              0.1275 │ 0.34414999999999996 │ 0.34414999999999996 │ 0.34414999999999996 │                0.256 │               0.256 │\n",
      "├────────────┴───────┴────────────┴────────────────────┴──────────────────────┴───────────────────┴─────────────────────┴───────────────────┴─────────────────────┴─────────────────────┴─────────────────────┴─────────────────────┴──────────────────────┴─────────────────────┤\n",
      "│ ? rows (>9999 rows, 100 shown)                                                                                                                                                                                                                                      14 columns │\n",
      "└────────────────────────────────────────────────────────────────────────────────────────────────────────────────────────────────────────────────────────────────────────────────────────────────────────────────────────────────────────────────────────────────────────────────┘\n",
      "\n"
     ]
    }
   ],
   "source": [
    "con.sql(\"SELECT * FROM zillow_zhvi_sfr_zip_with_svi_silver ORDER BY zip, date\").show(\n",
    "    max_rows=100\n",
    ")"
   ]
  },
  {
   "cell_type": "code",
   "execution_count": 58,
   "metadata": {},
   "outputs": [
    {
     "ename": "ConnectionException",
     "evalue": "Connection Error: Connection already closed!",
     "output_type": "error",
     "traceback": [
      "\u001b[1;31m---------------------------------------------------------------------------\u001b[0m",
      "\u001b[1;31mConnectionException\u001b[0m                       Traceback (most recent call last)",
      "Cell \u001b[1;32mIn[58], line 1\u001b[0m\n\u001b[1;32m----> 1\u001b[0m \u001b[43mcon\u001b[49m\u001b[38;5;241;43m.\u001b[39;49m\u001b[43mcommit\u001b[49m\u001b[43m(\u001b[49m\u001b[43m)\u001b[49m\n\u001b[0;32m      2\u001b[0m con\u001b[38;5;241m.\u001b[39mclose()\n",
      "\u001b[1;31mConnectionException\u001b[0m: Connection Error: Connection already closed!"
     ]
    }
   ],
   "source": [
    "con.commit()\n",
    "con.close()"
   ]
  }
 ],
 "metadata": {
  "kernelspec": {
   "display_name": ".venv",
   "language": "python",
   "name": "python3"
  },
  "language_info": {
   "codemirror_mode": {
    "name": "ipython",
    "version": 3
   },
   "file_extension": ".py",
   "mimetype": "text/x-python",
   "name": "python",
   "nbconvert_exporter": "python",
   "pygments_lexer": "ipython3",
   "version": "3.11.9"
  }
 },
 "nbformat": 4,
 "nbformat_minor": 2
}

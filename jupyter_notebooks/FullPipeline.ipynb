{
 "cells": [
  {
   "cell_type": "markdown",
   "metadata": {},
   "source": [
    "# Pipeline As A Notebook"
   ]
  },
  {
   "cell_type": "code",
   "execution_count": null,
   "metadata": {},
   "outputs": [],
   "source": [
    "!pip install -r ../requirements.txt"
   ]
  },
  {
   "cell_type": "markdown",
   "metadata": {},
   "source": [
    "## Download Required Files\n",
    "\n",
    "Download the required files and place them in th configured location below.\n",
    "\n",
    "#### Hud Zip to Tract Crosswalk Dataset  \n",
    "2020 and 2022 crosswalk files are also included in the repo.  \n",
    "URL:  \n",
    "Expected Location: `{download_directory}/crosswalk/zip_tract/`\n",
    "\n",
    "#### SVI Dataset\n",
    "URL:  \n",
    "Expected Location: `{download_directory}/svi/`\n",
    "\n",
    "#### Zillow HVI Dataset\n",
    "URL:  \n",
    "Expected Location: `{download_directory}/zillow`\n"
   ]
  },
  {
   "cell_type": "code",
   "execution_count": 3,
   "metadata": {},
   "outputs": [],
   "source": [
    "download_directory = \"../chosen_data\"\n",
    "year = 2020"
   ]
  },
  {
   "cell_type": "markdown",
   "metadata": {},
   "source": [
    "## Database Connection"
   ]
  },
  {
   "cell_type": "code",
   "execution_count": 4,
   "metadata": {},
   "outputs": [],
   "source": [
    "import duckdb\n",
    "\n",
    "# create a connection to a file called 'test_database.db'\n",
    "con = duckdb.connect(\"../data/database_jupyter.db\")"
   ]
  },
  {
   "cell_type": "markdown",
   "metadata": {},
   "source": [
    "## Create Tables\n",
    "If they do not exist create the expected tables"
   ]
  },
  {
   "cell_type": "markdown",
   "metadata": {},
   "source": [
    "Would need to include code for table migration/translation when new SVI datasets are downloaded\n",
    "\n",
    "We will not precreate Zillows Bronze table, as those will be overwrites exclusively and then need to be pivoted. "
   ]
  },
  {
   "cell_type": "code",
   "execution_count": 5,
   "metadata": {},
   "outputs": [
    {
     "data": {
      "text/plain": [
       "┌─────────┐\n",
       "│  name   │\n",
       "│ varchar │\n",
       "├─────────┤\n",
       "│ 0 rows  │\n",
       "└─────────┘"
      ]
     },
     "execution_count": 5,
     "metadata": {},
     "output_type": "execute_result"
    }
   ],
   "source": [
    "con.sql(\"SHOW TABLES\")"
   ]
  },
  {
   "cell_type": "code",
   "execution_count": null,
   "metadata": {},
   "outputs": [],
   "source": [
    "con.close()"
   ]
  },
  {
   "cell_type": "code",
   "execution_count": 2,
   "metadata": {},
   "outputs": [],
   "source": [
    "import sys  \n",
    "sys.path.insert(1, '../zillow_project/zillow_project/')\n",
    "\n"
   ]
  },
  {
   "cell_type": "code",
   "execution_count": null,
   "metadata": {},
   "outputs": [],
   "source": [
    "import entry\n",
    "import os\n",
    "\n",
    "print(os.getcwd()) \n",
    "# May need to set this to the specific directory of the project depending on if the configuration uses relative or exact paths\n",
    "os.chdir(\"../\")\n",
    "print(os.getcwd()) \n",
    "sys.argv[1]=\"--pipeline_config=./2022_pipeline.yaml\"\n",
    "entry.main()"
   ]
  },
  {
   "cell_type": "code",
   "execution_count": 13,
   "metadata": {},
   "outputs": [
    {
     "name": "stdout",
     "output_type": "stream",
     "text": [
      "d:\\NASA_Interview_Fresh\\housing_data\n"
     ]
    },
    {
     "data": {
      "text/plain": [
       "┌──────────────────────────┐\n",
       "│           name           │\n",
       "│         varchar          │\n",
       "├──────────────────────────┤\n",
       "│ svi                      │\n",
       "│ tracts_per_zip           │\n",
       "│ zhvi_sfr_zip             │\n",
       "│ zhvi_sfr_zip_with_svi    │\n",
       "│ zhvi_sfr_zip_with_tracts │\n",
       "│ zip_tract                │\n",
       "└──────────────────────────┘"
      ]
     },
     "execution_count": 13,
     "metadata": {},
     "output_type": "execute_result"
    }
   ],
   "source": [
    "import duckdb \n",
    "\n",
    "print(os.getcwd()) \n",
    "# create a connection to a file called 'test_database.db'\n",
    "con = duckdb.connect(\"./data/medallion.db\")\n",
    "con.sql(\"SHOW TABLES\")"
   ]
  },
  {
   "cell_type": "code",
   "execution_count": 14,
   "metadata": {},
   "outputs": [],
   "source": [
    "con.close()"
   ]
  }
 ],
 "metadata": {
  "kernelspec": {
   "display_name": ".venv",
   "language": "python",
   "name": "python3"
  },
  "language_info": {
   "codemirror_mode": {
    "name": "ipython",
    "version": 3
   },
   "file_extension": ".py",
   "mimetype": "text/x-python",
   "name": "python",
   "nbconvert_exporter": "python",
   "pygments_lexer": "ipython3",
   "version": "3.11.9"
  }
 },
 "nbformat": 4,
 "nbformat_minor": 2
}

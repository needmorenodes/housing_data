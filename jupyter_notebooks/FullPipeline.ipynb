{
 "cells": [
  {
   "cell_type": "markdown",
   "metadata": {},
   "source": [
    "# Pipeline As A Notebook\n",
    "\n",
    "You must still create `chosen_data/zillow` and run `Invoke-WebRequest -Uri \"https://files.zillowstatic.com/research/public_csvs/zhvi/Zip_zhvi_uc_sfrcondo_tier_0.33_0.67_sm_sa_month.csv?t=1734396310\" -OutFile .\\chosen_data\\zillow\\Zip_zhvi_uc_sfrcondo_tier_0.33_0.67_sm_sa_month.csv` from the shell."
   ]
  },
  {
   "cell_type": "code",
   "execution_count": null,
   "metadata": {},
   "outputs": [],
   "source": [
    "!pip install -r ../requirements.txt"
   ]
  },
  {
   "cell_type": "markdown",
   "metadata": {},
   "source": [
    "## Download Required Files\n",
    "\n",
    "Download the required files and place them in th configured location below.\n",
    "\n",
    "#### Hud Zip to Tract Crosswalk Dataset  \n",
    "2020 and 2022 crosswalk files are also included in the repo.  \n",
    "URL:  \n",
    "Expected Location: `{download_directory}/crosswalk/zip_tract/`\n",
    "\n",
    "#### SVI Dataset\n",
    "URL:  \n",
    "Expected Location: `{download_directory}/svi/`\n",
    "\n",
    "#### Zillow HVI Dataset\n",
    "URL:  \n",
    "Expected Location: `{download_directory}/zillow`\n"
   ]
  },
  {
   "cell_type": "code",
   "execution_count": 4,
   "metadata": {},
   "outputs": [],
   "source": [
    "import sys  \n",
    "sys.path.insert(1, '../zillow_project/zillow_project/')\n",
    "\n"
   ]
  },
  {
   "cell_type": "code",
   "execution_count": null,
   "metadata": {},
   "outputs": [],
   "source": [
    "import entry\n",
    "import os\n",
    "\n",
    "current_cwd = os.getcwd()\n",
    "print(current_cwd) \n",
    "# May need to set this to the specific directory of the project depending on if the configuration uses relative or absolute paths\n",
    "os.chdir(\"../\")\n",
    "print(os.getcwd()) \n",
    "sys.argv[1]=\"--pipeline_config=./2022_pipeline.yaml\"\n",
    "entry.main()\n",
    "os.chdir(current_cwd)"
   ]
  },
  {
   "cell_type": "code",
   "execution_count": null,
   "metadata": {},
   "outputs": [
    {
     "name": "stdout",
     "output_type": "stream",
     "text": [
      "d:\\NASA_Interview_Fresh\\housing_data\n"
     ]
    },
    {
     "data": {
      "text/plain": [
       "┌──────────────────────────┐\n",
       "│           name           │\n",
       "│         varchar          │\n",
       "├──────────────────────────┤\n",
       "│ svi                      │\n",
       "│ tracts_per_zip           │\n",
       "│ zhvi_sfr_zip             │\n",
       "│ zhvi_sfr_zip_with_svi    │\n",
       "│ zhvi_sfr_zip_with_tracts │\n",
       "│ zip_tract                │\n",
       "└──────────────────────────┘"
      ]
     },
     "execution_count": 13,
     "metadata": {},
     "output_type": "execute_result"
    }
   ],
   "source": [
    "import duckdb \n",
    "\n",
    "print(os.getcwd()) \n",
    "# create a connection to a file called 'test_database.db'\n",
    "con = duckdb.connect(\"../data/medallion.db\")\n",
    "con.sql(\"SHOW TABLES\")"
   ]
  },
  {
   "cell_type": "code",
   "execution_count": null,
   "metadata": {},
   "outputs": [],
   "source": [
    "con.close()"
   ]
  }
 ],
 "metadata": {
  "kernelspec": {
   "display_name": "Python 3",
   "language": "python",
   "name": "python3"
  },
  "language_info": {
   "codemirror_mode": {
    "name": "ipython",
    "version": 3
   },
   "file_extension": ".py",
   "mimetype": "text/x-python",
   "name": "python",
   "nbconvert_exporter": "python",
   "pygments_lexer": "ipython3",
   "version": "3.11.9"
  }
 },
 "nbformat": 4,
 "nbformat_minor": 2
}

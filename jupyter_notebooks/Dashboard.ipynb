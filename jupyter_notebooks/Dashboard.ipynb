{
 "cells": [
  {
   "cell_type": "code",
   "execution_count": null,
   "metadata": {},
   "outputs": [],
   "source": [
    "!pip install -r ../requirements.txt"
   ]
  },
  {
   "cell_type": "code",
   "execution_count": 9,
   "metadata": {},
   "outputs": [
    {
     "name": "stdout",
     "output_type": "stream",
     "text": [
      "d:\\NASA_Interview_Fresh\\housing_data\\jupyter_notebooks\n"
     ]
    }
   ],
   "source": [
    "import duckdb\n",
    "import os\n",
    "# create a connection to a file called 'test_database.db'\n",
    "# Use full path or relative path based on your working directory\n",
    "print(os.getcwd()) \n"
   ]
  },
  {
   "cell_type": "code",
   "execution_count": 10,
   "metadata": {},
   "outputs": [],
   "source": [
    "\n",
    "con = duckdb.connect(\"../data/medallion.db\")"
   ]
  },
  {
   "cell_type": "code",
   "execution_count": 11,
   "metadata": {},
   "outputs": [
    {
     "data": {
      "text/plain": [
       "┌──────────────────────────┐\n",
       "│           name           │\n",
       "│         varchar          │\n",
       "├──────────────────────────┤\n",
       "│ svi                      │\n",
       "│ tracts_per_zip           │\n",
       "│ zhvi_sfr_zip             │\n",
       "│ zhvi_sfr_zip_with_svi    │\n",
       "│ zhvi_sfr_zip_with_tracts │\n",
       "│ zip_tract                │\n",
       "└──────────────────────────┘"
      ]
     },
     "execution_count": 11,
     "metadata": {},
     "output_type": "execute_result"
    }
   ],
   "source": [
    "con.sql(\"SHOW TABLES\")"
   ]
  },
  {
   "cell_type": "code",
   "execution_count": 12,
   "metadata": {},
   "outputs": [
    {
     "data": {
      "text/plain": [
       "┌────────────┬───────────┬───────┬────────────┬────────────────────┬────────────────┬────────────────┬────────────────┬────────────────┬────────────────┐\n",
       "│ RegionName │ StateName │  zip  │    date    │        zhvi        │ avg_rpl_theme1 │ avg_rpl_theme2 │ avg_rpl_theme3 │ avg_rpl_theme4 │ avg_rpl_themes │\n",
       "│   int64    │  varchar  │ int64 │  varchar   │       double       │     double     │     double     │     double     │     double     │     double     │\n",
       "├────────────┼───────────┼───────┼────────────┼────────────────────┼────────────────┼────────────────┼────────────────┼────────────────┼────────────────┤\n",
       "│      21777 │ MD        │ 21777 │ 2022-02-28 │  457127.3972036655 │         0.0714 │         0.1038 │         0.4599 │         0.0057 │         0.0108 │\n",
       "│      21777 │ MD        │ 21777 │ 2022-08-31 │  475167.2715428457 │         0.0714 │         0.1038 │         0.4599 │         0.0057 │         0.0108 │\n",
       "│      21777 │ MD        │ 21777 │ 2022-01-31 │  452250.0584766461 │         0.0714 │         0.1038 │         0.4599 │         0.0057 │         0.0108 │\n",
       "│      21777 │ MD        │ 21777 │ 2022-05-31 │  473069.7427839032 │         0.0714 │         0.1038 │         0.4599 │         0.0057 │         0.0108 │\n",
       "│      21777 │ MD        │ 21777 │ 2022-06-30 │  476134.8908466429 │         0.0714 │         0.1038 │         0.4599 │         0.0057 │         0.0108 │\n",
       "│      21777 │ MD        │ 21777 │ 2022-04-30 │ 468445.39915809344 │         0.0714 │         0.1038 │         0.4599 │         0.0057 │         0.0108 │\n",
       "│      21777 │ MD        │ 21777 │ 2022-09-30 │  472083.3306261815 │         0.0714 │         0.1038 │         0.4599 │         0.0057 │         0.0108 │\n",
       "│      21777 │ MD        │ 21777 │ 2022-10-31 │  470120.7046551861 │         0.0714 │         0.1038 │         0.4599 │         0.0057 │         0.0108 │\n",
       "│      21777 │ MD        │ 21777 │ 2022-12-31 │  469549.7811714408 │         0.0714 │         0.1038 │         0.4599 │         0.0057 │         0.0108 │\n",
       "│      21777 │ MD        │ 21777 │ 2022-03-31 │  462903.8684261962 │         0.0714 │         0.1038 │         0.4599 │         0.0057 │         0.0108 │\n",
       "│        ·   │ ·         │   ·   │     ·      │          ·         │             ·  │             ·  │             ·  │             ·  │             ·  │\n",
       "│        ·   │ ·         │   ·   │     ·      │          ·         │             ·  │             ·  │             ·  │             ·  │             ·  │\n",
       "│        ·   │ ·         │   ·   │     ·      │          ·         │             ·  │             ·  │             ·  │             ·  │             ·  │\n",
       "│      20690 │ MD        │ 20690 │ 2022-11-30 │  470423.7421518297 │           NULL │           NULL │           NULL │           NULL │           NULL │\n",
       "│      21767 │ MD        │ 21767 │ 2022-04-30 │  244386.8963246882 │           NULL │           NULL │           NULL │           NULL │           NULL │\n",
       "│      21767 │ MD        │ 21767 │ 2022-06-30 │ 249007.41690076035 │           NULL │           NULL │           NULL │           NULL │           NULL │\n",
       "│      21767 │ MD        │ 21767 │ 2022-07-31 │    250153.41864325 │           NULL │           NULL │           NULL │           NULL │           NULL │\n",
       "│      21767 │ MD        │ 21767 │ 2022-08-31 │ 249736.68384581184 │           NULL │           NULL │           NULL │           NULL │           NULL │\n",
       "│      21914 │ MD        │ 21914 │ 2022-01-31 │  274258.6664827591 │           NULL │           NULL │           NULL │           NULL │           NULL │\n",
       "│      20629 │ MD        │ 20629 │ 2022-07-31 │  429075.2961839321 │           NULL │           NULL │           NULL │           NULL │           NULL │\n",
       "│      20629 │ MD        │ 20629 │ 2022-09-30 │  422589.0916135716 │           NULL │           NULL │           NULL │           NULL │           NULL │\n",
       "│      20612 │ MD        │ 20612 │ 2022-03-31 │ 324348.62564716727 │           NULL │           NULL │           NULL │           NULL │           NULL │\n",
       "│      20612 │ MD        │ 20612 │ 2022-06-30 │  328417.7627710527 │           NULL │           NULL │           NULL │           NULL │           NULL │\n",
       "├────────────┴───────────┴───────┴────────────┴────────────────────┴────────────────┴────────────────┴────────────────┴────────────────┴────────────────┤\n",
       "│ 5040 rows (20 shown)                                                                                                                       10 columns │\n",
       "└───────────────────────────────────────────────────────────────────────────────────────────────────────────────────────────────────────────────────────┘"
      ]
     },
     "execution_count": 12,
     "metadata": {},
     "output_type": "execute_result"
    }
   ],
   "source": [
    "con.sql(\n",
    "    \"SELECT * FROM zhvi_sfr_zip_with_svi WHERE StateName = 'MD' ORDER BY avg_rpl_themes \"\n",
    ")"
   ]
  },
  {
   "cell_type": "code",
   "execution_count": 13,
   "metadata": {},
   "outputs": [
    {
     "data": {
      "text/html": [
       "<div>\n",
       "<style scoped>\n",
       "    .dataframe tbody tr th:only-of-type {\n",
       "        vertical-align: middle;\n",
       "    }\n",
       "\n",
       "    .dataframe tbody tr th {\n",
       "        vertical-align: top;\n",
       "    }\n",
       "\n",
       "    .dataframe thead th {\n",
       "        text-align: right;\n",
       "    }\n",
       "</style>\n",
       "<table border=\"1\" class=\"dataframe\">\n",
       "  <thead>\n",
       "    <tr style=\"text-align: right;\">\n",
       "      <th></th>\n",
       "      <th>StateName</th>\n",
       "      <th>zip</th>\n",
       "      <th>year</th>\n",
       "      <th>avg_zhvi</th>\n",
       "      <th>avg_rpl_theme1</th>\n",
       "      <th>avg_rpl_theme2</th>\n",
       "      <th>avg_rpl_theme3</th>\n",
       "      <th>avg_rpl_theme4</th>\n",
       "      <th>avg_rpl_themes</th>\n",
       "    </tr>\n",
       "  </thead>\n",
       "  <tbody>\n",
       "    <tr>\n",
       "      <th>0</th>\n",
       "      <td>MI</td>\n",
       "      <td>48505</td>\n",
       "      <td>2022</td>\n",
       "      <td>25628.925296</td>\n",
       "      <td>0.832889</td>\n",
       "      <td>0.736356</td>\n",
       "      <td>0.84855</td>\n",
       "      <td>0.451722</td>\n",
       "      <td>0.770572</td>\n",
       "    </tr>\n",
       "  </tbody>\n",
       "</table>\n",
       "</div>"
      ],
      "text/plain": [
       "  StateName    zip  year      avg_zhvi  avg_rpl_theme1  avg_rpl_theme2  \\\n",
       "0        MI  48505  2022  25628.925296        0.832889        0.736356   \n",
       "\n",
       "   avg_rpl_theme3  avg_rpl_theme4  avg_rpl_themes  \n",
       "0         0.84855        0.451722        0.770572  "
      ]
     },
     "execution_count": 13,
     "metadata": {},
     "output_type": "execute_result"
    }
   ],
   "source": [
    "zillow_svi_df = con.sql(\n",
    "    \"\"\"\n",
    "SELECT \n",
    "    StateName,\n",
    "    zip::string as zip,\n",
    "    year(date::DATE) as year, \n",
    "    avg(zhvi) as avg_zhvi, \n",
    "    avg(avg_rpl_theme1) as avg_rpl_theme1, \n",
    "    avg(avg_rpl_theme2) as avg_rpl_theme2, \n",
    "    avg(avg_rpl_theme3) as avg_rpl_theme3, \n",
    "    avg(avg_rpl_theme4) as avg_rpl_theme4, \n",
    "    avg(avg_rpl_themes) as avg_rpl_themes \n",
    "FROM zhvi_sfr_zip_with_svi \n",
    "GROUP BY StateName, zip, year(date::DATE)\n",
    "ORDER BY avg_zhvi\"\"\"\n",
    ").df()\n",
    "zillow_svi_df.head(1)"
   ]
  },
  {
   "cell_type": "code",
   "execution_count": 14,
   "metadata": {},
   "outputs": [
    {
     "data": {
      "text/plain": [
       "┌───────────┬─────────┬───────┬────────────────────┬─────────────────────┬──────────────────────┬─────────────────────┬────────────────────┬─────────────────────┐\n",
       "│ StateName │   zip   │ year  │      avg_zhvi      │   avg_rpl_theme1    │    avg_rpl_theme2    │   avg_rpl_theme3    │   avg_rpl_theme4   │   avg_rpl_themes    │\n",
       "│  varchar  │ varchar │ int64 │       double       │       double        │        double        │       double        │       double       │       double        │\n",
       "├───────────┼─────────┼───────┼────────────────────┼─────────────────────┼──────────────────────┼─────────────────────┼────────────────────┼─────────────────────┤\n",
       "│ DC        │ 20006   │  2022 │  257210.8715989442 │ 0.42169999999999996 │ 0.007266666666666669 │  0.5806333333333334 │ 0.9794333333333333 │ 0.42863333333333337 │\n",
       "│ DC        │ 20032   │  2022 │ 362699.57341268007 │  0.7566538461538461 │   0.6499153846153848 │  0.9460769230769231 │ 0.7854846153846152 │  0.8297923076923078 │\n",
       "│ DC        │ 20036   │  2022 │  384038.5703549948 │  0.2518666666666667 │ 0.010833333333333332 │  0.5575666666666667 │ 0.9365333333333333 │  0.3022666666666667 │\n",
       "│ DC        │ 20019   │  2022 │   398068.794258016 │  0.7483952380952382 │   0.6672476190476191 │  0.9703047619047619 │ 0.8127809523809527 │  0.8309857142857142 │\n",
       "│ DC        │ 20020   │  2022 │  409341.1758113092 │  0.7462888888888889 │   0.6429277777777777 │  0.9653944444444443 │ 0.7801222222222223 │   0.813422222222222 │\n",
       "│ DC        │ 20024   │  2022 │  444893.7010165578 │  0.6428499999999999 │               0.2908 │             0.75015 │            0.66025 │              0.5901 │\n",
       "│ DC        │ 20005   │  2022 │  543468.3365945217 │ 0.10846666666666667 │ 0.014766666666666666 │              0.5568 │ 0.8103666666666666 │ 0.19076666666666667 │\n",
       "│ DC        │ 20037   │  2022 │  586636.6426598077 │ 0.36883333333333335 │ 0.037200000000000004 │  0.5544666666666668 │ 0.9430666666666667 │ 0.40243333333333337 │\n",
       "│ DC        │ 20009   │  2022 │  591301.6727090547 │              0.2381 │  0.13652727272727275 │  0.5759636363636363 │  0.779809090909091 │  0.3166272727272727 │\n",
       "│ DC        │ 20017   │  2022 │   608359.403955455 │ 0.40895999999999993 │  0.45516000000000006 │  0.8109500000000001 │ 0.6204400000000002 │             0.52771 │\n",
       "│ DC        │ 20018   │  2022 │  615946.5172445833 │  0.4615428571428572 │   0.4375571428571428 │  0.8399571428571427 │ 0.6272142857142856 │  0.5400714285714285 │\n",
       "│ DC        │ 20011   │  2022 │  698026.3863917555 │  0.4221052631578948 │   0.5437947368421053 │  0.8438842105263159 │ 0.7739684210526313 │   0.624057894736842 │\n",
       "│ DC        │ 20002   │  2022 │  707087.5312695425 │ 0.39603214285714294 │  0.23362142857142862 │  0.7211035714285714 │ 0.7203928571428572 │ 0.44819642857142855 │\n",
       "│ DC        │ 20001   │  2022 │  712953.3695240276 │  0.2982352941176471 │   0.1125235294117647 │  0.6689823529411766 │ 0.7969764705882353 │ 0.38000588235294114 │\n",
       "│ DC        │ 20010   │  2022 │  770553.5115390116 │             0.44181 │  0.42789000000000005 │  0.7487800000000001 │ 0.8578700000000001 │             0.62588 │\n",
       "│ DC        │ 20012   │  2022 │  841485.9385319616 │           0.4458875 │               0.6243 │  0.8603124999999999 │ 0.7271624999999999 │  0.6277375000000002 │\n",
       "│ DC        │ 20008   │  2022 │  887974.9504344674 │ 0.11874999999999998 │              0.18576 │ 0.49683000000000005 │            0.68214 │             0.24634 │\n",
       "│ DC        │ 20003   │  2022 │  890459.9535578095 │ 0.29621999999999993 │   0.1945666666666667 │  0.5829466666666667 │ 0.6686599999999999 │ 0.33617333333333327 │\n",
       "│ DC        │ 20016   │  2022 │ 1123306.3963578222 │              0.0978 │  0.25799999999999995 │ 0.42969999999999997 │ 0.5956166666666666 │ 0.23226666666666665 │\n",
       "│ DC        │ 20007   │  2022 │ 1194267.7418428257 │             0.09408 │  0.11604000000000002 │              0.5066 │              0.577 │ 0.17545999999999998 │\n",
       "│ DC        │ 20015   │  2022 │ 1328337.4214665273 │              0.0938 │              0.30358 │              0.5297 │            0.60064 │ 0.25536000000000003 │\n",
       "├───────────┴─────────┴───────┴────────────────────┴─────────────────────┴──────────────────────┴─────────────────────┴────────────────────┴─────────────────────┤\n",
       "│ 21 rows                                                                                                                                              9 columns │\n",
       "└────────────────────────────────────────────────────────────────────────────────────────────────────────────────────────────────────────────────────────────────┘"
      ]
     },
     "execution_count": 14,
     "metadata": {},
     "output_type": "execute_result"
    }
   ],
   "source": [
    "con.sql(\n",
    "    \"\"\"\n",
    "    SELECT * FROM (\n",
    "    SELECT \n",
    "        StateName,\n",
    "        zip::string as zip,\n",
    "        year(date::DATE) as year, \n",
    "        avg(zhvi) as avg_zhvi, \n",
    "        avg(avg_rpl_theme1) as avg_rpl_theme1, \n",
    "        avg(avg_rpl_theme2) as avg_rpl_theme2, \n",
    "        avg(avg_rpl_theme3) as avg_rpl_theme3, \n",
    "        avg(avg_rpl_theme4) as avg_rpl_theme4, \n",
    "        avg(avg_rpl_themes) as avg_rpl_themes \n",
    "    FROM zhvi_sfr_zip_with_svi \n",
    "    GROUP BY StateName, zip, year(date::DATE)\n",
    "    ORDER BY avg_zhvi)\n",
    "    WHERE avg_zhvi is not null AND avg_rpl_themes IS NOT NULL AND StateName = 'DC'\n",
    "\"\"\"\n",
    ")"
   ]
  },
  {
   "cell_type": "code",
   "execution_count": 15,
   "metadata": {},
   "outputs": [
    {
     "data": {
      "text/html": [
       "\n",
       "        <iframe\n",
       "            width=\"100%\"\n",
       "            height=\"650\"\n",
       "            src=\"http://127.0.0.1:1222/\"\n",
       "            frameborder=\"0\"\n",
       "            allowfullscreen\n",
       "            \n",
       "        ></iframe>\n",
       "        "
      ],
      "text/plain": [
       "<IPython.lib.display.IFrame at 0x1ca92d0f350>"
      ]
     },
     "metadata": {},
     "output_type": "display_data"
    },
    {
     "name": "stdout",
     "output_type": "stream",
     "text": [
      "---------------------------------------------------------------------------\n",
      "InvalidInputException                     Traceback (most recent call last)\n",
      "Cell In[15], line 79, in update_output(\n",
      "    year=2020,\n",
      "    state=None,\n",
      "    rpl_theme='avg_rpl_themes'\n",
      ")\n",
      "     55 @callback(\n",
      "     56     Output(\"pandas-output-container-3\", \"children\"),\n",
      "     57     Input(\"pandas-dropdown-1\", \"value\"),\n",
      "   (...)\n",
      "     60 )\n",
      "     61 def update_output(year, state, rpl_theme):\n",
      "     62     render_df = con.sql(\n",
      "     63         f\"\"\"\n",
      "     64         SELECT * FROM (\n",
      "     65         SELECT \n",
      "     66             StateName,\n",
      "     67             zip::string as zip,\n",
      "     68             year(date::DATE) as year, \n",
      "     69             avg(zhvi) as avg_zhvi, \n",
      "     70             avg(avg_rpl_theme1) as avg_rpl_theme1, \n",
      "     71             avg(avg_rpl_theme2) as avg_rpl_theme2, \n",
      "     72             avg(avg_rpl_theme3) as avg_rpl_theme3, \n",
      "     73             avg(avg_rpl_theme4) as avg_rpl_theme4, \n",
      "     74             avg(avg_rpl_themes) as avg_rpl_themes \n",
      "     75         FROM zhvi_sfr_zip_with_svi \n",
      "     76         GROUP BY StateName, zip, year(date::DATE)\n",
      "     77         ORDER BY avg_zhvi)\n",
      "     78         WHERE avg_zhvi is not null AND {rpl_theme} IS NOT NULL\"\"\"\n",
      "---> 79     ).df()\n",
      "        con = <duckdb.duckdb.DuckDBPyConnection object at 0x000001CA947373F0>\n",
      "        rpl_theme = 'avg_rpl_themes'\n",
      "     81     render_df = render_df.loc[zillow_svi_df[\"year\"] == year]\n",
      "     82     render_df = render_df.loc[zillow_svi_df[\"StateName\"] == state]\n",
      "\n",
      "InvalidInputException: Invalid Input Error: Attempting to execute an unsuccessful or closed pending query result\n",
      "\n"
     ]
    }
   ],
   "source": [
    "from dash import Dash, dcc, html, Input, Output, callback\n",
    "import plotly.express as px\n",
    "from plotly.express import data\n",
    "from plotly.subplots import make_subplots\n",
    "import plotly.graph_objects as go\n",
    "\n",
    "# Create sample app\n",
    "app = Dash(__name__)\n",
    "\n",
    "years = zillow_svi_df.year.unique()\n",
    "years.sort()\n",
    "states = zillow_svi_df.StateName.unique()\n",
    "states.sort()\n",
    "themes = [\n",
    "    \"avg_rpl_theme1\",\n",
    "    \"avg_rpl_theme2\",\n",
    "    \"avg_rpl_theme3\",\n",
    "    \"avg_rpl_theme4\",\n",
    "    \"avg_rpl_themes\",\n",
    "]\n",
    "\n",
    "\n",
    "# dcc.Dropdown(df.nation.unique(), id='pandas-dropdown-2'),\n",
    "# html.Div(id='pandas-output-container-2')\n",
    "\n",
    "# Create layout with dropdown and graph\n",
    "app.layout = html.Div(\n",
    "    [\n",
    "        html.Div(\n",
    "            [\n",
    "                dcc.Dropdown(years, id=\"pandas-dropdown-1\", value=2020),\n",
    "                html.Div(id=\"pandas-output-container-1\"),\n",
    "            ]\n",
    "        ),\n",
    "        html.Div(\n",
    "            [\n",
    "                dcc.Dropdown(states, id=\"pandas-dropdown-2\"),\n",
    "                html.Div(id=\"pandas-output-container-2\"),\n",
    "            ]\n",
    "        ),\n",
    "        html.Div(\n",
    "            [\n",
    "                dcc.Dropdown(themes, id=\"pandas-dropdown-3\", value=\"avg_rpl_themes\"),\n",
    "                html.Div(id=\"pandas-output-container-3\"),\n",
    "            ]\n",
    "        ),\n",
    "    ]\n",
    ")\n",
    "\n",
    "\n",
    "def update_graph():\n",
    "    pass\n",
    "\n",
    "\n",
    "@callback(\n",
    "    Output(\"pandas-output-container-3\", \"children\"),\n",
    "    Input(\"pandas-dropdown-1\", \"value\"),\n",
    "    Input(\"pandas-dropdown-2\", \"value\"),\n",
    "    Input(\"pandas-dropdown-3\", \"value\"),\n",
    ")\n",
    "def update_output(year, state, rpl_theme):\n",
    "    render_df = con.sql(\n",
    "        f\"\"\"\n",
    "        SELECT * FROM (\n",
    "        SELECT \n",
    "            StateName,\n",
    "            zip::string as zip,\n",
    "            year(date::DATE) as year, \n",
    "            avg(zhvi) as avg_zhvi, \n",
    "            avg(avg_rpl_theme1) as avg_rpl_theme1, \n",
    "            avg(avg_rpl_theme2) as avg_rpl_theme2, \n",
    "            avg(avg_rpl_theme3) as avg_rpl_theme3, \n",
    "            avg(avg_rpl_theme4) as avg_rpl_theme4, \n",
    "            avg(avg_rpl_themes) as avg_rpl_themes \n",
    "        FROM zhvi_sfr_zip_with_svi \n",
    "        GROUP BY StateName, zip, year(date::DATE)\n",
    "        ORDER BY avg_zhvi)\n",
    "        WHERE avg_zhvi is not null AND {rpl_theme} IS NOT NULL\"\"\"\n",
    "    ).df()\n",
    "\n",
    "    render_df = render_df.loc[zillow_svi_df[\"year\"] == year]\n",
    "    render_df = render_df.loc[zillow_svi_df[\"StateName\"] == state]\n",
    "    render_df[\"idx\"] = range(1, len(render_df) + 1)\n",
    "\n",
    "    # Create figure with subplots\n",
    "    fig = make_subplots(rows=2, cols=1)\n",
    "    fig.update_layout(height=1000, bargap=0)\n",
    "    # Add first bar chart\n",
    "    fig.add_trace(\n",
    "        go.Bar(\n",
    "            x=render_df.zip,\n",
    "            y=render_df.avg_zhvi,\n",
    "            name=\"Average ZHVI\",\n",
    "        ),\n",
    "        row=1,\n",
    "        col=1,\n",
    "    )\n",
    "\n",
    "    # Add second bar chart\n",
    "    fig.add_trace(\n",
    "        go.Bar(\n",
    "            x=render_df.zip,\n",
    "            y=render_df[rpl_theme],\n",
    "            name=\"Average SVI Theme\",\n",
    "        ),\n",
    "        row=2,\n",
    "        col=1,\n",
    "    )\n",
    "\n",
    "    fig_scatter = px.scatter(\n",
    "        render_df,\n",
    "        x=\"idx\",\n",
    "        y=rpl_theme,\n",
    "        trendline=\"ols\",\n",
    "        trendline_color_override=\"black\",\n",
    "    )\n",
    "    trendline = fig_scatter.data[1]\n",
    "    trendline.x = list(render_df.zip)\n",
    "    fig.add_trace(trendline, row=2, col=1)\n",
    "    return dcc.Graph(figure=fig)\n",
    "\n",
    "\n",
    "if __name__ == \"__main__\":\n",
    "    app.run_server(debug=True, port=1222)"
   ]
  },
  {
   "cell_type": "code",
   "execution_count": 16,
   "metadata": {},
   "outputs": [],
   "source": [
    "# con.close()"
   ]
  }
 ],
 "metadata": {
  "kernelspec": {
   "display_name": "Python 3",
   "language": "python",
   "name": "python3"
  },
  "language_info": {
   "codemirror_mode": {
    "name": "ipython",
    "version": 3
   },
   "file_extension": ".py",
   "mimetype": "text/x-python",
   "name": "python",
   "nbconvert_exporter": "python",
   "pygments_lexer": "ipython3",
   "version": "3.11.9"
  }
 },
 "nbformat": 4,
 "nbformat_minor": 2
}

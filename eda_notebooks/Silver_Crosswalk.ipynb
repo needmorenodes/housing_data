{
 "cells": [
  {
   "cell_type": "code",
   "execution_count": 19,
   "metadata": {},
   "outputs": [],
   "source": [
    "import duckdb\n",
    "\n",
    "# create a connection to a file called 'test_database.db'\n",
    "con = duckdb.connect(\"../test_database.db\")"
   ]
  },
  {
   "cell_type": "code",
   "execution_count": 22,
   "metadata": {},
   "outputs": [
    {
     "data": {
      "text/plain": [
       "┌────────────┬────────────────┬───────────┬────────────┬──────────────────┬───────────────────────────────────────┬───────────────────────┬──────────────────────┬───────┬──────────┐\n",
       "│ CountyName │   StateName    │ StateFIPS │ CountyFIPS │ MetroName_Zillow │               CBSAName                │ CountyRegionID_Zillow │ MetroRegionID_Zillow │ FIPS  │ CBSACode │\n",
       "│  varchar   │    varchar     │   int64   │   int64    │     varchar      │                varchar                │         int64         │        double        │ int64 │  double  │\n",
       "├────────────┼────────────────┼───────────┼────────────┼──────────────────┼───────────────────────────────────────┼───────────────────────┼──────────────────────┼───────┼──────────┤\n",
       "│ Pike       │ Pennsylvania   │        42 │        103 │ New York, NY     │ New York-Newark-Jersey City, NY-NJ-PA │                   280 │             394913.0 │ 42103 │  35620.0 │\n",
       "│ Bronx      │ New York       │        36 │          5 │ New York, NY     │ New York-Newark-Jersey City, NY-NJ-PA │                   401 │             394913.0 │ 36005 │  35620.0 │\n",
       "│ Essex      │ New Jersey     │        34 │         13 │ New York, NY     │ New York-Newark-Jersey City, NY-NJ-PA │                   504 │             394913.0 │ 34013 │  35620.0 │\n",
       "│ Kings      │ New York       │        36 │         47 │ New York, NY     │ New York-Newark-Jersey City, NY-NJ-PA │                   581 │             394913.0 │ 36047 │  35620.0 │\n",
       "│ Ocean      │ New Jersey     │        34 │         29 │ New York, NY     │ New York-Newark-Jersey City, NY-NJ-PA │                   659 │             394913.0 │ 34029 │  35620.0 │\n",
       "│ Union      │ New Jersey     │        34 │         39 │ New York, NY     │ New York-Newark-Jersey City, NY-NJ-PA │                   771 │             394913.0 │ 34039 │  35620.0 │\n",
       "│ Bergen     │ New Jersey     │        34 │          3 │ New York, NY     │ New York-Newark-Jersey City, NY-NJ-PA │                   874 │             394913.0 │ 34003 │  35620.0 │\n",
       "│ Hudson     │ New Jersey     │        34 │         17 │ New York, NY     │ New York-Newark-Jersey City, NY-NJ-PA │                  1106 │             394913.0 │ 34017 │  35620.0 │\n",
       "│ Morris     │ New Jersey     │        34 │         27 │ New York, NY     │ New York-Newark-Jersey City, NY-NJ-PA │                  1241 │             394913.0 │ 34027 │  35620.0 │\n",
       "│ Nassau     │ New York       │        36 │         59 │ New York, NY     │ New York-Newark-Jersey City, NY-NJ-PA │                  1252 │             394913.0 │ 36059 │  35620.0 │\n",
       "│   ·        │    ·           │         · │          · │  ·               │  ·                                    │                    ·  │                   ·  │   ·   │       ·  │\n",
       "│   ·        │    ·           │         · │          · │  ·               │  ·                                    │                    ·  │                   ·  │   ·   │       ·  │\n",
       "│   ·        │    ·           │         · │          · │  ·               │  ·                                    │                    ·  │                   ·  │   ·   │       ·  │\n",
       "│ Brown      │ Illinois       │        17 │          9 │ NULL             │ NULL                                  │                   402 │                 NULL │ 17009 │     NULL │\n",
       "│ Barry      │ Missouri       │        29 │          9 │ NULL             │ NULL                                  │                   383 │                 NULL │ 29009 │     NULL │\n",
       "│ Baker      │ Oregon         │        41 │          1 │ NULL             │ NULL                                  │                   380 │                 NULL │ 41001 │     NULL │\n",
       "│ Banks      │ Georgia        │        13 │         11 │ NULL             │ NULL                                  │                   381 │                 NULL │ 13011 │     NULL │\n",
       "│ Allen      │ Louisiana      │        22 │          3 │ NULL             │ NULL                                  │                   370 │                 NULL │ 22003 │     NULL │\n",
       "│ Allen      │ Kansas         │        20 │          1 │ NULL             │ NULL                                  │                   368 │                 NULL │ 20001 │     NULL │\n",
       "│ Anson      │ North Carolina │        37 │          7 │ NULL             │ NULL                                  │                   374 │                 NULL │ 37007 │     NULL │\n",
       "│ Atoka      │ Oklahoma       │        40 │          5 │ NULL             │ NULL                                  │                   375 │                 NULL │ 40005 │     NULL │\n",
       "│ Avery      │ North Carolina │        37 │         11 │ NULL             │ NULL                                  │                   376 │                 NULL │ 37011 │     NULL │\n",
       "│ Bacon      │ Georgia        │        13 │          5 │ NULL             │ NULL                                  │                   377 │                 NULL │ 13005 │     NULL │\n",
       "├────────────┴────────────────┴───────────┴────────────┴──────────────────┴───────────────────────────────────────┴───────────────────────┴──────────────────────┴───────┴──────────┤\n",
       "│ 3144 rows (20 shown)                                                                                                                                                   10 columns │\n",
       "└───────────────────────────────────────────────────────────────────────────────────────────────────────────────────────────────────────────────────────────────────────────────────┘"
      ]
     },
     "execution_count": 22,
     "metadata": {},
     "output_type": "execute_result"
    }
   ],
   "source": [
    "con.sql(\"SELECT * FROM crosswalk_zillow\")"
   ]
  },
  {
   "cell_type": "code",
   "execution_count": 23,
   "metadata": {},
   "outputs": [],
   "source": [
    "con.sql(\"\"\"\n",
    "CREATE OR REPLACE TABLE crosswalk_zillow_tract AS \n",
    "WITH \n",
    "    disinct_ziptract AS (SELECT ZIP AS zip, TRACT AS tract FROM crosswalk_zip_tract GROUP BY ZIP, TRACT),\n",
    "    disinct_cbsazip AS (SELECT CBSA AS cbsa, ZIP AS zip, FROM crosswalk_cbsa_zip GROUP BY CBSA, ZIP),\n",
    "    disinct_zillowcbsa AS (SELECT MetroRegionID_Zillow AS zillow_code, MetroName_Zillow as zillow_name, CBSACode AS cbsa FROM crosswalk_zillow GROUP BY MetroRegionID_Zillow, MetroName_Zillow, CBSACode),\n",
    "    zillow_zip AS (SELECT zillow_code, disinct_zillowcbsa.cbsa, disinct_zillowcbsa.zillow_name, disinct_cbsazip.zip FROM disinct_zillowcbsa LEFT JOIN disinct_cbsazip ON disinct_zillowcbsa.cbsa = disinct_cbsazip.cbsa)\n",
    "SELECT zillow_code, zillow_name, tract FROM zillow_zip LEFT JOIN disinct_ziptract ON zillow_zip.zip = disinct_ziptract.zip GROUP BY zillow_code, zillow_name, tract\n",
    "\"\"\")"
   ]
  },
  {
   "cell_type": "code",
   "execution_count": 24,
   "metadata": {},
   "outputs": [
    {
     "data": {
      "text/plain": [
       "┌────────────────────────┐\n",
       "│          name          │\n",
       "│        varchar         │\n",
       "├────────────────────────┤\n",
       "│ crosswalk_cbsa_zip     │\n",
       "│ crosswalk_zillow       │\n",
       "│ crosswalk_zillow_tract │\n",
       "│ crosswalk_zip_tract    │\n",
       "│ svi                    │\n",
       "│ zillow_mean_to_pending │\n",
       "└────────────────────────┘"
      ]
     },
     "execution_count": 24,
     "metadata": {},
     "output_type": "execute_result"
    }
   ],
   "source": [
    "con.sql(\"show tables\")"
   ]
  },
  {
   "cell_type": "code",
   "execution_count": 25,
   "metadata": {},
   "outputs": [
    {
     "data": {
      "text/plain": [
       "┌─────────────┬───────────────────────────┬─────────────┐\n",
       "│ zillow_code │        zillow_name        │    tract    │\n",
       "│   double    │          varchar          │    int64    │\n",
       "├─────────────┼───────────────────────────┼─────────────┤\n",
       "│    394404.0 │ Boston, MA                │ 25017339900 │\n",
       "│    394669.0 │ Hartford, CT              │  9003473501 │\n",
       "│    394887.0 │ Mount Sterling, KY        │ 21173920400 │\n",
       "│    394856.0 │ Miami-Fort Lauderdale, FL │ 12099003507 │\n",
       "│    394459.0 │ Charlottesville, VA       │ 51540000700 │\n",
       "│    753924.0 │ Urban Honolulu, HI        │ 15003005900 │\n",
       "│    395209.0 │ Washington, DC            │ 51013102302 │\n",
       "│    395209.0 │ Washington, DC            │ 51013102400 │\n",
       "│    394306.0 │ Albany, GA                │ 13095000900 │\n",
       "│    394306.0 │ Albany, GA                │ 13095011300 │\n",
       "├─────────────┴───────────────────────────┴─────────────┤\n",
       "│ 10 rows                                     3 columns │\n",
       "└───────────────────────────────────────────────────────┘"
      ]
     },
     "execution_count": 25,
     "metadata": {},
     "output_type": "execute_result"
    }
   ],
   "source": [
    "con.sql(\"SELECT * FROM crosswalk_zillow_tract LIMIT 10\")"
   ]
  },
  {
   "cell_type": "code",
   "execution_count": 26,
   "metadata": {},
   "outputs": [],
   "source": [
    "con.commit()\n",
    "con.close()"
   ]
  }
 ],
 "metadata": {
  "kernelspec": {
   "display_name": ".venv",
   "language": "python",
   "name": "python3"
  },
  "language_info": {
   "codemirror_mode": {
    "name": "ipython",
    "version": 3
   },
   "file_extension": ".py",
   "mimetype": "text/x-python",
   "name": "python",
   "nbconvert_exporter": "python",
   "pygments_lexer": "ipython3",
   "version": "3.11.9"
  }
 },
 "nbformat": 4,
 "nbformat_minor": 2
}

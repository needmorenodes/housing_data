{
 "cells": [
  {
   "cell_type": "code",
   "execution_count": 2,
   "metadata": {},
   "outputs": [
    {
     "name": "stdout",
     "output_type": "stream",
     "text": [
      "['../chosen_data/crosswalk/zip_tract\\\\zip_tract_032020.xlsx', '../chosen_data/crosswalk/zip_tract\\\\zip_tract_062020.xlsx', '../chosen_data/crosswalk/zip_tract\\\\zip_tract_092020.xlsx', '../chosen_data/crosswalk/zip_tract\\\\zip_tract_122020.xlsx']\n"
     ]
    }
   ],
   "source": [
    "import glob\n",
    "\n",
    "# All files and directories ending with .txt and that don't begin with a dot:\n",
    "print(glob.glob(\"../chosen_data/crosswalk/zip_tract/*2020.xlsx\"))"
   ]
  },
  {
   "cell_type": "code",
   "execution_count": 54,
   "metadata": {},
   "outputs": [],
   "source": [
    "import glob\n",
    "import pandas as pd\n",
    "import re\n",
    "from datetime import datetime, timedelta\n",
    "from dateutil.relativedelta import relativedelta\n",
    "\n",
    "# To Create Modular\n",
    "# Place in class\n",
    "# Allow for different file schemas (Local, S3?)\n",
    "# Maybe load into duckdb/spark/databricks and then proces the start and end date from the file path?\n",
    "\n",
    "## Reads from disk in the expected format <type>_<end_month><year>.xlsx\n",
    "def load_hud_crosswalk_from_local(local_path, year):\n",
    "    # Find all crosswalk files in the directory\n",
    "    files_to_load = glob.glob(f\"{local_path}/*{year}.xlsx\")\n",
    "\n",
    "    # Build dataframes with start and end dates\n",
    "    dfs = []\n",
    "    pattern = r\".*(\\d{2})(?=\\d{4}\\.xlsx$)\"\n",
    "    for file in files_to_load:\n",
    "\n",
    "        # Pull the month out of the expected file format\n",
    "        match = re.search(pattern, file)\n",
    "        if not match:\n",
    "            raise ValueError(\"No month found in the file path\")\n",
    "        \n",
    "        # Build the start and end date based on how the crosswalk data is written\n",
    "        month = match.group(1)\n",
    "        date = datetime.strptime(f\"{year}-{month}-01\", \"%Y-%m-%d\")\n",
    "        start_date = date - relativedelta(months=2)\n",
    "\n",
    "        if month == \"12\":\n",
    "            end_date = date.replace(month=12, day=31)\n",
    "        else:\n",
    "            end_date = date.replace(month=date.month+1, day=1) - timedelta(days=1)\n",
    "        \n",
    "        # Load the XLSX, apply the start and end dates. Union, and Return\n",
    "        df = pd.read_excel(file)\n",
    "        df['start_date'] = start_date.strftime(\"%Y-%m-%d\")\n",
    "        df['end_date'] = end_date.strftime(\"%Y-%m-%d\")\n",
    "        dfs += [df]\n",
    "    df_ret = pd.concat(dfs, axis=0, ignore_index=True)\n",
    "    return df_ret"
   ]
  },
  {
   "cell_type": "code",
   "execution_count": 55,
   "metadata": {},
   "outputs": [
    {
     "name": "stderr",
     "output_type": "stream",
     "text": [
      "d:\\NASA_Interview\\housing_data\\.venv\\Lib\\site-packages\\openpyxl\\styles\\stylesheet.py:237: UserWarning: Workbook contains no default style, apply openpyxl's default\n",
      "  warn(\"Workbook contains no default style, apply openpyxl's default\")\n",
      "d:\\NASA_Interview\\housing_data\\.venv\\Lib\\site-packages\\openpyxl\\styles\\stylesheet.py:237: UserWarning: Workbook contains no default style, apply openpyxl's default\n",
      "  warn(\"Workbook contains no default style, apply openpyxl's default\")\n",
      "d:\\NASA_Interview\\housing_data\\.venv\\Lib\\site-packages\\openpyxl\\styles\\stylesheet.py:237: UserWarning: Workbook contains no default style, apply openpyxl's default\n",
      "  warn(\"Workbook contains no default style, apply openpyxl's default\")\n",
      "d:\\NASA_Interview\\housing_data\\.venv\\Lib\\site-packages\\openpyxl\\styles\\stylesheet.py:237: UserWarning: Workbook contains no default style, apply openpyxl's default\n",
      "  warn(\"Workbook contains no default style, apply openpyxl's default\")\n",
      "d:\\NASA_Interview\\housing_data\\.venv\\Lib\\site-packages\\openpyxl\\styles\\stylesheet.py:237: UserWarning: Workbook contains no default style, apply openpyxl's default\n",
      "  warn(\"Workbook contains no default style, apply openpyxl's default\")\n",
      "d:\\NASA_Interview\\housing_data\\.venv\\Lib\\site-packages\\openpyxl\\styles\\stylesheet.py:237: UserWarning: Workbook contains no default style, apply openpyxl's default\n",
      "  warn(\"Workbook contains no default style, apply openpyxl's default\")\n",
      "d:\\NASA_Interview\\housing_data\\.venv\\Lib\\site-packages\\openpyxl\\styles\\stylesheet.py:237: UserWarning: Workbook contains no default style, apply openpyxl's default\n",
      "  warn(\"Workbook contains no default style, apply openpyxl's default\")\n"
     ]
    }
   ],
   "source": [
    "from IPython.display import display, HTML\n",
    "\n",
    "loaded_zip_tract_df = pd.concat([load_hud_crosswalk_from_local(\"../chosen_data/crosswalk/zip_tract/\", 2020), load_hud_crosswalk_from_local(\"../chosen_data/crosswalk/zip_tract/\", 2022)], axis=0, ignore_index=True)\n",
    "loaded_cbsa_zip_df = pd.concat([load_hud_crosswalk_from_local(\"../chosen_data/crosswalk/cbsa_zip/\", 2020), load_hud_crosswalk_from_local(\"../chosen_data/crosswalk/cbsa_zip/\", 2022)], axis=0, ignore_index=True)\n",
    "display(loaded_zip_tract_df)\n",
    "display(loaded_cbsa_zip_df)\n"
   ]
  }
 ],
 "metadata": {
  "kernelspec": {
   "display_name": ".venv",
   "language": "python",
   "name": "python3"
  },
  "language_info": {
   "codemirror_mode": {
    "name": "ipython",
    "version": 3
   },
   "file_extension": ".py",
   "mimetype": "text/x-python",
   "name": "python",
   "nbconvert_exporter": "python",
   "pygments_lexer": "ipython3",
   "version": "3.11.9"
  }
 },
 "nbformat": 4,
 "nbformat_minor": 2
}

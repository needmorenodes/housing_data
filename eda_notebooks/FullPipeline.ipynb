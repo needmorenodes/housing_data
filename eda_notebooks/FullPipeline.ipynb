{
 "cells": [
  {
   "cell_type": "markdown",
   "metadata": {},
   "source": [
    "# Database Connection"
   ]
  },
  {
   "cell_type": "code",
   "execution_count": 1,
   "metadata": {},
   "outputs": [],
   "source": [
    "import duckdb\n",
    "\n",
    "# create a connection to a file called 'test_database.db'\n",
    "con = duckdb.connect(\"../database_jupyter.db\")"
   ]
  },
  {
   "cell_type": "markdown",
   "metadata": {},
   "source": [
    "# Create Tables\n",
    "If they do not exist create the expected tables"
   ]
  },
  {
   "cell_type": "markdown",
   "metadata": {},
   "source": [
    "Would need to include code for table migration/translation when new SVI datasets are downloaded\n",
    "\n",
    "We will not precreate Zillows Bronze table, as those will be overwrites exclusively and then need to be pivoted. "
   ]
  },
  {
   "cell_type": "code",
   "execution_count": 9,
   "metadata": {},
   "outputs": [
    {
     "data": {
      "text/plain": [
       "┌────────────────────────┐\n",
       "│          name          │\n",
       "│        varchar         │\n",
       "├────────────────────────┤\n",
       "│ crosswalk_cbsa_zip     │\n",
       "│ crosswalk_zillow       │\n",
       "│ crosswalk_zillow_tract │\n",
       "│ crosswalk_zip_tract    │\n",
       "│ svi                    │\n",
       "│ zillow_mean_to_pending │\n",
       "└────────────────────────┘"
      ]
     },
     "execution_count": 9,
     "metadata": {},
     "output_type": "execute_result"
    }
   ],
   "source": [
    "cont = duckdb.connect(\"../test_database.db\")\n",
    "cont.sql(\"SHOW TABLES\")"
   ]
  },
  {
   "cell_type": "code",
   "execution_count": 109,
   "metadata": {},
   "outputs": [
    {
     "data": {
      "text/plain": [
       "┌──────────────────────────────┐\n",
       "│             name             │\n",
       "│           varchar            │\n",
       "├──────────────────────────────┤\n",
       "│ crosswalk_hud_cbsa_zip       │\n",
       "│ crosswalk_hud_zip_tract      │\n",
       "│ crosswalk_zillow_zillow_cbsa │\n",
       "│ svi                          │\n",
       "└──────────────────────────────┘"
      ]
     },
     "execution_count": 109,
     "metadata": {},
     "output_type": "execute_result"
    }
   ],
   "source": [
    "create_table_hud_cbsa_zip = \"CREATE OR REPLACE TABLE crosswalk_hud_cbsa_zip (CBSA BIGINT, ZIP BIGINT, RES_RATIO DOUBLE, BUS_RATIO DOUBLE, OTH_RATIO DOUBLE, TOT_RATIO DOUBLE, start_date DATE, end_date DATE, load_quarter VARCHAR)\"\n",
    "create_table_hud_zip_tract = \"CREATE OR REPLACE TABLE crosswalk_hud_zip_tract (ZIP BIGINT, TRACT BIGINT, RES_RATIO DOUBLE, BUS_RATIO DOUBLE, OTH_RATIO DOUBLE, TOT_RATIO DOUBLE, start_date DATE, end_date DATE, load_quarter VARCHAR)\"\n",
    "create_table_zillow_zillow_cbsa = \"CREATE OR REPLACE TABLE crosswalk_zillow_zillow_cbsa (CountyName varchar, StateName varchar, StateFIPS INT64, CountyFIPS INT64, MetroName_Zillow varchar, CBSAName varchar, CountyRegionID_Zillow INT64, MetroRegionID_Zillow DOUBLE, FIPS INT64, CBSACode DOUBLE)\"\n",
    "create_table_svi = \"CREATE OR REPLACE TABLE svi (STATE VARCHAR, ST_ABBR VARCHAR, STCNTY BIGINT, COUNTY VARCHAR, FIPS BIGINT, LOCATION VARCHAR, RPL_THEME1 DOUBLE, RPL_THEME2 DOUBLE, RPL_THEME3 DOUBLE, RPL_THEME4 DOUBLE, RPL_THEMES DOUBLE, year BIGINT)\"\n",
    "# con.sql(create_table_hud_cbsa_zip)\n",
    "# con.sql(create_table_hud_zip_tract)\n",
    "# con.sql(create_table_zillow_zillow_cbsa)\n",
    "con.sql(create_table_svi)\n",
    "con.sql(\"SHOW TABLES\")"
   ]
  },
  {
   "cell_type": "markdown",
   "metadata": {},
   "source": [
    "# Bronze"
   ]
  },
  {
   "cell_type": "markdown",
   "metadata": {},
   "source": [
    "### Cross Walk Tables"
   ]
  },
  {
   "cell_type": "code",
   "execution_count": 88,
   "metadata": {},
   "outputs": [],
   "source": [
    "import glob\n",
    "import pandas as pd\n",
    "import re\n",
    "from datetime import datetime, timedelta\n",
    "from dateutil.relativedelta import relativedelta\n",
    "\n",
    "# To Create Modular\n",
    "# Place in class\n",
    "# Allow for different file schemas (Local, S3?)\n",
    "# Maybe load into duckdb/spark/databricks and then proces the start and end date from the file path?\n",
    "\n",
    "## Reads from disk in the expected format <type>_<end_month><year>.xlsx\n",
    "def load_hud_crosswalk_from_local(local_path, year):\n",
    "    \n",
    "    # Find all crosswalk files in the directory\n",
    "    files_to_load = glob.glob(f\"{local_path}/*{year}.xlsx\")\n",
    "\n",
    "    # Build dataframes with start and end dates\n",
    "    dfs = []\n",
    "    pattern = r\"(\\w+)_(\\w+)_(\\d{2})(\\d{4})\\.xlsx\"\n",
    "    for file in files_to_load:\n",
    "\n",
    "        # Pull the month out of the expected file format\n",
    "        match = re.search(pattern, file)\n",
    "        if not match:\n",
    "            raise ValueError(\"No month found in the file path\")\n",
    "        \n",
    "        # Build the start and end date based on how the crosswalk data is written\n",
    "        # Find the cols that this crosswalk table \n",
    "        cola = match.group(1)\n",
    "        colb = match.group(2)\n",
    "\n",
    "        month = match.group(3)\n",
    "        date = datetime.strptime(f\"{year}-{month}-01\", \"%Y-%m-%d\")\n",
    "        start_date = date - relativedelta(months=2)\n",
    "\n",
    "        if month == \"12\":\n",
    "            end_date = date.replace(month=12, day=31)\n",
    "        else:\n",
    "            end_date = date.replace(month=date.month+1, day=1) - timedelta(days=1)\n",
    "        \n",
    "        load_quarter = f\"{month}{year}\"\n",
    "        \n",
    "        # Load the XLSX, apply the start and end dates. Union, and Return\n",
    "        df = pd.read_excel(file)[[cola.upper(), colb.upper(), \"RES_RATIO\", \"BUS_RATIO\", \"OTH_RATIO\", \"TOT_RATIO\"]]\n",
    "        df['start_date'] = start_date.strftime(\"%Y-%m-%d\")\n",
    "        df['end_date'] = end_date.strftime(\"%Y-%m-%d\")\n",
    "        df['load_quarter'] = load_quarter\n",
    "        dfs += [df]\n",
    "    df_ret = pd.concat(dfs, axis=0, ignore_index=True)\n",
    "    return df_ret"
   ]
  },
  {
   "cell_type": "markdown",
   "metadata": {},
   "source": [
    "Load years separatly to test partition overwrite"
   ]
  },
  {
   "cell_type": "code",
   "execution_count": 89,
   "metadata": {},
   "outputs": [],
   "source": [
    "from IPython.display import display, HTML\n",
    "\n",
    "date_to_load = 2020\n",
    "loaded_zip_tract_df = load_hud_crosswalk_from_local(\"../chosen_data/crosswalk/zip_tract/\", date_to_load)\n",
    "loaded_cbsa_zip_df = load_hud_crosswalk_from_local(\"../chosen_data/crosswalk/cbsa_zip/\", date_to_load)"
   ]
  },
  {
   "cell_type": "markdown",
   "metadata": {},
   "source": [
    "Delete and Insert into tables since these would be overwrite of entire years if loaded"
   ]
  },
  {
   "cell_type": "code",
   "execution_count": 90,
   "metadata": {},
   "outputs": [],
   "source": [
    "    con.sql(\"DELETE FROM crosswalk_hud_cbsa_zip WHERE load_quarter IN (SELECT DISTINCT load_quarter FROM loaded_cbsa_zip_df)\")\n",
    "con.sql(\"DELETE FROM crosswalk_hud_zip_tract WHERE load_quarter IN (SELECT DISTINCT load_quarter FROM loaded_zip_tract_df)\")"
   ]
  },
  {
   "cell_type": "code",
   "execution_count": 91,
   "metadata": {},
   "outputs": [],
   "source": [
    "con.sql(\"\"\"\n",
    "INSERT INTO crosswalk_hud_zip_tract FROM\n",
    "    (SELECT * FROM loaded_zip_tract_df);\n",
    "           \"\"\")\n",
    "\n",
    "con.sql(\"\"\"\n",
    "INSERT INTO crosswalk_hud_cbsa_zip FROM\n",
    "    (SELECT * FROM loaded_cbsa_zip_df);\n",
    "           \"\"\")"
   ]
  },
  {
   "cell_type": "code",
   "execution_count": 92,
   "metadata": {},
   "outputs": [
    {
     "data": {
      "text/plain": [
       "┌──────────────┐\n",
       "│ load_quarter │\n",
       "│   varchar    │\n",
       "├──────────────┤\n",
       "│ 062020       │\n",
       "│ 092020       │\n",
       "│ 032020       │\n",
       "│ 122020       │\n",
       "└──────────────┘"
      ]
     },
     "execution_count": 92,
     "metadata": {},
     "output_type": "execute_result"
    }
   ],
   "source": [
    "con.sql(\"SELECT DISTINCT load_quarter FROM crosswalk_hud_cbsa_zip\")"
   ]
  },
  {
   "cell_type": "code",
   "execution_count": 93,
   "metadata": {},
   "outputs": [
    {
     "name": "stderr",
     "output_type": "stream",
     "text": [
      "d:\\NASA_Interview\\housing_data\\.venv\\Lib\\site-packages\\openpyxl\\styles\\stylesheet.py:237: UserWarning: Workbook contains no default style, apply openpyxl's default\n",
      "  warn(\"Workbook contains no default style, apply openpyxl's default\")\n",
      "d:\\NASA_Interview\\housing_data\\.venv\\Lib\\site-packages\\openpyxl\\styles\\stylesheet.py:237: UserWarning: Workbook contains no default style, apply openpyxl's default\n",
      "  warn(\"Workbook contains no default style, apply openpyxl's default\")\n",
      "d:\\NASA_Interview\\housing_data\\.venv\\Lib\\site-packages\\openpyxl\\styles\\stylesheet.py:237: UserWarning: Workbook contains no default style, apply openpyxl's default\n",
      "  warn(\"Workbook contains no default style, apply openpyxl's default\")\n",
      "d:\\NASA_Interview\\housing_data\\.venv\\Lib\\site-packages\\openpyxl\\styles\\stylesheet.py:237: UserWarning: Workbook contains no default style, apply openpyxl's default\n",
      "  warn(\"Workbook contains no default style, apply openpyxl's default\")\n",
      "d:\\NASA_Interview\\housing_data\\.venv\\Lib\\site-packages\\openpyxl\\styles\\stylesheet.py:237: UserWarning: Workbook contains no default style, apply openpyxl's default\n",
      "  warn(\"Workbook contains no default style, apply openpyxl's default\")\n",
      "d:\\NASA_Interview\\housing_data\\.venv\\Lib\\site-packages\\openpyxl\\styles\\stylesheet.py:237: UserWarning: Workbook contains no default style, apply openpyxl's default\n",
      "  warn(\"Workbook contains no default style, apply openpyxl's default\")\n",
      "d:\\NASA_Interview\\housing_data\\.venv\\Lib\\site-packages\\openpyxl\\styles\\stylesheet.py:237: UserWarning: Workbook contains no default style, apply openpyxl's default\n",
      "  warn(\"Workbook contains no default style, apply openpyxl's default\")\n",
      "d:\\NASA_Interview\\housing_data\\.venv\\Lib\\site-packages\\openpyxl\\styles\\stylesheet.py:237: UserWarning: Workbook contains no default style, apply openpyxl's default\n",
      "  warn(\"Workbook contains no default style, apply openpyxl's default\")\n"
     ]
    }
   ],
   "source": [
    "from IPython.display import display, HTML\n",
    "\n",
    "date_to_load = 2022\n",
    "loaded_zip_tract_df = load_hud_crosswalk_from_local(\"../chosen_data/crosswalk/zip_tract/\", date_to_load)\n",
    "loaded_cbsa_zip_df = load_hud_crosswalk_from_local(\"../chosen_data/crosswalk/cbsa_zip/\", date_to_load)"
   ]
  },
  {
   "cell_type": "code",
   "execution_count": 94,
   "metadata": {},
   "outputs": [],
   "source": [
    "con.sql(\"DELETE FROM crosswalk_hud_cbsa_zip WHERE load_quarter IN (SELECT DISTINCT load_quarter FROM loaded_cbsa_zip_df)\")\n",
    "con.sql(\"DELETE FROM crosswalk_hud_zip_tract WHERE load_quarter IN (SELECT DISTINCT load_quarter FROM loaded_zip_tract_df)\")"
   ]
  },
  {
   "cell_type": "code",
   "execution_count": 95,
   "metadata": {},
   "outputs": [],
   "source": [
    "con.sql(\"\"\"\n",
    "INSERT INTO crosswalk_hud_zip_tract FROM\n",
    "    (SELECT * FROM loaded_zip_tract_df);\n",
    "           \"\"\")\n",
    "\n",
    "con.sql(\"\"\"\n",
    "INSERT INTO crosswalk_hud_cbsa_zip FROM\n",
    "    (SELECT * FROM loaded_cbsa_zip_df);\n",
    "           \"\"\")"
   ]
  },
  {
   "cell_type": "code",
   "execution_count": 96,
   "metadata": {},
   "outputs": [
    {
     "data": {
      "text/plain": [
       "┌──────────────┐\n",
       "│ load_quarter │\n",
       "│   varchar    │\n",
       "├──────────────┤\n",
       "│ 122020       │\n",
       "│ 032022       │\n",
       "│ 092022       │\n",
       "│ 122022       │\n",
       "│ 092020       │\n",
       "│ 032020       │\n",
       "│ 062022       │\n",
       "│ 062020       │\n",
       "└──────────────┘"
      ]
     },
     "execution_count": 96,
     "metadata": {},
     "output_type": "execute_result"
    }
   ],
   "source": [
    "con.sql(\"SELECT DISTINCT load_quarter FROM crosswalk_hud_cbsa_zip\")"
   ]
  },
  {
   "cell_type": "markdown",
   "metadata": {},
   "source": [
    "### Zillow Cross Walk"
   ]
  },
  {
   "cell_type": "code",
   "execution_count": 97,
   "metadata": {},
   "outputs": [],
   "source": [
    "import glob\n",
    "import pandas as pd\n",
    "import re\n",
    "from datetime import datetime, timedelta\n",
    "from dateutil.relativedelta import relativedelta\n",
    "\n",
    "# Todo: Can we find zillow crosswalk that supports multi year data?\n",
    "# How much will this break it? Move forward and evaluate/document the required potential changes? \n",
    "\n",
    "# Reads the singular zillow cross talk from disk\n",
    "def load_zillow_crosswalk_from_local(local_path):\n",
    "    df_zillow_county_crosswalk = pd.read_csv(local_path)\n",
    "    return df_zillow_county_crosswalk"
   ]
  },
  {
   "cell_type": "code",
   "execution_count": 98,
   "metadata": {},
   "outputs": [],
   "source": [
    "\n",
    "df_zillow_county_crosswalk = load_zillow_crosswalk_from_local(\"../chosen_data/zillow/CountyCrossWalk_Zillow.csv\")"
   ]
  },
  {
   "cell_type": "code",
   "execution_count": 99,
   "metadata": {},
   "outputs": [],
   "source": [
    "con.sql(\"DELETE FROM crosswalk_zillow_zillow_cbsa\")\n",
    "\n",
    "con.sql(\"\"\"\n",
    "INSERT INTO crosswalk_zillow_zillow_cbsa FROM\n",
    "    (SELECT * FROM df_zillow_county_crosswalk);\n",
    "           \"\"\")"
   ]
  },
  {
   "cell_type": "code",
   "execution_count": 100,
   "metadata": {},
   "outputs": [
    {
     "data": {
      "text/plain": [
       "┌────────────┬────────────────┬───────────┬────────────┬──────────────────┬───────────────────────────────────────┬───────────────────────┬──────────────────────┬───────┬──────────┐\n",
       "│ CountyName │   StateName    │ StateFIPS │ CountyFIPS │ MetroName_Zillow │               CBSAName                │ CountyRegionID_Zillow │ MetroRegionID_Zillow │ FIPS  │ CBSACode │\n",
       "│  varchar   │    varchar     │   int64   │   int64    │     varchar      │                varchar                │         int64         │        double        │ int64 │  double  │\n",
       "├────────────┼────────────────┼───────────┼────────────┼──────────────────┼───────────────────────────────────────┼───────────────────────┼──────────────────────┼───────┼──────────┤\n",
       "│ Pike       │ Pennsylvania   │        42 │        103 │ New York, NY     │ New York-Newark-Jersey City, NY-NJ-PA │                   280 │             394913.0 │ 42103 │  35620.0 │\n",
       "│ Bronx      │ New York       │        36 │          5 │ New York, NY     │ New York-Newark-Jersey City, NY-NJ-PA │                   401 │             394913.0 │ 36005 │  35620.0 │\n",
       "│ Essex      │ New Jersey     │        34 │         13 │ New York, NY     │ New York-Newark-Jersey City, NY-NJ-PA │                   504 │             394913.0 │ 34013 │  35620.0 │\n",
       "│ Kings      │ New York       │        36 │         47 │ New York, NY     │ New York-Newark-Jersey City, NY-NJ-PA │                   581 │             394913.0 │ 36047 │  35620.0 │\n",
       "│ Ocean      │ New Jersey     │        34 │         29 │ New York, NY     │ New York-Newark-Jersey City, NY-NJ-PA │                   659 │             394913.0 │ 34029 │  35620.0 │\n",
       "│ Union      │ New Jersey     │        34 │         39 │ New York, NY     │ New York-Newark-Jersey City, NY-NJ-PA │                   771 │             394913.0 │ 34039 │  35620.0 │\n",
       "│ Bergen     │ New Jersey     │        34 │          3 │ New York, NY     │ New York-Newark-Jersey City, NY-NJ-PA │                   874 │             394913.0 │ 34003 │  35620.0 │\n",
       "│ Hudson     │ New Jersey     │        34 │         17 │ New York, NY     │ New York-Newark-Jersey City, NY-NJ-PA │                  1106 │             394913.0 │ 34017 │  35620.0 │\n",
       "│ Morris     │ New Jersey     │        34 │         27 │ New York, NY     │ New York-Newark-Jersey City, NY-NJ-PA │                  1241 │             394913.0 │ 34027 │  35620.0 │\n",
       "│ Nassau     │ New York       │        36 │         59 │ New York, NY     │ New York-Newark-Jersey City, NY-NJ-PA │                  1252 │             394913.0 │ 36059 │  35620.0 │\n",
       "│   ·        │    ·           │         · │          · │  ·               │  ·                                    │                    ·  │                   ·  │   ·   │       ·  │\n",
       "│   ·        │    ·           │         · │          · │  ·               │  ·                                    │                    ·  │                   ·  │   ·   │       ·  │\n",
       "│   ·        │    ·           │         · │          · │  ·               │  ·                                    │                    ·  │                   ·  │   ·   │       ·  │\n",
       "│ Brown      │ Illinois       │        17 │          9 │ NULL             │ NULL                                  │                   402 │                 NULL │ 17009 │     NULL │\n",
       "│ Barry      │ Missouri       │        29 │          9 │ NULL             │ NULL                                  │                   383 │                 NULL │ 29009 │     NULL │\n",
       "│ Baker      │ Oregon         │        41 │          1 │ NULL             │ NULL                                  │                   380 │                 NULL │ 41001 │     NULL │\n",
       "│ Banks      │ Georgia        │        13 │         11 │ NULL             │ NULL                                  │                   381 │                 NULL │ 13011 │     NULL │\n",
       "│ Allen      │ Louisiana      │        22 │          3 │ NULL             │ NULL                                  │                   370 │                 NULL │ 22003 │     NULL │\n",
       "│ Allen      │ Kansas         │        20 │          1 │ NULL             │ NULL                                  │                   368 │                 NULL │ 20001 │     NULL │\n",
       "│ Anson      │ North Carolina │        37 │          7 │ NULL             │ NULL                                  │                   374 │                 NULL │ 37007 │     NULL │\n",
       "│ Atoka      │ Oklahoma       │        40 │          5 │ NULL             │ NULL                                  │                   375 │                 NULL │ 40005 │     NULL │\n",
       "│ Avery      │ North Carolina │        37 │         11 │ NULL             │ NULL                                  │                   376 │                 NULL │ 37011 │     NULL │\n",
       "│ Bacon      │ Georgia        │        13 │          5 │ NULL             │ NULL                                  │                   377 │                 NULL │ 13005 │     NULL │\n",
       "├────────────┴────────────────┴───────────┴────────────┴──────────────────┴───────────────────────────────────────┴───────────────────────┴──────────────────────┴───────┴──────────┤\n",
       "│ 3144 rows (20 shown)                                                                                                                                                   10 columns │\n",
       "└───────────────────────────────────────────────────────────────────────────────────────────────────────────────────────────────────────────────────────────────────────────────────┘"
      ]
     },
     "execution_count": 100,
     "metadata": {},
     "output_type": "execute_result"
    }
   ],
   "source": [
    "con.sql(\"SELECT * FROM df_zillow_county_crosswalk\")"
   ]
  },
  {
   "cell_type": "markdown",
   "metadata": {},
   "source": [
    "### SVI"
   ]
  },
  {
   "cell_type": "code",
   "execution_count": 106,
   "metadata": {},
   "outputs": [],
   "source": [
    "import glob\n",
    "import pandas as pd\n",
    "import re\n",
    "\n",
    "# Reads from disk in the expected format SVI_<year>_US.csv\n",
    "# How do we record and pass in transformations from old to new? And check what the most up to date version in the database is?\n",
    "# Where do we store those transformations. How do we pass in the most recent data in the database so we know which transformations are needed between versions?\n",
    "# Loading in 2022 to start then plan for the required configuration between versions. \n",
    "def load_svi_from_local(local_path, year):\n",
    "    # Find all crosswalk files in the directory\n",
    "    files_to_load = glob.glob(f\"{local_path}/SVI_{year}_US.csv\")\n",
    "\n",
    "    if not files_to_load:\n",
    "        raise ValueError(f\"No file found for year {year} in {local_path}!\")\n",
    "    if len(files_to_load) > 1:\n",
    "        raise ValueError(f\"Multiple files found for {year} in {local_path}!\\n{files_to_load}\")\n",
    "\n",
    "    file = files_to_load[0]\n",
    "    df_ret = pd.read_csv(file)[[\"STATE\", \"ST_ABBR\", \"STCNTY\" ,\"COUNTY\" ,\"FIPS\" ,\"LOCATION\" , \"RPL_THEME1\", \"RPL_THEME2\", \"RPL_THEME3\", \"RPL_THEME4\", \"RPL_THEMES\"]]\n",
    "    df_ret['year'] = year\n",
    "    return df_ret"
   ]
  },
  {
   "cell_type": "code",
   "execution_count": 108,
   "metadata": {},
   "outputs": [
    {
     "data": {
      "text/plain": [
       "┌─────────────┬─────────────┬─────────┬─────────┬─────────┬─────────┐\n",
       "│ column_name │ column_type │  null   │   key   │ default │  extra  │\n",
       "│   varchar   │   varchar   │ varchar │ varchar │ varchar │ varchar │\n",
       "├─────────────┼─────────────┼─────────┼─────────┼─────────┼─────────┤\n",
       "│ STATE       │ VARCHAR     │ YES     │ NULL    │ NULL    │ NULL    │\n",
       "│ ST_ABBR     │ VARCHAR     │ YES     │ NULL    │ NULL    │ NULL    │\n",
       "│ STCNTY      │ BIGINT      │ YES     │ NULL    │ NULL    │ NULL    │\n",
       "│ COUNTY      │ VARCHAR     │ YES     │ NULL    │ NULL    │ NULL    │\n",
       "│ FIPS        │ BIGINT      │ YES     │ NULL    │ NULL    │ NULL    │\n",
       "│ LOCATION    │ VARCHAR     │ YES     │ NULL    │ NULL    │ NULL    │\n",
       "│ RPL_THEME1  │ DOUBLE      │ YES     │ NULL    │ NULL    │ NULL    │\n",
       "│ RPL_THEME2  │ DOUBLE      │ YES     │ NULL    │ NULL    │ NULL    │\n",
       "│ RPL_THEME3  │ DOUBLE      │ YES     │ NULL    │ NULL    │ NULL    │\n",
       "│ RPL_THEME4  │ DOUBLE      │ YES     │ NULL    │ NULL    │ NULL    │\n",
       "│ RPL_THEMES  │ DOUBLE      │ YES     │ NULL    │ NULL    │ NULL    │\n",
       "│ year        │ BIGINT      │ YES     │ NULL    │ NULL    │ NULL    │\n",
       "├─────────────┴─────────────┴─────────┴─────────┴─────────┴─────────┤\n",
       "│ 12 rows                                                 6 columns │\n",
       "└───────────────────────────────────────────────────────────────────┘"
      ]
     },
     "execution_count": 108,
     "metadata": {},
     "output_type": "execute_result"
    }
   ],
   "source": [
    "df_svi = load_svi_from_local(\"../chosen_data/svi/\", 2022)"
   ]
  },
  {
   "cell_type": "code",
   "execution_count": 111,
   "metadata": {},
   "outputs": [],
   "source": [
    "\n",
    "con.sql(\"DELETE FROM svi WHERE year IN (SELECT DISTINCT year FROM df_svi)\")\n",
    "\n",
    "con.sql(\"\"\"\n",
    "INSERT INTO svi FROM\n",
    "    (SELECT * FROM df_svi);\n",
    "           \"\"\")"
   ]
  },
  {
   "cell_type": "code",
   "execution_count": 113,
   "metadata": {},
   "outputs": [],
   "source": [
    "df_svi = load_svi_from_local(\"../chosen_data/svi/\", 2020)"
   ]
  },
  {
   "cell_type": "code",
   "execution_count": 114,
   "metadata": {},
   "outputs": [],
   "source": [
    "\n",
    "con.sql(\"DELETE FROM svi WHERE year IN (SELECT DISTINCT year FROM df_svi)\")\n",
    "\n",
    "con.sql(\"\"\"\n",
    "INSERT INTO svi FROM\n",
    "    (SELECT * FROM df_svi);\n",
    "           \"\"\")"
   ]
  },
  {
   "cell_type": "markdown",
   "metadata": {},
   "source": [
    "### Zillow Datasets"
   ]
  },
  {
   "cell_type": "code",
   "execution_count": 116,
   "metadata": {},
   "outputs": [],
   "source": [
    "import glob\n",
    "import pandas as pd\n",
    "import re\n",
    "\n",
    "# Zillow file will always be an overwrite due to how the data apears in the columns\n",
    "def load_zillow_from_local(local_path, zillow_file):\n",
    "    # Find all crosswalk files in the directory\n",
    "    files_to_load = glob.glob(f\"{local_path}/{zillow_file}\")\n",
    "\n",
    "    if not files_to_load:\n",
    "        raise ValueError(f\"No file found for year {zillow_file} in {local_path}!\")\n",
    "    if len(files_to_load) > 1:\n",
    "        # Pick the most recent one here probably?\n",
    "        raise ValueError(f\"Multiple files found for {zillow_file} in {local_path}!\\n{files_to_load}\")\n",
    "    \n",
    "    file = files_to_load[0]\n",
    "    df_ret = pd.read_csv(file)\n",
    "    return df_ret"
   ]
  },
  {
   "cell_type": "code",
   "execution_count": 117,
   "metadata": {},
   "outputs": [],
   "source": [
    "df_zillow_mean_to_pending = load_zillow_from_local(\"../chosen_data/zillow/\", \"Metro_mean_doz_pending_uc_sfrcondo_month.csv\")"
   ]
  },
  {
   "cell_type": "code",
   "execution_count": 118,
   "metadata": {},
   "outputs": [],
   "source": [
    "con.sql(\"\"\"\n",
    "CREATE OR REPLACE TABLE zillow_mean_to_pending AS\n",
    "    SELECT * FROM df_zillow_mean_to_pending;\n",
    "           \"\"\")"
   ]
  },
  {
   "cell_type": "code",
   "execution_count": 120,
   "metadata": {},
   "outputs": [
    {
     "data": {
      "text/plain": [
       "┌──────────────────────────────┐\n",
       "│             name             │\n",
       "│           varchar            │\n",
       "├──────────────────────────────┤\n",
       "│ crosswalk_hud_cbsa_zip       │\n",
       "│ crosswalk_hud_zip_tract      │\n",
       "│ crosswalk_zillow_zillow_cbsa │\n",
       "│ svi                          │\n",
       "│ zillow_mean_to_pending       │\n",
       "└──────────────────────────────┘"
      ]
     },
     "execution_count": 120,
     "metadata": {},
     "output_type": "execute_result"
    }
   ],
   "source": [
    "con.sql(\"SHOW TABLES\")"
   ]
  },
  {
   "cell_type": "code",
   "execution_count": 127,
   "metadata": {},
   "outputs": [],
   "source": [
    "df_zillow_zhvi_sfr_zip = load_zillow_from_local(\"../chosen_data/zillow/\", \"Zip_zhvi_uc_sfr_tier_0.33_0.67_sm_sa_month.csv\")"
   ]
  },
  {
   "cell_type": "code",
   "execution_count": 134,
   "metadata": {},
   "outputs": [],
   "source": [
    "con.sql(\"\"\"\n",
    "CREATE OR REPLACE TABLE zillow_zhvi_sfr_zip_bronze AS\n",
    "    SELECT * FROM df_zillow_zhvi_sfr_zip;\n",
    "           \"\"\")"
   ]
  },
  {
   "cell_type": "code",
   "execution_count": 135,
   "metadata": {},
   "outputs": [
    {
     "data": {
      "text/plain": [
       "┌──────────────────────────────┐\n",
       "│             name             │\n",
       "│           varchar            │\n",
       "├──────────────────────────────┤\n",
       "│ crosswalk_hud_cbsa_zip       │\n",
       "│ crosswalk_hud_zip_tract      │\n",
       "│ crosswalk_zillow_zillow_cbsa │\n",
       "│ svi                          │\n",
       "│ zillow_mean_to_pending       │\n",
       "│ zillow_zhvi_sfr_zip_bronze   │\n",
       "└──────────────────────────────┘"
      ]
     },
     "execution_count": 135,
     "metadata": {},
     "output_type": "execute_result"
    }
   ],
   "source": [
    "con.sql(\"SHOW TABLES\")"
   ]
  },
  {
   "cell_type": "markdown",
   "metadata": {},
   "source": [
    "# Silver Tables\n",
    "\n",
    "* crosswalk zillowid to tract\n",
    "* Zillow pivoted\n",
    "* Zillow with SVI\n"
   ]
  },
  {
   "cell_type": "code",
   "execution_count": 175,
   "metadata": {},
   "outputs": [],
   "source": [
    "con.sql(\"\"\"\n",
    "CREATE OR REPLACE TABLE tracts_per_zip_silver AS\n",
    "(SELECT \n",
    "    ZIP as zip, \n",
    "    start_date, \n",
    "    end_date, \n",
    "    len(list(TRACT)) as len_tracts, \n",
    "    list(TRACT) as tracts \n",
    "FROM (\n",
    "    SELECT \n",
    "        ZIP, \n",
    "        TRACT, \n",
    "        start_date, \n",
    "        end_date \n",
    "    FROM crosswalk_hud_zip_tract \n",
    "    GROUP BY \n",
    "        ZIP, \n",
    "        TRACT, \n",
    "        start_date, \n",
    "        end_date\n",
    "    ) \n",
    "GROUP BY\n",
    "    ZIP, \n",
    "    start_date, \n",
    "    end_date \n",
    "ORDER BY zip, start_date DESC)\n",
    "\"\"\")"
   ]
  },
  {
   "cell_type": "code",
   "execution_count": 176,
   "metadata": {},
   "outputs": [
    {
     "data": {
      "text/plain": [
       "┌───────┬────────────┬────────────┬────────────┬──────────────────────────────────────────────────────┐\n",
       "│  zip  │ start_date │  end_date  │ len_tracts │                        tracts                        │\n",
       "│ int64 │    date    │    date    │   int64    │                       int64[]                        │\n",
       "├───────┼────────────┼────────────┼────────────┼──────────────────────────────────────────────────────┤\n",
       "│   501 │ 2022-10-01 │ 2022-12-31 │          1 │ [36103158607]                                        │\n",
       "│   501 │ 2022-07-01 │ 2022-09-30 │          1 │ [36103158607]                                        │\n",
       "│   501 │ 2022-04-01 │ 2022-06-30 │          1 │ [36103158607]                                        │\n",
       "│   501 │ 2022-01-01 │ 2022-03-31 │          1 │ [36103158607]                                        │\n",
       "│   501 │ 2020-10-01 │ 2020-12-31 │          1 │ [36103158607]                                        │\n",
       "│   501 │ 2020-07-01 │ 2020-09-30 │          1 │ [36103158607]                                        │\n",
       "│   501 │ 2020-04-01 │ 2020-06-30 │          1 │ [36103158607]                                        │\n",
       "│   501 │ 2020-01-01 │ 2020-03-31 │          1 │ [36103158607]                                        │\n",
       "│   601 │ 2022-10-01 │ 2022-12-31 │          4 │ [72001956800, 72001956700, 72113071700, 72001956600] │\n",
       "│   601 │ 2022-07-01 │ 2022-09-30 │          4 │ [72001956800, 72113071700, 72001956700, 72001956600] │\n",
       "│    ·  │     ·      │     ·      │          · │       ·                                              │\n",
       "│    ·  │     ·      │     ·      │          · │       ·                                              │\n",
       "│    ·  │     ·      │     ·      │          · │       ·                                              │\n",
       "│  4068 │ 2020-04-01 │ 2020-06-30 │          1 │ [23017966900]                                        │\n",
       "│  4068 │ 2020-01-01 │ 2020-03-31 │          1 │ [23017966900]                                        │\n",
       "│  4069 │ 2022-10-01 │ 2022-12-31 │          2 │ [23005011500, 23005004600]                           │\n",
       "│  4069 │ 2022-07-01 │ 2022-09-30 │          2 │ [23005011500, 23005004600]                           │\n",
       "│  4069 │ 2022-04-01 │ 2022-06-30 │          2 │ [23005004600, 23005011500]                           │\n",
       "│  4069 │ 2022-01-01 │ 2022-03-31 │          2 │ [23005004600, 23005011500]                           │\n",
       "│  4069 │ 2020-10-01 │ 2020-12-31 │          2 │ [23005004600, 23005011500]                           │\n",
       "│  4069 │ 2020-07-01 │ 2020-09-30 │          2 │ [23005011500, 23005004600]                           │\n",
       "│  4069 │ 2020-04-01 │ 2020-06-30 │          2 │ [23005011500, 23005004600]                           │\n",
       "│  4069 │ 2020-01-01 │ 2020-03-31 │          2 │ [23005011500, 23005004600]                           │\n",
       "├───────┴────────────┴────────────┴────────────┴──────────────────────────────────────────────────────┤\n",
       "│ ? rows (>9999 rows, 20 shown)                                                             5 columns │\n",
       "└─────────────────────────────────────────────────────────────────────────────────────────────────────┘"
      ]
     },
     "execution_count": 176,
     "metadata": {},
     "output_type": "execute_result"
    }
   ],
   "source": [
    "con.sql(\"SELECT  * FROM tracts_per_zip_silver\")"
   ]
  },
  {
   "cell_type": "code",
   "execution_count": 136,
   "metadata": {},
   "outputs": [
    {
     "data": {
      "application/vnd.jupyter.widget-view+json": {
       "model_id": "312ff8deb31249c1a222738d63f0f9ea",
       "version_major": 2,
       "version_minor": 0
      },
      "text/plain": [
       "FloatProgress(value=0.0, layout=Layout(width='auto'), style=ProgressStyle(bar_color='black'))"
      ]
     },
     "metadata": {},
     "output_type": "display_data"
    }
   ],
   "source": [
    "con.sql(\"\"\"\n",
    "CREATE OR REPLACE TABLE zillow_zhvi_sfr_zip_silver AS\n",
    "(UNPIVOT zillow_zhvi_sfr_zip_bronze\n",
    "ON COLUMNS(* EXCLUDE (RegionID, SizeRank, RegionName, RegionType, StateName, State, City, Metro, CountyName))\n",
    "INTO\n",
    "NAME date\n",
    "VALUE zhvi)\"\"\")"
   ]
  },
  {
   "cell_type": "code",
   "execution_count": 138,
   "metadata": {},
   "outputs": [
    {
     "data": {
      "text/plain": [
       "┌──────────────────────────────┐\n",
       "│             name             │\n",
       "│           varchar            │\n",
       "├──────────────────────────────┤\n",
       "│ crosswalk_hud_cbsa_zip       │\n",
       "│ crosswalk_hud_zip_tract      │\n",
       "│ crosswalk_zillow_zillow_cbsa │\n",
       "│ svi                          │\n",
       "│ zillow_mean_to_pending       │\n",
       "│ zillow_zhvi_sfr_zip_bronze   │\n",
       "│ zillow_zhvi_sfr_zip_silver   │\n",
       "└──────────────────────────────┘"
      ]
     },
     "execution_count": 138,
     "metadata": {},
     "output_type": "execute_result"
    }
   ],
   "source": [
    "con.sql(\"SHOW TABLES\")"
   ]
  },
  {
   "cell_type": "code",
   "execution_count": 170,
   "metadata": {},
   "outputs": [
    {
     "data": {
      "text/plain": [
       "┌──────────┬──────────┬────────────┬────────────┬───────────┬─────────┬────────────┬──────────────────────────────────────┬────────────────────┬────────────┬────────────────────┐\n",
       "│ RegionID │ SizeRank │ RegionName │ RegionType │ StateName │  State  │    City    │                Metro                 │     CountyName     │    date    │        zhvi        │\n",
       "│  int64   │  int64   │   int64    │  varchar   │  varchar  │ varchar │  varchar   │               varchar                │      varchar       │  varchar   │       double       │\n",
       "├──────────┼──────────┼────────────┼────────────┼───────────┼─────────┼────────────┼──────────────────────────────────────┼────────────────────┼────────────┼────────────────────┤\n",
       "│    91982 │        1 │      77494 │ zip        │ TX        │ TX      │ Katy       │ Houston-The Woodlands-Sugar Land, TX │ Fort Bend County   │ 2000-01-31 │ 209467.46053724916 │\n",
       "│    91982 │        1 │      77494 │ zip        │ TX        │ TX      │ Katy       │ Houston-The Woodlands-Sugar Land, TX │ Fort Bend County   │ 2000-02-29 │   209647.716854113 │\n",
       "│    91982 │        1 │      77494 │ zip        │ TX        │ TX      │ Katy       │ Houston-The Woodlands-Sugar Land, TX │ Fort Bend County   │ 2000-03-31 │ 210132.81810953037 │\n",
       "│    91982 │        1 │      77494 │ zip        │ TX        │ TX      │ Katy       │ Houston-The Woodlands-Sugar Land, TX │ Fort Bend County   │ 2000-04-30 │ 211113.45874875723 │\n",
       "│    91982 │        1 │      77494 │ zip        │ TX        │ TX      │ Katy       │ Houston-The Woodlands-Sugar Land, TX │ Fort Bend County   │ 2000-05-31 │  211148.7990334812 │\n",
       "│    91982 │        1 │      77494 │ zip        │ TX        │ TX      │ Katy       │ Houston-The Woodlands-Sugar Land, TX │ Fort Bend County   │ 2000-06-30 │ 210996.26232079143 │\n",
       "│    91982 │        1 │      77494 │ zip        │ TX        │ TX      │ Katy       │ Houston-The Woodlands-Sugar Land, TX │ Fort Bend County   │ 2000-07-31 │  210239.6335905349 │\n",
       "│    91982 │        1 │      77494 │ zip        │ TX        │ TX      │ Katy       │ Houston-The Woodlands-Sugar Land, TX │ Fort Bend County   │ 2000-08-31 │  210271.5171677628 │\n",
       "│    91982 │        1 │      77494 │ zip        │ TX        │ TX      │ Katy       │ Houston-The Woodlands-Sugar Land, TX │ Fort Bend County   │ 2000-09-30 │ 210040.83741563503 │\n",
       "│    91982 │        1 │      77494 │ zip        │ TX        │ TX      │ Katy       │ Houston-The Woodlands-Sugar Land, TX │ Fort Bend County   │ 2000-10-31 │ 210412.52265885475 │\n",
       "│      ·   │        · │        ·   │  ·         │ ·         │ ·       │  ·         │                 ·                    │        ·           │     ·      │          ·         │\n",
       "│      ·   │        · │        ·   │  ·         │ ·         │ ·       │  ·         │                 ·                    │        ·           │     ·      │          ·         │\n",
       "│      ·   │        · │        ·   │  ·         │ ·         │ ·       │  ·         │                 ·                    │        ·           │     ·      │          ·         │\n",
       "│    96125 │       35 │      90280 │ zip        │ CA        │ CA      │ South Gate │ Los Angeles-Long Beach-Anaheim, CA   │ Los Angeles County │ 2000-02-29 │ 147955.64956953368 │\n",
       "│    96125 │       35 │      90280 │ zip        │ CA        │ CA      │ South Gate │ Los Angeles-Long Beach-Anaheim, CA   │ Los Angeles County │ 2000-03-31 │ 148409.85017075026 │\n",
       "│    96125 │       35 │      90280 │ zip        │ CA        │ CA      │ South Gate │ Los Angeles-Long Beach-Anaheim, CA   │ Los Angeles County │ 2000-04-30 │  149412.2219646254 │\n",
       "│    96125 │       35 │      90280 │ zip        │ CA        │ CA      │ South Gate │ Los Angeles-Long Beach-Anaheim, CA   │ Los Angeles County │ 2000-05-31 │ 150716.34433637702 │\n",
       "│    96125 │       35 │      90280 │ zip        │ CA        │ CA      │ South Gate │ Los Angeles-Long Beach-Anaheim, CA   │ Los Angeles County │ 2000-06-30 │  151807.1734674313 │\n",
       "│    96125 │       35 │      90280 │ zip        │ CA        │ CA      │ South Gate │ Los Angeles-Long Beach-Anaheim, CA   │ Los Angeles County │ 2000-07-31 │ 152707.82295970604 │\n",
       "│    96125 │       35 │      90280 │ zip        │ CA        │ CA      │ South Gate │ Los Angeles-Long Beach-Anaheim, CA   │ Los Angeles County │ 2000-08-31 │ 153709.88206162633 │\n",
       "│    96125 │       35 │      90280 │ zip        │ CA        │ CA      │ South Gate │ Los Angeles-Long Beach-Anaheim, CA   │ Los Angeles County │ 2000-09-30 │ 154718.13076181358 │\n",
       "│    96125 │       35 │      90280 │ zip        │ CA        │ CA      │ South Gate │ Los Angeles-Long Beach-Anaheim, CA   │ Los Angeles County │ 2000-10-31 │  155509.4082853206 │\n",
       "│    96125 │       35 │      90280 │ zip        │ CA        │ CA      │ South Gate │ Los Angeles-Long Beach-Anaheim, CA   │ Los Angeles County │ 2000-11-30 │ 156220.46113143917 │\n",
       "├──────────┴──────────┴────────────┴────────────┴───────────┴─────────┴────────────┴──────────────────────────────────────┴────────────────────┴────────────┴────────────────────┤\n",
       "│ ? rows (>9999 rows, 20 shown)                                                                                                                                       11 columns │\n",
       "└────────────────────────────────────────────────────────────────────────────────────────────────────────────────────────────────────────────────────────────────────────────────┘"
      ]
     },
     "execution_count": 170,
     "metadata": {},
     "output_type": "execute_result"
    }
   ],
   "source": [
    "con.sql(\"SELECT * FROM zillow_zhvi_sfr_zip_silver\")"
   ]
  },
  {
   "cell_type": "code",
   "execution_count": 173,
   "metadata": {},
   "outputs": [
    {
     "data": {
      "text/plain": [
       "┌──────────┬──────────┬────────────┬────────────┬───────────┬─────────┬────────────┬───────────────────────────────┬────────────────┬────────────┬────────────────────┐\n",
       "│ RegionID │ SizeRank │ RegionName │ RegionType │ StateName │  State  │    City    │             Metro             │   CountyName   │    date    │        zhvi        │\n",
       "│  int64   │  int64   │   int64    │  varchar   │  varchar  │ varchar │  varchar   │            varchar            │    varchar     │  varchar   │       double       │\n",
       "├──────────┼──────────┼────────────┼────────────┼───────────┼─────────┼────────────┼───────────────────────────────┼────────────────┼────────────┼────────────────────┤\n",
       "│    67030 │     3358 │      21771 │ zip        │ MD        │ MD      │ Mount Airy │ Baltimore-Columbia-Towson, MD │ Carroll County │ 2000-01-31 │  205133.8666031565 │\n",
       "│    67030 │     3358 │      21771 │ zip        │ MD        │ MD      │ Mount Airy │ Baltimore-Columbia-Towson, MD │ Carroll County │ 2000-02-29 │ 205289.00795684592 │\n",
       "│    67030 │     3358 │      21771 │ zip        │ MD        │ MD      │ Mount Airy │ Baltimore-Columbia-Towson, MD │ Carroll County │ 2000-03-31 │ 205442.69965383175 │\n",
       "│    67030 │     3358 │      21771 │ zip        │ MD        │ MD      │ Mount Airy │ Baltimore-Columbia-Towson, MD │ Carroll County │ 2000-04-30 │  206008.0285003688 │\n",
       "│    67030 │     3358 │      21771 │ zip        │ MD        │ MD      │ Mount Airy │ Baltimore-Columbia-Towson, MD │ Carroll County │ 2000-05-31 │  206929.3551570852 │\n",
       "│    67030 │     3358 │      21771 │ zip        │ MD        │ MD      │ Mount Airy │ Baltimore-Columbia-Towson, MD │ Carroll County │ 2000-06-30 │  207802.9742397893 │\n",
       "│    67030 │     3358 │      21771 │ zip        │ MD        │ MD      │ Mount Airy │ Baltimore-Columbia-Towson, MD │ Carroll County │ 2000-07-31 │ 208561.35383192287 │\n",
       "│    67030 │     3358 │      21771 │ zip        │ MD        │ MD      │ Mount Airy │ Baltimore-Columbia-Towson, MD │ Carroll County │ 2000-08-31 │ 209196.47829526648 │\n",
       "│    67030 │     3358 │      21771 │ zip        │ MD        │ MD      │ Mount Airy │ Baltimore-Columbia-Towson, MD │ Carroll County │ 2000-09-30 │  210090.0987529226 │\n",
       "│    67030 │     3358 │      21771 │ zip        │ MD        │ MD      │ Mount Airy │ Baltimore-Columbia-Towson, MD │ Carroll County │ 2000-10-31 │ 211252.82328854816 │\n",
       "│      ·   │       ·  │        ·   │  ·         │ ·         │ ·       │     ·      │               ·               │       ·        │     ·      │          ·         │\n",
       "│      ·   │       ·  │        ·   │  ·         │ ·         │ ·       │     ·      │               ·               │       ·        │     ·      │          ·         │\n",
       "│      ·   │       ·  │        ·   │  ·         │ ·         │ ·       │     ·      │               ·               │       ·        │     ·      │          ·         │\n",
       "│    67030 │     3358 │      21771 │ zip        │ MD        │ MD      │ Mount Airy │ Baltimore-Columbia-Towson, MD │ Carroll County │ 2024-01-31 │  579908.8631522935 │\n",
       "│    67030 │     3358 │      21771 │ zip        │ MD        │ MD      │ Mount Airy │ Baltimore-Columbia-Towson, MD │ Carroll County │ 2024-02-29 │  581797.7176383471 │\n",
       "│    67030 │     3358 │      21771 │ zip        │ MD        │ MD      │ Mount Airy │ Baltimore-Columbia-Towson, MD │ Carroll County │ 2024-03-31 │  585937.6589631408 │\n",
       "│    67030 │     3358 │      21771 │ zip        │ MD        │ MD      │ Mount Airy │ Baltimore-Columbia-Towson, MD │ Carroll County │ 2024-04-30 │  591724.7581992499 │\n",
       "│    67030 │     3358 │      21771 │ zip        │ MD        │ MD      │ Mount Airy │ Baltimore-Columbia-Towson, MD │ Carroll County │ 2024-05-31 │  596607.8752605347 │\n",
       "│    67030 │     3358 │      21771 │ zip        │ MD        │ MD      │ Mount Airy │ Baltimore-Columbia-Towson, MD │ Carroll County │ 2024-06-30 │  599394.4279274131 │\n",
       "│    67030 │     3358 │      21771 │ zip        │ MD        │ MD      │ Mount Airy │ Baltimore-Columbia-Towson, MD │ Carroll County │ 2024-07-31 │  599988.1764145639 │\n",
       "│    67030 │     3358 │      21771 │ zip        │ MD        │ MD      │ Mount Airy │ Baltimore-Columbia-Towson, MD │ Carroll County │ 2024-08-31 │  599924.3924943245 │\n",
       "│    67030 │     3358 │      21771 │ zip        │ MD        │ MD      │ Mount Airy │ Baltimore-Columbia-Towson, MD │ Carroll County │ 2024-09-30 │  601648.5323982745 │\n",
       "│    67030 │     3358 │      21771 │ zip        │ MD        │ MD      │ Mount Airy │ Baltimore-Columbia-Towson, MD │ Carroll County │ 2024-10-31 │  605486.8461027738 │\n",
       "├──────────┴──────────┴────────────┴────────────┴───────────┴─────────┴────────────┴───────────────────────────────┴────────────────┴────────────┴────────────────────┤\n",
       "│ 298 rows (20 shown)                                                                                                                                      11 columns │\n",
       "└─────────────────────────────────────────────────────────────────────────────────────────────────────────────────────────────────────────────────────────────────────┘"
      ]
     },
     "execution_count": 173,
     "metadata": {},
     "output_type": "execute_result"
    }
   ],
   "source": [
    "con.sql(\"\"\"\n",
    "SELECT * FROM zillow_zhvi_sfr_zip_silver WHERE RegionName = 21771\n",
    "\"\"\")"
   ]
  },
  {
   "cell_type": "code",
   "execution_count": 193,
   "metadata": {},
   "outputs": [],
   "source": [
    "con.sql(\"\"\"\n",
    "CREATE OR REPLACE TABLE zillow_zhvi_sfr_zip_with_tracts_silver AS (\n",
    "    SELECT \n",
    "        RegionName, \n",
    "        zip, \n",
    "        date, \n",
    "        zhvi, \n",
    "        list_sort(tracts) as tracts\n",
    "    FROM (\n",
    "        SELECT \n",
    "            * \n",
    "        FROM zillow_zhvi_sfr_zip_silver z \n",
    "        LEFT JOIN tracts_per_zip_silver cw \n",
    "        ON \n",
    "            z.RegionName = cw.zip AND \n",
    "            z.date::DATE >= cw.start_date AND \n",
    "            z.date::DATE <= cw.end_date\n",
    "    ) \n",
    "WHERE tracts is not null)\n",
    "\"\"\")"
   ]
  },
  {
   "cell_type": "code",
   "execution_count": 194,
   "metadata": {},
   "outputs": [
    {
     "data": {
      "text/plain": [
       "┌────────────┬───────┬────────────┬────────────────────┬───────────────────────────────────────────────────────────────────────────────────────────────────────────────────────────────────────────────────────────────────────────┐\n",
       "│ RegionName │  zip  │    date    │        zhvi        │                                                                                  tracts                                                                                   │\n",
       "│   int64    │ int64 │  varchar   │       double       │                                                                                  int64[]                                                                                  │\n",
       "├────────────┼───────┼────────────┼────────────────────┼───────────────────────────────────────────────────────────────────────────────────────────────────────────────────────────────────────────────────────────────────────────┤\n",
       "│      21771 │ 21771 │ 2020-01-31 │ 444625.84303602297 │ [24013509002, 24013513001, 24013513002, 24013514201, 24021751702, 24021751801, 24021751802, 24021751903, 24021752001, 24027604001, 24031700103, 24031700204, 24031700208] │\n",
       "│      21771 │ 21771 │ 2020-02-29 │ 446421.49162416457 │ [24013509002, 24013513001, 24013513002, 24013514201, 24021751702, 24021751801, 24021751802, 24021751903, 24021752001, 24027604001, 24031700103, 24031700204, 24031700208] │\n",
       "│      21771 │ 21771 │ 2020-03-31 │   448499.098811144 │ [24013509002, 24013513001, 24013513002, 24013514201, 24021751702, 24021751801, 24021751802, 24021751903, 24021752001, 24027604001, 24031700103, 24031700204, 24031700208] │\n",
       "│      21771 │ 21771 │ 2020-04-30 │  450296.7696117215 │ [24013509002, 24013513001, 24013513002, 24013514201, 24021751702, 24021751801, 24021751802, 24021751903, 24021752001, 24027604001, 24031700103, 24031700204, 24031700208] │\n",
       "│      21771 │ 21771 │ 2020-05-31 │  450856.1847379391 │ [24013509002, 24013513001, 24013513002, 24013514201, 24021751702, 24021751801, 24021751802, 24021751903, 24021752001, 24027604001, 24031700103, 24031700204, 24031700208] │\n",
       "│      21771 │ 21771 │ 2020-06-30 │ 450853.49565527606 │ [24013509002, 24013513001, 24013513002, 24013514201, 24021751702, 24021751801, 24021751802, 24021751903, 24021752001, 24027604001, 24031700103, 24031700204, 24031700208] │\n",
       "│      21771 │ 21771 │ 2020-07-31 │  451677.0290310618 │ [24013509002, 24013513001, 24013513002, 24013514201, 24021751702, 24021751801, 24021751802, 24021751903, 24021752001, 24027604001, 24031700103, 24031700204, 24031700208] │\n",
       "│      21771 │ 21771 │ 2020-08-31 │ 454633.45766254544 │ [24013509002, 24013513001, 24013513002, 24013514201, 24021751702, 24021751801, 24021751802, 24021751903, 24021752001, 24027604001, 24031700103, 24031700204, 24031700208] │\n",
       "│      21771 │ 21771 │ 2020-09-30 │  459719.6445616973 │ [24013509002, 24013513001, 24013513002, 24013514201, 24021751702, 24021751801, 24021751802, 24021751903, 24021752001, 24027604001, 24031700103, 24031700204, 24031700208] │\n",
       "│      21771 │ 21771 │ 2020-10-31 │  465677.2393086055 │ [24013509002, 24013513001, 24013513002, 24013514201, 24021751702, 24021751801, 24021751802, 24021751903, 24021752001, 24027604001, 24031700103, 24031700204, 24031700208] │\n",
       "│        ·   │   ·   │     ·      │          ·         │                                                                                     ·                                                                                     │\n",
       "│        ·   │   ·   │     ·      │          ·         │                                                                                     ·                                                                                     │\n",
       "│        ·   │   ·   │     ·      │          ·         │                                                                                     ·                                                                                     │\n",
       "│      21771 │ 21771 │ 2022-03-31 │  552416.1169512611 │ [24013509002, 24013513001, 24013513002, 24013514201, 24021751702, 24021751801, 24021751802, 24021751903, 24021752001, 24027604001, 24031700103, 24031700204, 24031700208] │\n",
       "│      21771 │ 21771 │ 2022-04-30 │  560034.1097007612 │ [24013509002, 24013513001, 24013513002, 24013514201, 24021751702, 24021751801, 24021751802, 24021751903, 24021752001, 24027604001, 24031700103, 24031700204, 24031700208] │\n",
       "│      21771 │ 21771 │ 2022-05-31 │  566229.3821607088 │ [24013509002, 24013513001, 24013513002, 24013514201, 24021751702, 24021751801, 24021751802, 24021751903, 24021752001, 24027604001, 24031700103, 24031700204, 24031700208] │\n",
       "│      21771 │ 21771 │ 2022-06-30 │  569798.8476578075 │ [24013509002, 24013513001, 24013513002, 24013514201, 24021751702, 24021751801, 24021751802, 24021751903, 24021752001, 24027604001, 24031700103, 24031700204, 24031700208] │\n",
       "│      21771 │ 21771 │ 2022-07-31 │   570059.523307219 │ [24013509002, 24013513001, 24013513002, 24013514201, 24021751702, 24021751801, 24021751802, 24021751903, 24021752001, 24027604001, 24031700103, 24031700204, 24031700208] │\n",
       "│      21771 │ 21771 │ 2022-08-31 │  567237.9921546319 │ [24013509002, 24013513001, 24013513002, 24013514201, 24021751702, 24021751801, 24021751802, 24021751903, 24021752001, 24027604001, 24031700103, 24031700204, 24031700208] │\n",
       "│      21771 │ 21771 │ 2022-09-30 │  562790.1533993458 │ [24013509002, 24013513001, 24013513002, 24013514201, 24021751702, 24021751801, 24021751802, 24021751903, 24021752001, 24027604001, 24031700103, 24031700204, 24031700208] │\n",
       "│      21771 │ 21771 │ 2022-10-31 │  559868.6500527173 │ [24013509002, 24013513001, 24013513002, 24013514201, 24021751702, 24021751801, 24021751802, 24021751903, 24021752001, 24027604001, 24031700103, 24031700204, 24031700208] │\n",
       "│      21771 │ 21771 │ 2022-11-30 │  558331.5935886618 │ [24013509002, 24013513001, 24013513002, 24013514201, 24021751702, 24021751801, 24021751802, 24021751903, 24021752001, 24027604001, 24031700103, 24031700204, 24031700208] │\n",
       "│      21771 │ 21771 │ 2022-12-31 │  559224.2859051644 │ [24013509002, 24013513001, 24013513002, 24013514201, 24021751702, 24021751801, 24021751802, 24021751903, 24021752001, 24027604001, 24031700103, 24031700204, 24031700208] │\n",
       "├────────────┴───────┴────────────┴────────────────────┴───────────────────────────────────────────────────────────────────────────────────────────────────────────────────────────────────────────────────────────────────────────┤\n",
       "│ 24 rows (20 shown)                                                                                                                                                                                                     5 columns │\n",
       "└──────────────────────────────────────────────────────────────────────────────────────────────────────────────────────────────────────────────────────────────────────────────────────────────────────────────────────────────────┘"
      ]
     },
     "execution_count": 194,
     "metadata": {},
     "output_type": "execute_result"
    }
   ],
   "source": [
    "con.sql(\"SELECT * FROM zillow_zhvi_sfr_zip_with_tracts_silver WHERE RegionName = 21771\")"
   ]
  },
  {
   "cell_type": "code",
   "execution_count": 195,
   "metadata": {},
   "outputs": [
    {
     "data": {
      "text/plain": [
       "┌────────────┬─────────┬────────┬───────────────────┬────────────┬───────────────────────────────────────────────────┬────────────┬────────────┬────────────┬────────────┬────────────┬───────┐\n",
       "│   STATE    │ ST_ABBR │ STCNTY │      COUNTY       │    FIPS    │                     LOCATION                      │ RPL_THEME1 │ RPL_THEME2 │ RPL_THEME3 │ RPL_THEME4 │ RPL_THEMES │ year  │\n",
       "│  varchar   │ varchar │ int64  │      varchar      │   int64    │                      varchar                      │   double   │   double   │   double   │   double   │   double   │ int64 │\n",
       "├────────────┼─────────┼────────┼───────────────────┼────────────┼───────────────────────────────────────────────────┼────────────┼────────────┼────────────┼────────────┼────────────┼───────┤\n",
       "│ Alabama    │ AL      │   1001 │ Autauga County    │ 1001020100 │ Census Tract 201; Autauga County; Alabama         │      0.488 │     0.6149 │      0.381 │     0.1478 │     0.3635 │  2022 │\n",
       "│ Alabama    │ AL      │   1001 │ Autauga County    │ 1001020200 │ Census Tract 202; Autauga County; Alabama         │     0.4409 │     0.0628 │     0.7545 │     0.6461 │     0.4155 │  2022 │\n",
       "│ Alabama    │ AL      │   1001 │ Autauga County    │ 1001020300 │ Census Tract 203; Autauga County; Alabama         │      0.416 │     0.7481 │     0.4773 │     0.3658 │     0.4843 │  2022 │\n",
       "│ Alabama    │ AL      │   1001 │ Autauga County    │ 1001020400 │ Census Tract 204; Autauga County; Alabama         │     0.1492 │     0.7935 │     0.2027 │     0.2022 │     0.2386 │  2022 │\n",
       "│ Alabama    │ AL      │   1001 │ Autauga County    │ 1001020501 │ Census Tract 205.01; Autauga County; Alabama      │     0.2802 │     0.3519 │     0.3618 │     0.1623 │     0.2059 │  2022 │\n",
       "│ Alabama    │ AL      │   1001 │ Autauga County    │ 1001020502 │ Census Tract 205.02; Autauga County; Alabama      │      0.176 │     0.3829 │     0.5311 │     0.3094 │     0.2459 │  2022 │\n",
       "│ Alabama    │ AL      │   1001 │ Autauga County    │ 1001020503 │ Census Tract 205.03; Autauga County; Alabama      │     0.2289 │     0.0668 │     0.4833 │     0.3352 │     0.1694 │  2022 │\n",
       "│ Alabama    │ AL      │   1001 │ Autauga County    │ 1001020600 │ Census Tract 206; Autauga County; Alabama         │     0.6352 │     0.4374 │     0.4574 │     0.1509 │     0.4095 │  2022 │\n",
       "│ Alabama    │ AL      │   1001 │ Autauga County    │ 1001020700 │ Census Tract 207; Autauga County; Alabama         │     0.5672 │     0.4188 │     0.5363 │     0.7984 │      0.644 │  2022 │\n",
       "│ Alabama    │ AL      │   1001 │ Autauga County    │ 1001020801 │ Census Tract 208.01; Autauga County; Alabama      │      0.261 │     0.4239 │     0.1808 │     0.2412 │     0.2239 │  2022 │\n",
       "│    ·       │ ·       │     ·  │       ·           │      ·     │                      ·                            │        ·   │        ·   │        ·   │        ·   │        ·   │    ·  │\n",
       "│    ·       │ ·       │     ·  │       ·           │      ·     │                      ·                            │        ·   │        ·   │        ·   │        ·   │        ·   │    ·  │\n",
       "│    ·       │ ·       │     ·  │       ·           │      ·     │                      ·                            │        ·   │        ·   │        ·   │        ·   │        ·   │    ·  │\n",
       "│ California │ CA      │   6067 │ Sacramento County │ 6067009406 │ Census Tract 94.06; Sacramento County; California │     0.6658 │     0.2064 │     0.5342 │     0.6031 │     0.5633 │  2022 │\n",
       "│ California │ CA      │   6067 │ Sacramento County │ 6067009408 │ Census Tract 94.08; Sacramento County; California │     0.3337 │     0.9731 │     0.5059 │     0.8298 │     0.7274 │  2022 │\n",
       "│ California │ CA      │   6067 │ Sacramento County │ 6067009409 │ Census Tract 94.09; Sacramento County; California │     0.1263 │     0.3469 │     0.6998 │     0.5463 │     0.3135 │  2022 │\n",
       "│ California │ CA      │   6067 │ Sacramento County │ 6067009410 │ Census Tract 94.10; Sacramento County; California │     0.2085 │     0.4287 │     0.6795 │     0.1854 │     0.2427 │  2022 │\n",
       "│ California │ CA      │   6067 │ Sacramento County │ 6067009501 │ Census Tract 95.01; Sacramento County; California │     0.6412 │      0.852 │     0.7797 │     0.9574 │     0.8776 │  2022 │\n",
       "│ California │ CA      │   6067 │ Sacramento County │ 6067009502 │ Census Tract 95.02; Sacramento County; California │     0.6183 │     0.4056 │      0.611 │     0.4938 │      0.569 │  2022 │\n",
       "│ California │ CA      │   6067 │ Sacramento County │ 6067009503 │ Census Tract 95.03; Sacramento County; California │     0.9028 │     0.9573 │     0.7427 │     0.9805 │     0.9821 │  2022 │\n",
       "│ California │ CA      │   6067 │ Sacramento County │ 6067009504 │ Census Tract 95.04; Sacramento County; California │     0.7896 │     0.8706 │     0.7557 │     0.7935 │     0.8697 │  2022 │\n",
       "│ California │ CA      │   6067 │ Sacramento County │ 6067009601 │ Census Tract 96.01; Sacramento County; California │     0.8138 │     0.9097 │     0.9415 │       0.75 │     0.8974 │  2022 │\n",
       "│ California │ CA      │   6067 │ Sacramento County │ 6067009608 │ Census Tract 96.08; Sacramento County; California │     0.7444 │     0.7715 │     0.8847 │     0.9332 │     0.8916 │  2022 │\n",
       "├────────────┴─────────┴────────┴───────────────────┴────────────┴───────────────────────────────────────────────────┴────────────┴────────────┴────────────┴────────────┴────────────┴───────┤\n",
       "│ ? rows (>9999 rows, 20 shown)                                                                                                                                                    12 columns │\n",
       "└─────────────────────────────────────────────────────────────────────────────────────────────────────────────────────────────────────────────────────────────────────────────────────────────┘"
      ]
     },
     "execution_count": 195,
     "metadata": {},
     "output_type": "execute_result"
    }
   ],
   "source": [
    "con.sql(\"SELECT * FROM svi\")"
   ]
  },
  {
   "cell_type": "code",
   "execution_count": 203,
   "metadata": {},
   "outputs": [
    {
     "ename": "",
     "evalue": "",
     "output_type": "error",
     "traceback": [
      "\u001b[1;31mCannot execute code, session has been disposed. Please try restarting the Kernel."
     ]
    },
    {
     "ename": "",
     "evalue": "",
     "output_type": "error",
     "traceback": [
      "\u001b[1;31mCannot execute code, session has been disposed. Please try restarting the Kernel. \n",
      "\u001b[1;31mView Jupyter <a href='command:jupyter.viewOutput'>log</a> for further details."
     ]
    }
   ],
   "source": [
    "con.sql(\"\"\"\n",
    "SELECT * FROM (\n",
    "    SELECT \n",
    "        RegionName,\n",
    "        zip,\n",
    "        date,\n",
    "        tracts,\n",
    "        zhvi,\n",
    "        list(RPL_THEME1),\n",
    "        list(RPL_THEME2),\n",
    "        list(RPL_THEME3),\n",
    "        list(RPL_THEME4),\n",
    "        list(RPL_THEMES)\n",
    "    FROM (SELECT * FROM zillow_zhvi_sfr_zip_with_tracts_silver z LEFT JOIN svi s ON s.year = year(z.date::DATE) AND s.FIPS IN z.tracts)\n",
    "    GROUP BY (\n",
    "        RegionName,\n",
    "        zip,\n",
    "        date,\n",
    "        tracts,\n",
    "        zhvi\n",
    "    )\n",
    ") \n",
    "WHERE zip = 21771\n",
    "\"\"\")"
   ]
  },
  {
   "cell_type": "code",
   "execution_count": 8,
   "metadata": {},
   "outputs": [
    {
     "data": {
      "text/plain": [
       "┌────────────┬─────────┬────────┬───────────────────┬────────────┬───────────────────────────────────────────────────┬────────────┬────────────┬────────────┬────────────┬────────────┬───────┐\n",
       "│   STATE    │ ST_ABBR │ STCNTY │      COUNTY       │    FIPS    │                     LOCATION                      │ RPL_THEME1 │ RPL_THEME2 │ RPL_THEME3 │ RPL_THEME4 │ RPL_THEMES │ year  │\n",
       "│  varchar   │ varchar │ int64  │      varchar      │   int64    │                      varchar                      │   double   │   double   │   double   │   double   │   double   │ int64 │\n",
       "├────────────┼─────────┼────────┼───────────────────┼────────────┼───────────────────────────────────────────────────┼────────────┼────────────┼────────────┼────────────┼────────────┼───────┤\n",
       "│ Alabama    │ AL      │   1001 │ Autauga County    │ 1001020100 │ Census Tract 201; Autauga County; Alabama         │      0.488 │     0.6149 │      0.381 │     0.1478 │     0.3635 │  2022 │\n",
       "│ Alabama    │ AL      │   1001 │ Autauga County    │ 1001020200 │ Census Tract 202; Autauga County; Alabama         │     0.4409 │     0.0628 │     0.7545 │     0.6461 │     0.4155 │  2022 │\n",
       "│ Alabama    │ AL      │   1001 │ Autauga County    │ 1001020300 │ Census Tract 203; Autauga County; Alabama         │      0.416 │     0.7481 │     0.4773 │     0.3658 │     0.4843 │  2022 │\n",
       "│ Alabama    │ AL      │   1001 │ Autauga County    │ 1001020400 │ Census Tract 204; Autauga County; Alabama         │     0.1492 │     0.7935 │     0.2027 │     0.2022 │     0.2386 │  2022 │\n",
       "│ Alabama    │ AL      │   1001 │ Autauga County    │ 1001020501 │ Census Tract 205.01; Autauga County; Alabama      │     0.2802 │     0.3519 │     0.3618 │     0.1623 │     0.2059 │  2022 │\n",
       "│ Alabama    │ AL      │   1001 │ Autauga County    │ 1001020502 │ Census Tract 205.02; Autauga County; Alabama      │      0.176 │     0.3829 │     0.5311 │     0.3094 │     0.2459 │  2022 │\n",
       "│ Alabama    │ AL      │   1001 │ Autauga County    │ 1001020503 │ Census Tract 205.03; Autauga County; Alabama      │     0.2289 │     0.0668 │     0.4833 │     0.3352 │     0.1694 │  2022 │\n",
       "│ Alabama    │ AL      │   1001 │ Autauga County    │ 1001020600 │ Census Tract 206; Autauga County; Alabama         │     0.6352 │     0.4374 │     0.4574 │     0.1509 │     0.4095 │  2022 │\n",
       "│ Alabama    │ AL      │   1001 │ Autauga County    │ 1001020700 │ Census Tract 207; Autauga County; Alabama         │     0.5672 │     0.4188 │     0.5363 │     0.7984 │      0.644 │  2022 │\n",
       "│ Alabama    │ AL      │   1001 │ Autauga County    │ 1001020801 │ Census Tract 208.01; Autauga County; Alabama      │      0.261 │     0.4239 │     0.1808 │     0.2412 │     0.2239 │  2022 │\n",
       "│    ·       │ ·       │     ·  │       ·           │      ·     │                      ·                            │        ·   │        ·   │        ·   │        ·   │        ·   │    ·  │\n",
       "│    ·       │ ·       │     ·  │       ·           │      ·     │                      ·                            │        ·   │        ·   │        ·   │        ·   │        ·   │    ·  │\n",
       "│    ·       │ ·       │     ·  │       ·           │      ·     │                      ·                            │        ·   │        ·   │        ·   │        ·   │        ·   │    ·  │\n",
       "│ California │ CA      │   6067 │ Sacramento County │ 6067009406 │ Census Tract 94.06; Sacramento County; California │     0.6658 │     0.2064 │     0.5342 │     0.6031 │     0.5633 │  2022 │\n",
       "│ California │ CA      │   6067 │ Sacramento County │ 6067009408 │ Census Tract 94.08; Sacramento County; California │     0.3337 │     0.9731 │     0.5059 │     0.8298 │     0.7274 │  2022 │\n",
       "│ California │ CA      │   6067 │ Sacramento County │ 6067009409 │ Census Tract 94.09; Sacramento County; California │     0.1263 │     0.3469 │     0.6998 │     0.5463 │     0.3135 │  2022 │\n",
       "│ California │ CA      │   6067 │ Sacramento County │ 6067009410 │ Census Tract 94.10; Sacramento County; California │     0.2085 │     0.4287 │     0.6795 │     0.1854 │     0.2427 │  2022 │\n",
       "│ California │ CA      │   6067 │ Sacramento County │ 6067009501 │ Census Tract 95.01; Sacramento County; California │     0.6412 │      0.852 │     0.7797 │     0.9574 │     0.8776 │  2022 │\n",
       "│ California │ CA      │   6067 │ Sacramento County │ 6067009502 │ Census Tract 95.02; Sacramento County; California │     0.6183 │     0.4056 │      0.611 │     0.4938 │      0.569 │  2022 │\n",
       "│ California │ CA      │   6067 │ Sacramento County │ 6067009503 │ Census Tract 95.03; Sacramento County; California │     0.9028 │     0.9573 │     0.7427 │     0.9805 │     0.9821 │  2022 │\n",
       "│ California │ CA      │   6067 │ Sacramento County │ 6067009504 │ Census Tract 95.04; Sacramento County; California │     0.7896 │     0.8706 │     0.7557 │     0.7935 │     0.8697 │  2022 │\n",
       "│ California │ CA      │   6067 │ Sacramento County │ 6067009601 │ Census Tract 96.01; Sacramento County; California │     0.8138 │     0.9097 │     0.9415 │       0.75 │     0.8974 │  2022 │\n",
       "│ California │ CA      │   6067 │ Sacramento County │ 6067009608 │ Census Tract 96.08; Sacramento County; California │     0.7444 │     0.7715 │     0.8847 │     0.9332 │     0.8916 │  2022 │\n",
       "├────────────┴─────────┴────────┴───────────────────┴────────────┴───────────────────────────────────────────────────┴────────────┴────────────┴────────────┴────────────┴────────────┴───────┤\n",
       "│ ? rows (>9999 rows, 20 shown)                                                                                                                                                    12 columns │\n",
       "└─────────────────────────────────────────────────────────────────────────────────────────────────────────────────────────────────────────────────────────────────────────────────────────────┘"
      ]
     },
     "execution_count": 8,
     "metadata": {},
     "output_type": "execute_result"
    }
   ],
   "source": [
    "con.sql(\"SELECT * FROM svi\")"
   ]
  },
  {
   "cell_type": "code",
   "execution_count": 12,
   "metadata": {},
   "outputs": [
    {
     "data": {
      "application/vnd.jupyter.widget-view+json": {
       "model_id": "4c8f03ab54a2426389e288bd84670444",
       "version_major": 2,
       "version_minor": 0
      },
      "text/plain": [
       "FloatProgress(value=0.0, layout=Layout(width='auto'), style=ProgressStyle(bar_color='black'))"
      ]
     },
     "metadata": {},
     "output_type": "display_data"
    }
   ],
   "source": [
    "con.sql(\"\"\"\n",
    "CREATE OR REPLACE TABLE zillow_zhvi_sfr_zip_with_svi_silver AS (\n",
    "    SELECT \n",
    "        RegionName,\n",
    "        zip,\n",
    "        date,\n",
    "        zhvi,\n",
    "        mean(RPL_THEME1) AS mean_rpl_theme1,\n",
    "        median(RPL_THEME1) AS median_rpl_theme1,\n",
    "        mean(RPL_THEME2) AS mean_rpl_theme2,\n",
    "        median(RPL_THEME2) AS median_rpl_theme2,\n",
    "        mean(RPL_THEME3) AS mean_rpl_theme3,\n",
    "        median(RPL_THEME4) AS median_rpl_theme3,\n",
    "        mean(RPL_THEME4) AS mean_rpl_theme4,\n",
    "        median(RPL_THEME4) AS median_rpl_theme4,\n",
    "        mean(RPL_THEMES) AS mean_rpl_themes,\n",
    "        median(RPL_THEMES) AS median_rpl_themes,\n",
    "    FROM (SELECT * FROM zillow_zhvi_sfr_zip_with_tracts_silver z LEFT JOIN svi s ON s.year = year(z.date::DATE) AND s.FIPS IN z.tracts) GROUP BY         \n",
    "        RegionName,\n",
    "        zip,\n",
    "        date,\n",
    "        zhvi\n",
    ")\n",
    "\"\"\"\n",
    ")"
   ]
  },
  {
   "cell_type": "code",
   "execution_count": 15,
   "metadata": {},
   "outputs": [
    {
     "name": "stdout",
     "output_type": "stream",
     "text": [
      "┌────────────┬───────┬────────────┬────────────────────┬─────────────────────┬─────────────────────┬─────────────────────┬─────────────────────┬─────────────────────┬──────────────────────┬──────────────────────┬──────────────────────┬─────────────────────┬─────────────────────┐\n",
      "│ RegionName │  zip  │    date    │        zhvi        │   mean_rpl_theme1   │  median_rpl_theme1  │   mean_rpl_theme2   │  median_rpl_theme2  │   mean_rpl_theme3   │  median_rpl_theme3   │   mean_rpl_theme4    │  median_rpl_theme4   │   mean_rpl_themes   │  median_rpl_themes  │\n",
      "│   int64    │ int64 │  varchar   │       double       │       double        │       double        │       double        │       double        │       double        │        double        │        double        │        double        │       double        │       double        │\n",
      "├────────────┼───────┼────────────┼────────────────────┼─────────────────────┼─────────────────────┼─────────────────────┼─────────────────────┼─────────────────────┼──────────────────────┼──────────────────────┼──────────────────────┼─────────────────────┼─────────────────────┤\n",
      "│       1001 │  1001 │ 2020-01-31 │ 241850.05017537635 │              0.2487 │              0.2485 │  0.5203166666666666 │             0.58385 │ 0.21806666666666666 │   0.5294000000000001 │               0.4713 │   0.5294000000000001 │  0.3374333333333333 │              0.3722 │\n",
      "│       1001 │  1001 │ 2020-02-29 │ 242785.81596241705 │              0.2487 │              0.2485 │  0.5203166666666666 │             0.58385 │ 0.21806666666666666 │   0.5294000000000001 │               0.4713 │   0.5294000000000001 │  0.3374333333333333 │              0.3722 │\n",
      "│       1001 │  1001 │ 2020-03-31 │  243565.8259871273 │              0.2487 │              0.2485 │  0.5203166666666666 │             0.58385 │ 0.21806666666666666 │   0.5294000000000001 │               0.4713 │   0.5294000000000001 │  0.3374333333333333 │              0.3722 │\n",
      "│       1001 │  1001 │ 2020-04-30 │   243930.069189096 │              0.2487 │              0.2485 │  0.5203166666666666 │             0.58385 │ 0.21806666666666666 │   0.5294000000000001 │               0.4713 │   0.5294000000000001 │  0.3374333333333333 │              0.3722 │\n",
      "│       1001 │  1001 │ 2020-05-31 │ 244331.60501159413 │              0.2487 │              0.2485 │  0.5203166666666666 │             0.58385 │ 0.21806666666666666 │   0.5294000000000001 │               0.4713 │   0.5294000000000001 │  0.3374333333333333 │              0.3722 │\n",
      "│       1001 │  1001 │ 2020-06-30 │   245049.628184334 │              0.2487 │              0.2485 │  0.5203166666666666 │             0.58385 │ 0.21806666666666666 │   0.5294000000000001 │               0.4713 │   0.5294000000000001 │  0.3374333333333333 │              0.3722 │\n",
      "│       1001 │  1001 │ 2020-07-31 │ 246362.75019103088 │              0.2487 │              0.2485 │  0.5203166666666666 │             0.58385 │ 0.21806666666666666 │   0.5294000000000001 │               0.4713 │   0.5294000000000001 │  0.3374333333333333 │              0.3722 │\n",
      "│       1001 │  1001 │ 2020-08-31 │  248188.7075665401 │              0.2487 │              0.2485 │  0.5203166666666666 │             0.58385 │ 0.21806666666666666 │   0.5294000000000001 │               0.4713 │   0.5294000000000001 │  0.3374333333333333 │              0.3722 │\n",
      "│       1001 │  1001 │ 2020-09-30 │ 251081.90872737137 │              0.2487 │              0.2485 │  0.5203166666666666 │             0.58385 │ 0.21806666666666666 │   0.5294000000000001 │               0.4713 │   0.5294000000000001 │  0.3374333333333333 │              0.3722 │\n",
      "│       1001 │  1001 │ 2020-10-31 │  254541.6918594477 │              0.2487 │              0.2485 │  0.5203166666666666 │             0.58385 │ 0.21806666666666666 │   0.5294000000000001 │               0.4713 │   0.5294000000000001 │  0.3374333333333333 │              0.3722 │\n",
      "│       1001 │  1001 │ 2020-11-30 │ 258566.53869571807 │              0.2487 │              0.2485 │  0.5203166666666666 │             0.58385 │ 0.21806666666666666 │   0.5294000000000001 │               0.4713 │   0.5294000000000001 │  0.3374333333333333 │              0.3722 │\n",
      "│       1001 │  1001 │ 2020-12-31 │ 262251.98765678325 │              0.2487 │              0.2485 │  0.5203166666666666 │             0.58385 │ 0.21806666666666666 │   0.5294000000000001 │               0.4713 │   0.5294000000000001 │  0.3374333333333333 │              0.3722 │\n",
      "│       1001 │  1001 │ 2022-01-31 │ 288866.83446422475 │  0.3348333333333333 │             0.29745 │  0.4144333333333334 │              0.3749 │ 0.19144999999999998 │              0.54915 │  0.43459999999999993 │              0.54915 │  0.3317333333333334 │ 0.38265000000000005 │\n",
      "│       1001 │  1001 │ 2022-02-28 │ 293331.49005903874 │  0.3348333333333333 │             0.29745 │  0.4144333333333334 │              0.3749 │ 0.19144999999999998 │              0.54915 │  0.43459999999999993 │              0.54915 │  0.3317333333333334 │ 0.38265000000000005 │\n",
      "│       1001 │  1001 │ 2022-03-31 │  298801.2866164486 │  0.3348333333333333 │             0.29745 │  0.4144333333333334 │              0.3749 │ 0.19144999999999998 │              0.54915 │  0.43459999999999993 │              0.54915 │  0.3317333333333334 │ 0.38265000000000005 │\n",
      "│       1001 │  1001 │ 2022-04-30 │  303618.0945819216 │  0.3348333333333333 │             0.29745 │  0.4144333333333334 │              0.3749 │ 0.19144999999999998 │              0.54915 │  0.43459999999999993 │              0.54915 │  0.3317333333333334 │ 0.38265000000000005 │\n",
      "│       1001 │  1001 │ 2022-05-31 │   307797.296171905 │  0.3348333333333333 │             0.29745 │  0.4144333333333334 │              0.3749 │ 0.19144999999999998 │              0.54915 │  0.43459999999999993 │              0.54915 │  0.3317333333333334 │ 0.38265000000000005 │\n",
      "│       1001 │  1001 │ 2022-06-30 │  311374.6750534048 │  0.3348333333333333 │             0.29745 │  0.4144333333333334 │              0.3749 │ 0.19144999999999998 │              0.54915 │  0.43459999999999993 │              0.54915 │  0.3317333333333334 │ 0.38265000000000005 │\n",
      "│       1001 │  1001 │ 2022-07-31 │  313468.5688162276 │  0.3348333333333333 │             0.29745 │  0.4144333333333334 │              0.3749 │ 0.19144999999999998 │              0.54915 │  0.43459999999999993 │              0.54915 │  0.3317333333333334 │ 0.38265000000000005 │\n",
      "│       1001 │  1001 │ 2022-08-31 │ 313578.50916612806 │  0.3348333333333333 │             0.29745 │  0.4144333333333334 │              0.3749 │ 0.19144999999999998 │              0.54915 │  0.43459999999999993 │              0.54915 │  0.3317333333333334 │ 0.38265000000000005 │\n",
      "│       1001 │  1001 │ 2022-09-30 │ 312246.70612883184 │  0.3348333333333333 │             0.29745 │  0.4144333333333334 │              0.3749 │ 0.19144999999999998 │              0.54915 │  0.43459999999999993 │              0.54915 │  0.3317333333333334 │ 0.38265000000000005 │\n",
      "│       1001 │  1001 │ 2022-10-31 │  310750.6229161538 │  0.3348333333333333 │             0.29745 │  0.4144333333333334 │              0.3749 │ 0.19144999999999998 │              0.54915 │  0.43459999999999993 │              0.54915 │  0.3317333333333334 │ 0.38265000000000005 │\n",
      "│       1001 │  1001 │ 2022-11-30 │  309982.3633082916 │  0.3348333333333333 │             0.29745 │  0.4144333333333334 │              0.3749 │ 0.19144999999999998 │              0.54915 │  0.43459999999999993 │              0.54915 │  0.3317333333333334 │ 0.38265000000000005 │\n",
      "│       1001 │  1001 │ 2022-12-31 │  309890.9852417223 │  0.3348333333333333 │             0.29745 │  0.4144333333333334 │              0.3749 │ 0.19144999999999998 │              0.54915 │  0.43459999999999993 │              0.54915 │  0.3317333333333334 │ 0.38265000000000005 │\n",
      "│       1002 │  1002 │ 2020-01-31 │  368135.9679282472 │            -110.616 │              0.4135 │              0.2154 │              0.1749 │  0.4601333333333334 │               0.3445 │  -110.57223333333333 │               0.3445 │  -110.6879111111111 │              0.2831 │\n",
      "│       1002 │  1002 │ 2020-02-29 │  369326.7331290592 │            -110.616 │              0.4135 │              0.2154 │              0.1749 │  0.4601333333333334 │               0.3445 │  -110.57223333333333 │               0.3445 │  -110.6879111111111 │              0.2831 │\n",
      "│       1002 │  1002 │ 2020-03-31 │  371058.6780468086 │            -110.616 │              0.4135 │              0.2154 │              0.1749 │  0.4601333333333334 │               0.3445 │  -110.57223333333333 │               0.3445 │  -110.6879111111111 │              0.2831 │\n",
      "│       1002 │  1002 │ 2020-04-30 │  372875.3903295407 │            -110.616 │              0.4135 │              0.2154 │              0.1749 │  0.4601333333333334 │               0.3445 │  -110.57223333333333 │               0.3445 │  -110.6879111111111 │              0.2831 │\n",
      "│       1002 │  1002 │ 2020-05-31 │  374683.7655854277 │            -110.616 │              0.4135 │              0.2154 │              0.1749 │  0.4601333333333334 │               0.3445 │  -110.57223333333333 │               0.3445 │  -110.6879111111111 │              0.2831 │\n",
      "│       1002 │  1002 │ 2020-06-30 │  375678.6504453764 │            -110.616 │              0.4135 │              0.2154 │              0.1749 │  0.4601333333333334 │               0.3445 │  -110.57223333333333 │               0.3445 │  -110.6879111111111 │              0.2831 │\n",
      "│       1002 │  1002 │ 2020-07-31 │  376571.2139999925 │            -110.616 │              0.4135 │              0.2154 │              0.1749 │  0.4601333333333334 │               0.3445 │  -110.57223333333333 │               0.3445 │  -110.6879111111111 │              0.2831 │\n",
      "│       1002 │  1002 │ 2020-08-31 │  378575.5896368805 │            -110.616 │              0.4135 │              0.2154 │              0.1749 │  0.4601333333333334 │               0.3445 │  -110.57223333333333 │               0.3445 │  -110.6879111111111 │              0.2831 │\n",
      "│       1002 │  1002 │ 2020-09-30 │  382243.8736941884 │            -110.616 │              0.4135 │              0.2154 │              0.1749 │  0.4601333333333334 │               0.3445 │  -110.57223333333333 │               0.3445 │  -110.6879111111111 │              0.2831 │\n",
      "│       1002 │  1002 │ 2020-10-31 │  387275.9051320024 │            -110.616 │              0.4135 │              0.2154 │              0.1749 │  0.4601333333333334 │               0.3445 │  -110.57223333333333 │               0.3445 │  -110.6879111111111 │              0.2831 │\n",
      "│       1002 │  1002 │ 2020-11-30 │  393087.5638985271 │            -110.616 │              0.4135 │              0.2154 │              0.1749 │  0.4601333333333334 │               0.3445 │  -110.57223333333333 │               0.3445 │  -110.6879111111111 │              0.2831 │\n",
      "│       1002 │  1002 │ 2020-12-31 │  398635.1533460307 │            -110.616 │              0.4135 │              0.2154 │              0.1749 │  0.4601333333333334 │               0.3445 │  -110.57223333333333 │               0.3445 │  -110.6879111111111 │              0.2831 │\n",
      "│       1002 │  1002 │ 2022-01-31 │ 442483.53486234817 │ -110.71552222222222 │              0.3101 │ -110.83212222222222 │              0.0849 │ 0.43301111111111107 │               0.5822 │  -110.48167777777778 │               0.5822 │ -110.72545555555556 │              0.2577 │\n",
      "│       1002 │  1002 │ 2022-02-28 │  447578.0132265457 │ -110.71552222222222 │              0.3101 │ -110.83212222222222 │              0.0849 │ 0.43301111111111107 │               0.5822 │  -110.48167777777778 │               0.5822 │ -110.72545555555556 │              0.2577 │\n",
      "│       1002 │  1002 │ 2022-03-31 │  454903.3308928333 │ -110.71552222222222 │              0.3101 │ -110.83212222222222 │              0.0849 │ 0.43301111111111107 │               0.5822 │  -110.48167777777778 │               0.5822 │ -110.72545555555556 │              0.2577 │\n",
      "│       1002 │  1002 │ 2022-04-30 │ 462930.73537009815 │ -110.71552222222222 │              0.3101 │ -110.83212222222222 │              0.0849 │ 0.43301111111111107 │               0.5822 │  -110.48167777777778 │               0.5822 │ -110.72545555555556 │              0.2577 │\n",
      "│       1002 │  1002 │ 2022-05-31 │ 471147.12465204886 │ -110.71552222222222 │              0.3101 │ -110.83212222222222 │              0.0849 │ 0.43301111111111107 │               0.5822 │  -110.48167777777778 │               0.5822 │ -110.72545555555556 │              0.2577 │\n",
      "│       1002 │  1002 │ 2022-06-30 │  478352.1751193937 │ -110.71552222222222 │              0.3101 │ -110.83212222222222 │              0.0849 │ 0.43301111111111107 │               0.5822 │  -110.48167777777778 │               0.5822 │ -110.72545555555556 │              0.2577 │\n",
      "│       1002 │  1002 │ 2022-07-31 │  482811.6869076264 │ -110.71552222222222 │              0.3101 │ -110.83212222222222 │              0.0849 │ 0.43301111111111107 │               0.5822 │  -110.48167777777778 │               0.5822 │ -110.72545555555556 │              0.2577 │\n",
      "│       1002 │  1002 │ 2022-08-31 │  484063.2870580029 │ -110.71552222222222 │              0.3101 │ -110.83212222222222 │              0.0849 │ 0.43301111111111107 │               0.5822 │  -110.48167777777778 │               0.5822 │ -110.72545555555556 │              0.2577 │\n",
      "│       1002 │  1002 │ 2022-09-30 │ 482549.47467314167 │ -110.71552222222222 │              0.3101 │ -110.83212222222222 │              0.0849 │ 0.43301111111111107 │               0.5822 │  -110.48167777777778 │               0.5822 │ -110.72545555555556 │              0.2577 │\n",
      "│       1002 │  1002 │ 2022-10-31 │ 481470.77762850095 │ -110.71552222222222 │              0.3101 │ -110.83212222222222 │              0.0849 │ 0.43301111111111107 │               0.5822 │  -110.48167777777778 │               0.5822 │ -110.72545555555556 │              0.2577 │\n",
      "│       1002 │  1002 │ 2022-11-30 │  481263.0574271272 │ -110.71552222222222 │              0.3101 │ -110.83212222222222 │              0.0849 │ 0.43301111111111107 │               0.5822 │  -110.48167777777778 │               0.5822 │ -110.72545555555556 │              0.2577 │\n",
      "│       1002 │  1002 │ 2022-12-31 │    482556.71535836 │ -110.71552222222222 │              0.3101 │ -110.83212222222222 │              0.0849 │ 0.43301111111111107 │               0.5822 │  -110.48167777777778 │               0.5822 │ -110.72545555555556 │              0.2577 │\n",
      "│       1005 │  1005 │ 2020-01-31 │ 247535.32303883127 │              0.1326 │              0.1326 │             0.07885 │             0.07885 │             0.07475 │              0.25645 │              0.25645 │              0.25645 │ 0.07669999999999999 │ 0.07669999999999999 │\n",
      "│       1005 │  1005 │ 2020-02-29 │  248730.8718702652 │              0.1326 │              0.1326 │             0.07885 │             0.07885 │             0.07475 │              0.25645 │              0.25645 │              0.25645 │ 0.07669999999999999 │ 0.07669999999999999 │\n",
      "│         ·  │    ·  │     ·      │          ·         │                 ·   │                 ·   │                 ·   │                 ·   │                ·    │                  ·   │                 ·    │                  ·   │                 ·   │                 ·   │\n",
      "│         ·  │    ·  │     ·      │          ·         │                 ·   │                 ·   │                 ·   │                 ·   │                ·    │                  ·   │                 ·    │                  ·   │                 ·   │                 ·   │\n",
      "│         ·  │    ·  │     ·      │          ·         │                 ·   │                 ·   │                 ·   │                 ·   │                ·    │                  ·   │                 ·    │                  ·   │                 ·   │                 ·   │\n",
      "│       2642 │  2642 │ 2020-12-31 │  529820.3134853949 │  0.2929333333333333 │              0.3073 │              0.2907 │              0.1906 │ 0.13066666666666668 │               0.0444 │  0.31139999999999995 │               0.0444 │              0.1976 │              0.1115 │\n",
      "│       2642 │  2642 │ 2022-01-31 │  655844.8080782817 │             0.35455 │             0.35455 │ 0.49724999999999997 │ 0.49724999999999997 │              0.1742 │ 0.039349999999999996 │ 0.039349999999999996 │ 0.039349999999999996 │             0.14785 │             0.14785 │\n",
      "│       2642 │  2642 │ 2022-02-28 │  670568.8747039279 │             0.35455 │             0.35455 │ 0.49724999999999997 │ 0.49724999999999997 │              0.1742 │ 0.039349999999999996 │ 0.039349999999999996 │ 0.039349999999999996 │             0.14785 │             0.14785 │\n",
      "│       2642 │  2642 │ 2022-03-31 │  690340.6353481361 │             0.35455 │             0.35455 │ 0.49724999999999997 │ 0.49724999999999997 │              0.1742 │ 0.039349999999999996 │ 0.039349999999999996 │ 0.039349999999999996 │             0.14785 │             0.14785 │\n",
      "│       2642 │  2642 │ 2022-04-30 │  709643.9877271074 │             0.35455 │             0.35455 │ 0.49724999999999997 │ 0.49724999999999997 │              0.1742 │ 0.039349999999999996 │ 0.039349999999999996 │ 0.039349999999999996 │             0.14785 │             0.14785 │\n",
      "│       2642 │  2642 │ 2022-05-31 │  724765.6255898466 │             0.35455 │             0.35455 │ 0.49724999999999997 │ 0.49724999999999997 │              0.1742 │ 0.039349999999999996 │ 0.039349999999999996 │ 0.039349999999999996 │             0.14785 │             0.14785 │\n",
      "│       2642 │  2642 │ 2022-06-30 │  736883.4649485132 │             0.35455 │             0.35455 │ 0.49724999999999997 │ 0.49724999999999997 │              0.1742 │ 0.039349999999999996 │ 0.039349999999999996 │ 0.039349999999999996 │             0.14785 │             0.14785 │\n",
      "│       2642 │  2642 │ 2022-07-31 │  742845.7471304393 │             0.35455 │             0.35455 │ 0.49724999999999997 │ 0.49724999999999997 │              0.1742 │ 0.039349999999999996 │ 0.039349999999999996 │ 0.039349999999999996 │             0.14785 │             0.14785 │\n",
      "│       2642 │  2642 │ 2022-08-31 │   743464.106063139 │             0.35455 │             0.35455 │ 0.49724999999999997 │ 0.49724999999999997 │              0.1742 │ 0.039349999999999996 │ 0.039349999999999996 │ 0.039349999999999996 │             0.14785 │             0.14785 │\n",
      "│       2642 │  2642 │ 2022-09-30 │  738393.9392025666 │             0.35455 │             0.35455 │ 0.49724999999999997 │ 0.49724999999999997 │              0.1742 │ 0.039349999999999996 │ 0.039349999999999996 │ 0.039349999999999996 │             0.14785 │             0.14785 │\n",
      "│       2642 │  2642 │ 2022-10-31 │  734102.3202635475 │             0.35455 │             0.35455 │ 0.49724999999999997 │ 0.49724999999999997 │              0.1742 │ 0.039349999999999996 │ 0.039349999999999996 │ 0.039349999999999996 │             0.14785 │             0.14785 │\n",
      "│       2642 │  2642 │ 2022-11-30 │  731915.1613137247 │             0.35455 │             0.35455 │ 0.49724999999999997 │ 0.49724999999999997 │              0.1742 │ 0.039349999999999996 │ 0.039349999999999996 │ 0.039349999999999996 │             0.14785 │             0.14785 │\n",
      "│       2642 │  2642 │ 2022-12-31 │   732306.301361138 │             0.35455 │             0.35455 │ 0.49724999999999997 │ 0.49724999999999997 │              0.1742 │ 0.039349999999999996 │ 0.039349999999999996 │ 0.039349999999999996 │             0.14785 │             0.14785 │\n",
      "│       2644 │  2644 │ 2020-01-31 │  370745.3398874324 │  0.2404333333333333 │              0.2209 │              0.1455 │              0.1458 │ 0.24083333333333334 │               0.3358 │  0.29496666666666665 │               0.3358 │ 0.16293333333333335 │              0.1581 │\n",
      "│       2644 │  2644 │ 2020-02-29 │  373166.6906726887 │  0.2404333333333333 │              0.2209 │              0.1455 │              0.1458 │ 0.24083333333333334 │               0.3358 │  0.29496666666666665 │               0.3358 │ 0.16293333333333335 │              0.1581 │\n",
      "│       2644 │  2644 │ 2020-03-31 │  376256.2588800348 │  0.2404333333333333 │              0.2209 │              0.1455 │              0.1458 │ 0.24083333333333334 │               0.3358 │  0.29496666666666665 │               0.3358 │ 0.16293333333333335 │              0.1581 │\n",
      "│       2644 │  2644 │ 2020-04-30 │  379223.3849523915 │  0.2404333333333333 │              0.2209 │              0.1455 │              0.1458 │ 0.24083333333333334 │               0.3358 │  0.29496666666666665 │               0.3358 │ 0.16293333333333335 │              0.1581 │\n",
      "│       2644 │  2644 │ 2020-05-31 │ 380350.16711279686 │  0.2404333333333333 │              0.2209 │              0.1455 │              0.1458 │ 0.24083333333333334 │               0.3358 │  0.29496666666666665 │               0.3358 │ 0.16293333333333335 │              0.1581 │\n",
      "│       2644 │  2644 │ 2020-06-30 │  380070.7871109053 │  0.2404333333333333 │              0.2209 │              0.1455 │              0.1458 │ 0.24083333333333334 │               0.3358 │  0.29496666666666665 │               0.3358 │ 0.16293333333333335 │              0.1581 │\n",
      "│       2644 │  2644 │ 2020-07-31 │ 379582.79845328606 │  0.2404333333333333 │              0.2209 │              0.1455 │              0.1458 │ 0.24083333333333334 │               0.3358 │  0.29496666666666665 │               0.3358 │ 0.16293333333333335 │              0.1581 │\n",
      "│       2644 │  2644 │ 2020-08-31 │  381285.1927799803 │  0.2404333333333333 │              0.2209 │              0.1455 │              0.1458 │ 0.24083333333333334 │               0.3358 │  0.29496666666666665 │               0.3358 │ 0.16293333333333335 │              0.1581 │\n",
      "│       2644 │  2644 │ 2020-09-30 │ 385986.80146248144 │  0.2404333333333333 │              0.2209 │              0.1455 │              0.1458 │ 0.24083333333333334 │               0.3358 │  0.29496666666666665 │               0.3358 │ 0.16293333333333335 │              0.1581 │\n",
      "│       2644 │  2644 │ 2020-10-31 │  393148.5332703533 │  0.2404333333333333 │              0.2209 │              0.1455 │              0.1458 │ 0.24083333333333334 │               0.3358 │  0.29496666666666665 │               0.3358 │ 0.16293333333333335 │              0.1581 │\n",
      "│       2644 │  2644 │ 2020-11-30 │  401822.7852336076 │  0.2404333333333333 │              0.2209 │              0.1455 │              0.1458 │ 0.24083333333333334 │               0.3358 │  0.29496666666666665 │               0.3358 │ 0.16293333333333335 │              0.1581 │\n",
      "│       2644 │  2644 │ 2020-12-31 │ 410387.42242934805 │  0.2404333333333333 │              0.2209 │              0.1455 │              0.1458 │ 0.24083333333333334 │               0.3358 │  0.29496666666666665 │               0.3358 │ 0.16293333333333335 │              0.1581 │\n",
      "│       2644 │  2644 │ 2022-01-31 │ 504064.11613377737 │ 0.26033333333333336 │              0.3054 │ 0.29619999999999996 │              0.2231 │  0.1769333333333333 │               0.3419 │   0.3283333333333333 │               0.3419 │ 0.22240000000000001 │              0.2192 │\n",
      "│       2644 │  2644 │ 2022-02-28 │ 514679.28467034135 │ 0.26033333333333336 │              0.3054 │ 0.29619999999999996 │              0.2231 │  0.1769333333333333 │               0.3419 │   0.3283333333333333 │               0.3419 │ 0.22240000000000001 │              0.2192 │\n",
      "│       2644 │  2644 │ 2022-03-31 │  525979.8363865442 │ 0.26033333333333336 │              0.3054 │ 0.29619999999999996 │              0.2231 │  0.1769333333333333 │               0.3419 │   0.3283333333333333 │               0.3419 │ 0.22240000000000001 │              0.2192 │\n",
      "│       2644 │  2644 │ 2022-04-30 │  536262.7819385926 │ 0.26033333333333336 │              0.3054 │ 0.29619999999999996 │              0.2231 │  0.1769333333333333 │               0.3419 │   0.3283333333333333 │               0.3419 │ 0.22240000000000001 │              0.2192 │\n",
      "│       2644 │  2644 │ 2022-05-31 │  544709.1795643729 │ 0.26033333333333336 │              0.3054 │ 0.29619999999999996 │              0.2231 │  0.1769333333333333 │               0.3419 │   0.3283333333333333 │               0.3419 │ 0.22240000000000001 │              0.2192 │\n",
      "│       2644 │  2644 │ 2022-06-30 │  551303.5725526517 │ 0.26033333333333336 │              0.3054 │ 0.29619999999999996 │              0.2231 │  0.1769333333333333 │               0.3419 │   0.3283333333333333 │               0.3419 │ 0.22240000000000001 │              0.2192 │\n",
      "│       2644 │  2644 │ 2022-07-31 │  555032.4372614868 │ 0.26033333333333336 │              0.3054 │ 0.29619999999999996 │              0.2231 │  0.1769333333333333 │               0.3419 │   0.3283333333333333 │               0.3419 │ 0.22240000000000001 │              0.2192 │\n",
      "│       2644 │  2644 │ 2022-08-31 │   555189.902886144 │ 0.26033333333333336 │              0.3054 │ 0.29619999999999996 │              0.2231 │  0.1769333333333333 │               0.3419 │   0.3283333333333333 │               0.3419 │ 0.22240000000000001 │              0.2192 │\n",
      "│       2644 │  2644 │ 2022-09-30 │  552353.2346292711 │ 0.26033333333333336 │              0.3054 │ 0.29619999999999996 │              0.2231 │  0.1769333333333333 │               0.3419 │   0.3283333333333333 │               0.3419 │ 0.22240000000000001 │              0.2192 │\n",
      "│       2644 │  2644 │ 2022-10-31 │   549832.247639144 │ 0.26033333333333336 │              0.3054 │ 0.29619999999999996 │              0.2231 │  0.1769333333333333 │               0.3419 │   0.3283333333333333 │               0.3419 │ 0.22240000000000001 │              0.2192 │\n",
      "│       2644 │  2644 │ 2022-11-30 │  548489.2426288915 │ 0.26033333333333336 │              0.3054 │ 0.29619999999999996 │              0.2231 │  0.1769333333333333 │               0.3419 │   0.3283333333333333 │               0.3419 │ 0.22240000000000001 │              0.2192 │\n",
      "│       2644 │  2644 │ 2022-12-31 │  548390.7482142666 │ 0.26033333333333336 │              0.3054 │ 0.29619999999999996 │              0.2231 │  0.1769333333333333 │               0.3419 │   0.3283333333333333 │               0.3419 │ 0.22240000000000001 │              0.2192 │\n",
      "│       2645 │  2645 │ 2020-01-31 │ 428309.61771619535 │             0.26235 │              0.2956 │ 0.36244999999999994 │             0.27875 │ 0.13593333333333335 │  0.30605000000000004 │   0.4279833333333333 │  0.30605000000000004 │ 0.27116666666666667 │              0.2861 │\n",
      "│       2645 │  2645 │ 2020-02-29 │  431817.6841007308 │             0.26235 │              0.2956 │ 0.36244999999999994 │             0.27875 │ 0.13593333333333335 │  0.30605000000000004 │   0.4279833333333333 │  0.30605000000000004 │ 0.27116666666666667 │              0.2861 │\n",
      "│       2645 │  2645 │ 2020-03-31 │ 436462.75747325766 │             0.26235 │              0.2956 │ 0.36244999999999994 │             0.27875 │ 0.13593333333333335 │  0.30605000000000004 │   0.4279833333333333 │  0.30605000000000004 │ 0.27116666666666667 │              0.2861 │\n",
      "│       2645 │  2645 │ 2020-04-30 │ 441031.23497427226 │             0.26235 │              0.2956 │ 0.36244999999999994 │             0.27875 │ 0.13593333333333335 │  0.30605000000000004 │   0.4279833333333333 │  0.30605000000000004 │ 0.27116666666666667 │              0.2861 │\n",
      "│       2645 │  2645 │ 2020-05-31 │ 444592.11069015577 │             0.26235 │              0.2956 │ 0.36244999999999994 │             0.27875 │ 0.13593333333333335 │  0.30605000000000004 │   0.4279833333333333 │  0.30605000000000004 │ 0.27116666666666667 │              0.2861 │\n",
      "│       2645 │  2645 │ 2020-06-30 │  445930.8419905799 │             0.26235 │              0.2956 │ 0.36244999999999994 │             0.27875 │ 0.13593333333333335 │  0.30605000000000004 │   0.4279833333333333 │  0.30605000000000004 │ 0.27116666666666667 │              0.2861 │\n",
      "│       2645 │  2645 │ 2020-07-31 │  445624.6536920026 │             0.26235 │              0.2956 │ 0.36244999999999994 │             0.27875 │ 0.13593333333333335 │  0.30605000000000004 │   0.4279833333333333 │  0.30605000000000004 │ 0.27116666666666667 │              0.2861 │\n",
      "│       2645 │  2645 │ 2020-08-31 │ 445887.23087336216 │             0.26235 │              0.2956 │ 0.36244999999999994 │             0.27875 │ 0.13593333333333335 │  0.30605000000000004 │   0.4279833333333333 │  0.30605000000000004 │ 0.27116666666666667 │              0.2861 │\n",
      "│       2645 │  2645 │ 2020-09-30 │  449125.0561137871 │             0.26235 │              0.2956 │ 0.36244999999999994 │             0.27875 │ 0.13593333333333335 │  0.30605000000000004 │   0.4279833333333333 │  0.30605000000000004 │ 0.27116666666666667 │              0.2861 │\n",
      "│       2645 │  2645 │ 2020-10-31 │  454279.9786824901 │             0.26235 │              0.2956 │ 0.36244999999999994 │             0.27875 │ 0.13593333333333335 │  0.30605000000000004 │   0.4279833333333333 │  0.30605000000000004 │ 0.27116666666666667 │              0.2861 │\n",
      "│       2645 │  2645 │ 2020-11-30 │  460615.6846823448 │             0.26235 │              0.2956 │ 0.36244999999999994 │             0.27875 │ 0.13593333333333335 │  0.30605000000000004 │   0.4279833333333333 │  0.30605000000000004 │ 0.27116666666666667 │              0.2861 │\n",
      "│       2645 │  2645 │ 2020-12-31 │   466857.042124158 │             0.26235 │              0.2956 │ 0.36244999999999994 │             0.27875 │ 0.13593333333333335 │  0.30605000000000004 │   0.4279833333333333 │  0.30605000000000004 │ 0.27116666666666667 │              0.2861 │\n",
      "│       2645 │  2645 │ 2022-01-31 │  573646.6006624828 │ 0.22085000000000002 │ 0.23315000000000002 │  0.3306166666666666 │             0.23935 │  0.1506333333333333 │  0.31984999999999997 │  0.35869999999999996 │  0.31984999999999997 │ 0.21853333333333333 │              0.2519 │\n",
      "├────────────┴───────┴────────────┴────────────────────┴─────────────────────┴─────────────────────┴─────────────────────┴─────────────────────┴─────────────────────┴──────────────────────┴──────────────────────┴──────────────────────┴─────────────────────┴─────────────────────┤\n",
      "│ ? rows (>9999 rows, 100 shown)                                                                                                                                                                                                                                           14 columns │\n",
      "└─────────────────────────────────────────────────────────────────────────────────────────────────────────────────────────────────────────────────────────────────────────────────────────────────────────────────────────────────────────────────────────────────────────────────────┘\n",
      "\n"
     ]
    }
   ],
   "source": [
    "con.sql(\"SELECT * FROM zillow_zhvi_sfr_zip_with_svi_silver ORDER BY zip, date\").show(max_rows=100)"
   ]
  },
  {
   "cell_type": "code",
   "execution_count": 16,
   "metadata": {},
   "outputs": [],
   "source": [
    "con.commit()\n",
    "con.close()"
   ]
  }
 ],
 "metadata": {
  "kernelspec": {
   "display_name": ".venv",
   "language": "python",
   "name": "python3"
  },
  "language_info": {
   "codemirror_mode": {
    "name": "ipython",
    "version": 3
   },
   "file_extension": ".py",
   "mimetype": "text/x-python",
   "name": "python",
   "nbconvert_exporter": "python",
   "pygments_lexer": "ipython3",
   "version": "3.11.9"
  }
 },
 "nbformat": 4,
 "nbformat_minor": 2
}

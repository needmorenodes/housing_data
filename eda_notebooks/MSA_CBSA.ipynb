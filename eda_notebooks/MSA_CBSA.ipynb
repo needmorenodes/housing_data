{
 "cells": [
  {
   "cell_type": "code",
   "execution_count": 111,
   "metadata": {},
   "outputs": [
    {
     "name": "stderr",
     "output_type": "stream",
     "text": [
      "d:\\NASA_Interview\\housing_data\\.venv\\Lib\\site-packages\\openpyxl\\styles\\stylesheet.py:237: UserWarning: Workbook contains no default style, apply openpyxl's default\n",
      "  warn(\"Workbook contains no default style, apply openpyxl's default\")\n",
      "d:\\NASA_Interview\\housing_data\\.venv\\Lib\\site-packages\\openpyxl\\styles\\stylesheet.py:237: UserWarning: Workbook contains no default style, apply openpyxl's default\n",
      "  warn(\"Workbook contains no default style, apply openpyxl's default\")\n"
     ]
    }
   ],
   "source": [
    "import pandas as pd\n",
    "from IPython.display import display, HTML\n",
    "\n",
    "df_zip_to_tract = pd.read_excel(\"../chosen_data/crosswalk/zip_tract_032022.xlsx\")\n",
    "df_zip_2_cbsa = pd.read_excel(\"../sample_data/zip_cbsa_122022.xlsx\")\n",
    "df_svi = pd.read_csv(\"../chosen_data/svi/SVI_2022_US.csv\")\n",
    "df_zillow_d2p = pd.read_csv(\"../chosen_data/zillow/Metro_mean_doz_pending_uc_sfrcondo_month.csv\")\n",
    "df_zillow_county_crosswalk = pd.read_csv(\"../chosen_data/zillow/CountyCrossWalk_Zillow.csv\")\n"
   ]
  },
  {
   "cell_type": "code",
   "execution_count": 112,
   "metadata": {},
   "outputs": [],
   "source": [
    "import duckdb\n",
    "\n",
    "duckdb.sql(\"\"\"\n",
    "CREATE OR REPLACE TABLE tract_to_zip AS\n",
    "    SELECT * FROM df_tract_to_zip;\n",
    "           \"\"\")\n",
    "\n",
    "duckdb.sql(\"\"\"\n",
    "CREATE OR REPLACE TABLE zip_2_cbsa AS\n",
    "    SELECT * FROM df_zip_2_cbsa;\n",
    "           \"\"\")\n",
    "\n",
    "duckdb.sql(\"\"\"\n",
    "CREATE OR REPLACE TABLE svi AS\n",
    "    SELECT * FROM df_svi;\n",
    "           \"\"\")\n",
    "\n",
    "duckdb.sql(\"\"\"\n",
    "CREATE OR REPLACE TABLE zillow_time2pending AS\n",
    "    SELECT * FROM df_zillow_d2p;\n",
    "           \"\"\")\n",
    "\n",
    "duckdb.sql(\"\"\"\n",
    "CREATE OR REPLACE TABLE zillow_county_crosswalk AS\n",
    "    SELECT * FROM df_zillow_county_crosswalk;\n",
    "           \"\"\")"
   ]
  },
  {
   "cell_type": "code",
   "execution_count": 115,
   "metadata": {},
   "outputs": [
    {
     "data": {
      "text/plain": [
       "┌────────────┬───────┬────────────────────┬─────────────────────┬──────────────────────┬────────────────────┬───────────┬─────────────────────┐\n",
       "│   TRACT    │  ZIP  │ USPS_ZIP_PREF_CITY │ USPS_ZIP_PREF_STATE │      RES_RATIO       │     BUS_RATIO      │ OTH_RATIO │      TOT_RATIO      │\n",
       "│   int64    │ int64 │       double       │       double        │        double        │       double       │  double   │       double        │\n",
       "├────────────┼───────┼────────────────────┼─────────────────────┼──────────────────────┼────────────────────┼───────────┼─────────────────────┤\n",
       "│ 1001020100 │ 36067 │               NULL │                NULL │                  1.0 │                1.0 │       1.0 │                 1.0 │\n",
       "│ 1001020200 │ 36067 │               NULL │                NULL │                  1.0 │                1.0 │       1.0 │                 1.0 │\n",
       "│ 1001020300 │ 36067 │               NULL │                NULL │                  1.0 │                1.0 │       1.0 │                 1.0 │\n",
       "│ 1001020400 │ 36067 │               NULL │                NULL │ 0.024141630901287552 │ 0.5838509316770186 │      0.25 │ 0.07006369426751592 │\n",
       "│ 1001020400 │ 36066 │               NULL │                NULL │   0.9758583690987125 │ 0.4161490683229814 │      0.75 │  0.9299363057324841 │\n",
       "└────────────┴───────┴────────────────────┴─────────────────────┴──────────────────────┴────────────────────┴───────────┴─────────────────────┘"
      ]
     },
     "execution_count": 115,
     "metadata": {},
     "output_type": "execute_result"
    }
   ],
   "source": [
    "duckdb.sql(\"SELECT * FROM tract_to_zip LIMIT 5\")"
   ]
  },
  {
   "cell_type": "code",
   "execution_count": 113,
   "metadata": {},
   "outputs": [
    {
     "data": {
      "text/plain": [
       "┌───────┬───────┬────────────────────┬─────────────────────┬────────────────────────┬───────────┬───────────┬────────────────────────┐\n",
       "│  ZIP  │ CBSA  │ USPS_ZIP_PREF_CITY │ USPS_ZIP_PREF_STATE │       RES_RATIO        │ BUS_RATIO │ OTH_RATIO │       TOT_RATIO        │\n",
       "│ int64 │ int64 │      varchar       │       varchar       │         double         │  double   │  double   │         double         │\n",
       "├───────┼───────┼────────────────────┼─────────────────────┼────────────────────────┼───────────┼───────────┼────────────────────────┤\n",
       "│   683 │ 41900 │ SAN GERMAN         │ PR                  │     0.9998426188227888 │       1.0 │       1.0 │     0.9998552926705737 │\n",
       "│   683 │ 32420 │ SAN GERMAN         │ PR                  │ 0.00015738117721120554 │       0.0 │       0.0 │ 0.00014470732942623544 │\n",
       "│   923 │ 41980 │ SAN JUAN           │ PR                  │                    1.0 │       1.0 │       1.0 │                    1.0 │\n",
       "│  1010 │ 44140 │ BRIMFIELD          │ MA                  │     0.9770453207769276 │       1.0 │       1.0 │     0.9779536461277558 │\n",
       "│  1010 │ 49340 │ BRIMFIELD          │ MA                  │   0.022954679223072396 │       0.0 │       0.0 │   0.022046353872244205 │\n",
       "└───────┴───────┴────────────────────┴─────────────────────┴────────────────────────┴───────────┴───────────┴────────────────────────┘"
      ]
     },
     "execution_count": 113,
     "metadata": {},
     "output_type": "execute_result"
    }
   ],
   "source": [
    "duckdb.sql(\"SELECT * FROM zip_2_cbsa LIMIT 10\")"
   ]
  },
  {
   "cell_type": "code",
   "execution_count": 114,
   "metadata": {},
   "outputs": [
    {
     "data": {
      "text/plain": [
       "┌────────────┬──────────────┬───────────┬────────────┬──────────────────┬───────────────────────────────────────┬───────────────────────┬──────────────────────┬───────┬──────────┐\n",
       "│ CountyName │  StateName   │ StateFIPS │ CountyFIPS │ MetroName_Zillow │               CBSAName                │ CountyRegionID_Zillow │ MetroRegionID_Zillow │ FIPS  │ CBSACode │\n",
       "│  varchar   │   varchar    │   int64   │   int64    │     varchar      │                varchar                │         int64         │        double        │ int64 │  double  │\n",
       "├────────────┼──────────────┼───────────┼────────────┼──────────────────┼───────────────────────────────────────┼───────────────────────┼──────────────────────┼───────┼──────────┤\n",
       "│ Pike       │ Pennsylvania │        42 │        103 │ New York, NY     │ New York-Newark-Jersey City, NY-NJ-PA │                   280 │             394913.0 │ 42103 │  35620.0 │\n",
       "│ Bronx      │ New York     │        36 │          5 │ New York, NY     │ New York-Newark-Jersey City, NY-NJ-PA │                   401 │             394913.0 │ 36005 │  35620.0 │\n",
       "│ Essex      │ New Jersey   │        34 │         13 │ New York, NY     │ New York-Newark-Jersey City, NY-NJ-PA │                   504 │             394913.0 │ 34013 │  35620.0 │\n",
       "│ Kings      │ New York     │        36 │         47 │ New York, NY     │ New York-Newark-Jersey City, NY-NJ-PA │                   581 │             394913.0 │ 36047 │  35620.0 │\n",
       "│ Ocean      │ New Jersey   │        34 │         29 │ New York, NY     │ New York-Newark-Jersey City, NY-NJ-PA │                   659 │             394913.0 │ 34029 │  35620.0 │\n",
       "└────────────┴──────────────┴───────────┴────────────┴──────────────────┴───────────────────────────────────────┴───────────────────────┴──────────────────────┴───────┴──────────┘"
      ]
     },
     "execution_count": 114,
     "metadata": {},
     "output_type": "execute_result"
    }
   ],
   "source": [
    "duckdb.sql(\"SELECT * FROM zillow_county_crosswalk LIMIT 5\")"
   ]
  },
  {
   "cell_type": "markdown",
   "metadata": {},
   "source": [
    " NEED TO MAKE WORK FOR MULTIPLE DATE RANGES"
   ]
  },
  {
   "cell_type": "code",
   "execution_count": 149,
   "metadata": {},
   "outputs": [],
   "source": [
    "duckdb.sql(\"\"\"\n",
    "CREATE OR REPLACE TABLE zillow_tract_crosswalk AS \n",
    "WITH \n",
    "    disinct_ziptract AS (SELECT ZIP AS zip, TRACT AS tract FROM tract_to_zip GROUP BY ZIP, TRACT),\n",
    "    disinct_cbsazip AS (SELECT CBSA AS cbsa, ZIP AS zip, FROM zip_2_cbsa GROUP BY CBSA, ZIP),\n",
    "    disinct_zillowcbsa AS (SELECT MetroRegionID_Zillow AS zillow_code, CBSACode AS cbsa FROM zillow_county_crosswalk GROUP BY MetroRegionID_Zillow, CBSACode),\n",
    "    zillow_zip AS (SELECT zillow_code, disinct_zillowcbsa.cbsa, disinct_cbsazip.zip FROM disinct_zillowcbsa LEFT JOIN disinct_cbsazip ON disinct_zillowcbsa.cbsa = disinct_cbsazip.cbsa)\n",
    "SELECT zillow_code, tract FROM zillow_zip LEFT JOIN disinct_ziptract ON (zillow_zip.zip = disinct_ziptract.zip) GROUP BY zillow_code, tract)\n",
    "\"\"\")"
   ]
  },
  {
   "cell_type": "code",
   "execution_count": 150,
   "metadata": {},
   "outputs": [
    {
     "data": {
      "text/plain": [
       "┌─────────────┬─────────────┐\n",
       "│ zillow_code │    tract    │\n",
       "│   double    │    int64    │\n",
       "├─────────────┼─────────────┤\n",
       "│    394331.0 │ 18151971000 │\n",
       "│    394325.0 │ 19169000800 │\n",
       "│    395030.0 │ 27049080700 │\n",
       "│    394625.0 │ 17095000100 │\n",
       "│    394735.0 │ 20209044104 │\n",
       "│    394437.0 │  8043979400 │\n",
       "│    394484.0 │  8041007601 │\n",
       "│    394638.0 │ 31079000100 │\n",
       "│    395054.0 │ 48451001600 │\n",
       "│    394459.0 │ 51065020300 │\n",
       "│        ·    │      ·      │\n",
       "│        ·    │      ·      │\n",
       "│        ·    │      ·      │\n",
       "│    395012.0 │ 37183053602 │\n",
       "│    394549.0 │ 37183053602 │\n",
       "│    394332.0 │ 26161411900 │\n",
       "│    395183.0 │  6113010512 │\n",
       "│    394913.0 │ 36047025800 │\n",
       "│    394952.0 │  6111008303 │\n",
       "│    394974.0 │ 34011020200 │\n",
       "│    394976.0 │  4013319104 │\n",
       "│    394727.0 │ 42013100900 │\n",
       "│    394532.0 │ 26163543500 │\n",
       "├─────────────┴─────────────┤\n",
       "│ ? rows          2 columns │\n",
       "└───────────────────────────┘"
      ]
     },
     "execution_count": 150,
     "metadata": {},
     "output_type": "execute_result"
    }
   ],
   "source": [
    "duckdb.sql(\"SELECT * FROM zillow_tract_crosswalk\")"
   ]
  }
 ],
 "metadata": {
  "kernelspec": {
   "display_name": ".venv",
   "language": "python",
   "name": "python3"
  },
  "language_info": {
   "codemirror_mode": {
    "name": "ipython",
    "version": 3
   },
   "file_extension": ".py",
   "mimetype": "text/x-python",
   "name": "python",
   "nbconvert_exporter": "python",
   "pygments_lexer": "ipython3",
   "version": "3.11.9"
  }
 },
 "nbformat": 4,
 "nbformat_minor": 2
}
